{
 "cells": [
  {
   "cell_type": "markdown",
   "metadata": {},
   "source": [
    "[![pythonista](img/pythonista.png)](https://www.pythonista.io)"
   ]
  },
  {
   "cell_type": "markdown",
   "metadata": {
    "tags": []
   },
   "source": [
    "# ```Tipos de JOIN```."
   ]
  },
  {
   "cell_type": "markdown",
   "metadata": {},
   "source": [
    "JOIN es una operación fundamental en *Spark SQL* que permite combinar datos de múltiples fuentes basándose en una o más columnas comunes. Esta operación es esencial para el análisis de datos y la creación de relaciones entre conjuntos de datos diferentes."
   ]
  },
  {
   "cell_type": "code",
   "execution_count": null,
   "metadata": {},
   "outputs": [],
   "source": [
    "import pandas as pd\n",
    "from pyspark.sql import SparkSession\n",
    "spark = SparkSession.builder.appName(\"JOINS\").getOrCreate()\n",
    "ct = spark.sparkContext\n",
    "%load_ext sparksql_magic"
   ]
  },
  {
   "cell_type": "markdown",
   "metadata": {},
   "source": [
    "Los diversos usos de `JOIN` nos permite unir dos tablas a partir de una coindición que permita ligarlas ambas.\n",
    "\n",
    "```\n",
    "SELECT <cols> FROM <tabla izq> <TIPO> JOIN <tabla der> ON <condicion>\n",
    "```\n",
    "\n",
    "* https://spark.apache.org/docs/latest/sql-ref-syntax-qry-select-join.html"
   ]
  },
  {
   "cell_type": "markdown",
   "metadata": {},
   "source": [
    "## Tablas ilustrativas."
   ]
  },
  {
   "cell_type": "markdown",
   "metadata": {},
   "source": [
    "Se definirán las tablas temporales ```zona_1``` y ```zona_2```. Cada una de ellas tiene las columnas:\n",
    "\n",
    "* ```animal```\n",
    "* ```poblacion```\n"
   ]
  },
  {
   "cell_type": "code",
   "execution_count": null,
   "metadata": {},
   "outputs": [],
   "source": [
    "spark.createDataFrame(pd.DataFrame(\n",
    "    {'animal':['zorro', \n",
    "               'conejo',\n",
    "               'liebre', \n",
    "               'halcón'],\n",
    "     'poblacion':[12,\n",
    "                  436,\n",
    "                  315,\n",
    "                  7]\n",
    "    })).createOrReplaceTempView('zona_1')"
   ]
  },
  {
   "cell_type": "code",
   "execution_count": null,
   "metadata": {},
   "outputs": [],
   "source": [
    "%%sparksql\n",
    "SELECT * \n",
    "FROM zona_1;"
   ]
  },
  {
   "cell_type": "code",
   "execution_count": null,
   "metadata": {},
   "outputs": [],
   "source": [
    "spark.createDataFrame(pd.DataFrame(\n",
    "    {'animal':['conejo',\n",
    "               'jabalí',\n",
    "               'venado',\n",
    "               'jaguar',\n",
    "               'águila',\n",
    "               'halcón'],\n",
    "     'poblacion':[2015,\n",
    "                  450,\n",
    "                  56,\n",
    "                  2,\n",
    "                  30,\n",
    "                  25]\n",
    "    })).createOrReplaceTempView('zona_2')"
   ]
  },
  {
   "cell_type": "code",
   "execution_count": null,
   "metadata": {},
   "outputs": [],
   "source": [
    "%%sparksql\n",
    "SELECT * \n",
    "FROM zona_2;"
   ]
  },
  {
   "cell_type": "markdown",
   "metadata": {},
   "source": [
    "### ```JOIN```.\n",
    "\n",
    "La claúsula `JOIN` se comporta de manera similar a un `INNER JOIN`."
   ]
  },
  {
   "cell_type": "code",
   "execution_count": null,
   "metadata": {},
   "outputs": [],
   "source": [
    "%%sparksql\n",
    "SELECT\n",
    "    izq.animal, \n",
    "    izq.poblacion\n",
    "FROM zona_1 AS izq\n",
    "JOIN zona_2 AS der\n",
    "    ON izq.animal = der.animal;"
   ]
  },
  {
   "cell_type": "code",
   "execution_count": null,
   "metadata": {},
   "outputs": [],
   "source": [
    "%%sparksql\n",
    "SELECT \n",
    "    izq.animal, \n",
    "    izq.poblacion AS pob_izq, \n",
    "    der.poblacion AS pob_der\n",
    "FROM zona_1 AS izq\n",
    "JOIN zona_2 AS der\n",
    "    ON izq.animal = der.animal;"
   ]
  },
  {
   "cell_type": "markdown",
   "metadata": {},
   "source": [
    "### ```INNER JOIN```.\n",
    "\n",
    "El `INNER JOIN` devuelve solo las filas que tienen coincidencias en ambas tablas. Es decir, las filas que cumplen con la condición de `JOIN`."
   ]
  },
  {
   "cell_type": "code",
   "execution_count": null,
   "metadata": {
    "scrolled": true
   },
   "outputs": [],
   "source": [
    "spark.sql('''\n",
    "            SELECT \n",
    "                izq.animal, \n",
    "                izq.poblacion \n",
    "            FROM zona_1 AS izq\n",
    "            INNER JOIN zona_2 AS der\n",
    "                ON izq.animal = der.animal;\n",
    "            ''').toPandas()"
   ]
  },
  {
   "cell_type": "code",
   "execution_count": null,
   "metadata": {},
   "outputs": [],
   "source": [
    "spark.sql('''\n",
    "            SELECT \n",
    "                der.animal,\n",
    "                der.poblacion \n",
    "            FROM zona_1 AS izq\n",
    "            INNER JOIN zona_2 AS der\n",
    "                ON izq.animal = der.animal;\n",
    "            ''').toPandas()"
   ]
  },
  {
   "cell_type": "markdown",
   "metadata": {},
   "source": [
    "### ```LEFT JOIN```.\n",
    "\n",
    "El `LEFT JOIN` devuelve todas las filas de la tabla izquierda y las filas coincidentes de la tabla derecha. Si no hay coincidencias en la tabla derecha, se rellena con valores nulos."
   ]
  },
  {
   "cell_type": "code",
   "execution_count": null,
   "metadata": {
    "scrolled": true
   },
   "outputs": [],
   "source": [
    "%%sparksql\n",
    "SELECT \n",
    "    izq.animal,\n",
    "    izq.poblacion \n",
    "FROM zona_1 AS izq\n",
    "LEFT JOIN zona_2 AS der\n",
    "    ON izq.animal = der.animal;"
   ]
  },
  {
   "cell_type": "code",
   "execution_count": null,
   "metadata": {
    "scrolled": true
   },
   "outputs": [],
   "source": [
    "%%sparksql\n",
    "SELECT \n",
    "    der.animal,\n",
    "    der.poblacion \n",
    "FROM zona_1 AS izq\n",
    "LEFT JOIN zona_2 AS der\n",
    "    ON izq.animal = der.animal;"
   ]
  },
  {
   "cell_type": "code",
   "execution_count": null,
   "metadata": {},
   "outputs": [],
   "source": [
    "%%sparksql\n",
    "SELECT\n",
    "    izq.animal,\n",
    "    izq.poblacion AS pob_izq,\n",
    "    der.poblacion AS pob_der \n",
    "FROM zona_1 AS izq\n",
    "LEFT JOIN zona_2 AS der\n",
    "    ON izq.animal = der.animal;"
   ]
  },
  {
   "cell_type": "markdown",
   "metadata": {},
   "source": [
    "### ```RIGHT JOIN```.\n",
    "\n",
    "El `RIGHT JOIN` es similar al `LEFT JOIN`, pero devuelve todas las filas de la tabla derecha y las filas coincidentes de la tabla izquierda."
   ]
  },
  {
   "cell_type": "code",
   "execution_count": null,
   "metadata": {},
   "outputs": [],
   "source": [
    "%%sparksql\n",
    "SELECT\n",
    "    izq.animal,\n",
    "    izq.poblacion \n",
    "FROM zona_1 AS izq\n",
    "RIGHT JOIN zona_2 AS der\n",
    "    ON izq.animal = der.animal;"
   ]
  },
  {
   "cell_type": "code",
   "execution_count": null,
   "metadata": {
    "scrolled": false
   },
   "outputs": [],
   "source": [
    "%%sparksql\n",
    "SELECT\n",
    "    der.animal,\n",
    "    der.poblacion \n",
    "FROM zona_1 AS izq\n",
    "RIGHT JOIN zona_2 AS der\n",
    "    ON izq.animal = der.animal;"
   ]
  },
  {
   "cell_type": "code",
   "execution_count": null,
   "metadata": {},
   "outputs": [],
   "source": [
    "%%sparksql\n",
    "SELECT\n",
    "    der.animal,\n",
    "    izq.poblacion AS pob_izq, \n",
    "    der.poblacion AS pob_der \n",
    "FROM zona_1 AS izq\n",
    "RIGHT JOIN zona_2 AS der\n",
    "    ON izq.animal = der.animal;"
   ]
  },
  {
   "cell_type": "markdown",
   "metadata": {},
   "source": [
    "### ```FULL OUTER JOIN```.\n",
    "\n",
    "El `FULL OUTER JOIN` devuelve todas las filas cuando hay una coincidencia en una de las tablas. Si no hay coincidencias, se rellena con valores nulos en ambas tablas."
   ]
  },
  {
   "cell_type": "code",
   "execution_count": null,
   "metadata": {
    "scrolled": false
   },
   "outputs": [],
   "source": [
    "spark.sql('''\n",
    "            SELECT\n",
    "                izq.animal,\n",
    "                izq.poblacion \n",
    "            FROM zona_1 AS izq\n",
    "            FULL OUTER JOIN zona_2 AS der\n",
    "                ON izq.animal = der.animal;\n",
    "            ''').toPandas()"
   ]
  },
  {
   "cell_type": "code",
   "execution_count": null,
   "metadata": {},
   "outputs": [],
   "source": [
    "spark.sql('''\n",
    "            SELECT \n",
    "                der.animal,\n",
    "                der.poblacion \n",
    "            FROM zona_1 AS izq\n",
    "            FULL OUTER JOIN zona_2 AS der\n",
    "                ON izq.animal = der.animal;\n",
    "            ''').toPandas()"
   ]
  },
  {
   "cell_type": "code",
   "execution_count": null,
   "metadata": {},
   "outputs": [],
   "source": [
    "spark.sql('''\n",
    "            SELECT\n",
    "                CASE \n",
    "                    WHEN izq.animal IS NULL THEN der.animal\n",
    "                    ELSE izq.animal\n",
    "                END AS animal, \n",
    "                der.poblacion AS pob_der,\n",
    "                izq.poblacion AS pob_izq\n",
    "            FROM zona_1 AS izq\n",
    "            FULL OUTER JOIN zona_2 AS der\n",
    "                ON izq.animal = der.animal;\n",
    "            ''').toPandas()"
   ]
  },
  {
   "cell_type": "markdown",
   "metadata": {},
   "source": [
    "### ```LEFT SEMI JOIN```.\n",
    "\n",
    "El `LEFT SEMI JOIN` es una operación de `JOIN` que devuelve todas las filas de la tabla izquierda (tabla principal) donde hay una coincidencia en la tabla derecha (tabla secundaria) en función de una condición especificada. Sin embargo, a diferencia de un `INNER JOIN` que devuelve todas las columnas de ambas tablas, el `LEFT SEMI JOIN` solo devuelve las columnas de la tabla izquierda. En otras palabras, se utiliza para filtrar la tabla principal en función de la existencia de registros coincidentes en la tabla secundaria."
   ]
  },
  {
   "cell_type": "code",
   "execution_count": null,
   "metadata": {
    "scrolled": true
   },
   "outputs": [],
   "source": [
    "%%sparksql\n",
    "SELECT\n",
    "    izq.animal,\n",
    "    izq.poblacion \n",
    "FROM zona_1 AS izq\n",
    "LEFT SEMI JOIN zona_2 AS der\n",
    "    ON izq.animal = der.animal;"
   ]
  },
  {
   "cell_type": "markdown",
   "metadata": {},
   "source": [
    "* La siguiente celda regresará un error."
   ]
  },
  {
   "cell_type": "code",
   "execution_count": null,
   "metadata": {},
   "outputs": [],
   "source": [
    "%%sparksql\n",
    "SELECT\n",
    "    der.animal,\n",
    "    der.poblacion \n",
    "FROM zona_1 AS izq\n",
    "LEFT SEMI JOIN zona_2 AS der\n",
    "    ON izq.animal = der.animal;"
   ]
  },
  {
   "cell_type": "markdown",
   "metadata": {},
   "source": [
    "### ```LEFT ANTI JOIN```.\n",
    "\n",
    "El `LEFT ANTI JOIN` es similar al `LEFT SEMII JOIN`, pero en lugar de devolver las filas de la tabla principal donde hay coincidencias en la tabla secundaria, devuelve las filas de la tabla principal donde NO hay coincidencias en la tabla secundaria. Es útil para identificar registros en la tabla principal que no tienen correspondencia en la tabla secundaria."
   ]
  },
  {
   "cell_type": "code",
   "execution_count": null,
   "metadata": {
    "scrolled": false
   },
   "outputs": [],
   "source": [
    "%% sparksql\n",
    "SELECT \n",
    "    izq.animal, \n",
    "    izq.poblacion \n",
    "FROM zona_1 AS izq\n",
    "LEFT ANTI JOIN zona_2 AS der\n",
    "    ON izq.animal = der.animal;"
   ]
  },
  {
   "cell_type": "markdown",
   "metadata": {},
   "source": [
    "### `CROSS JOIN`.\n",
    "\n",
    "El `CROSS JOIN` es una operación de `JOIN` que combina cada fila de la tabla izquierda con cada fila de la tabla derecha, generando un conjunto de resultados que es el producto cartesiano de ambas tablas. Esto significa que cada fila de la tabla izquierda se combina con todas las filas de la tabla derecha, lo que puede resultar en un gran número de filas en el conjunto de resultados, especialmente si ambas tablas son grandes. El `CROSS JOIN` se utiliza con precaución, ya que puede generar resultados masivos y consumir muchos recursos."
   ]
  },
  {
   "cell_type": "code",
   "execution_count": null,
   "metadata": {},
   "outputs": [],
   "source": [
    "spark.sql('''\n",
    "             SELECT\n",
    "                 izq.animal AS animal_izq, \n",
    "                 der.animal AS animal_der,\n",
    "                 der.poblacion AS pob_der,\n",
    "                 izq.poblacion AS pob_izq\n",
    "            FROM zona_1 AS izq\n",
    "            CROSS JOIN zona_2 AS der''').toPandas()"
   ]
  },
  {
   "cell_type": "code",
   "execution_count": null,
   "metadata": {},
   "outputs": [],
   "source": [
    "%%sparksql\n",
    "SELECT\n",
    "    izq.animal AS animal_izq, \n",
    "    der.animal AS animal_der,\n",
    "    der.poblacion AS pob_der,\n",
    "    izq.poblacion AS pob_izq\n",
    "FROM zona_1 AS izq, zona_2 AS der;"
   ]
  },
  {
   "cell_type": "markdown",
   "metadata": {},
   "source": [
    "<p style=\"text-align: center\"><a rel=\"license\" href=\"http://creativecommons.org/licenses/by/4.0/\"><img alt=\"Licencia Creative Commons\" style=\"border-width:0\" src=\"https://i.creativecommons.org/l/by/4.0/80x15.png\" /></a><br />Esta obra está bajo una <a rel=\"license\" href=\"http://creativecommons.org/licenses/by/4.0/\">Licencia Creative Commons Atribución 4.0 Internacional</a>.</p>\n",
    "<p style=\"text-align: center\">&copy; José Luis Chiquete Valdivieso. 2023.</p>"
   ]
  }
 ],
 "metadata": {
  "kernelspec": {
   "display_name": "Python 3 (ipykernel)",
   "language": "python",
   "name": "python3"
  },
  "language_info": {
   "codemirror_mode": {
    "name": "ipython",
    "version": 3
   },
   "file_extension": ".py",
   "mimetype": "text/x-python",
   "name": "python",
   "nbconvert_exporter": "python",
   "pygments_lexer": "ipython3",
   "version": "3.10.9"
  }
 },
 "nbformat": 4,
 "nbformat_minor": 4
}
