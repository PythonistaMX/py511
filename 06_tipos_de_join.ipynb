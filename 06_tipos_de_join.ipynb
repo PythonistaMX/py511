{
 "cells": [
  {
   "cell_type": "markdown",
   "metadata": {},
   "source": [
    "[![pythonista](img/pythonista.png)](https://www.pythonista.io)"
   ]
  },
  {
   "cell_type": "markdown",
   "metadata": {
    "tags": []
   },
   "source": [
    "# ```Tipos de JOIN```."
   ]
  },
  {
   "cell_type": "markdown",
   "metadata": {},
   "source": [
    "````JOIN``` nos permite unir dos tablas a partir de una coindición que permita ligarlas ambas.\n",
    "\n",
    "```\n",
    "SELECT <cols> FROM <tabla izq> <TIPO> JOIN <tabla der> ON <condicion>\n",
    "```"
   ]
  },
  {
   "cell_type": "markdown",
   "metadata": {},
   "source": [
    "https://spark.apache.org/docs/latest/sql-ref-syntax-qry-select-join.html"
   ]
  },
  {
   "cell_type": "code",
   "execution_count": null,
   "metadata": {},
   "outputs": [],
   "source": [
    "import pandas as pd\n",
    "from pyspark.sql import SparkSession\n",
    "spark = SparkSession.builder.appName(\"JOINS\").getOrCreate()\n",
    "ct = spark.sparkContext"
   ]
  },
  {
   "cell_type": "markdown",
   "metadata": {},
   "source": [
    "## Tablas ilustrativas."
   ]
  },
  {
   "cell_type": "markdown",
   "metadata": {},
   "source": [
    "Se definirán las tablas temporales ```zona_1``` y ```zona_2```. Cada una de ellas tiene las columnas:\n",
    "\n",
    "* ```animal```\n",
    "* ```poblacion```\n"
   ]
  },
  {
   "cell_type": "code",
   "execution_count": null,
   "metadata": {},
   "outputs": [],
   "source": [
    "spark.createDataFrame(pd.DataFrame(\n",
    "    {'animal':['zorro', \n",
    "               'conejo',\n",
    "               'liebre', \n",
    "               'halcón'],\n",
    "     'poblacion':[12,\n",
    "                  436,\n",
    "                  315,\n",
    "                  7]\n",
    "    })).createOrReplaceTempView('zona_1')"
   ]
  },
  {
   "cell_type": "code",
   "execution_count": null,
   "metadata": {},
   "outputs": [],
   "source": [
    "spark.sql('''SELECT * \n",
    "             FROM zona_1;''').toPandas()"
   ]
  },
  {
   "cell_type": "code",
   "execution_count": null,
   "metadata": {},
   "outputs": [],
   "source": [
    "spark.createDataFrame(pd.DataFrame(\n",
    "    {'animal':['conejo',\n",
    "               'jabalí',\n",
    "               'venado',\n",
    "               'jaguar',\n",
    "               'águila',\n",
    "               'halcón'],\n",
    "     'poblacion':[2015,\n",
    "                  450,\n",
    "                  56,\n",
    "                  2,\n",
    "                  30,\n",
    "                  25]\n",
    "    })).createOrReplaceTempView('zona_2')"
   ]
  },
  {
   "cell_type": "code",
   "execution_count": null,
   "metadata": {},
   "outputs": [],
   "source": [
    "spark.sql('''\n",
    "            SELECT * \n",
    "            FROM zona_2;\n",
    "            ''').toPandas()"
   ]
  },
  {
   "cell_type": "markdown",
   "metadata": {},
   "source": [
    "### ```JOIN```"
   ]
  },
  {
   "cell_type": "code",
   "execution_count": null,
   "metadata": {},
   "outputs": [],
   "source": [
    "spark.sql('''\n",
    "            SELECT\n",
    "                izq.animal, \n",
    "                izq.poblacion\n",
    "            FROM zona_1 AS izq\n",
    "            JOIN zona_2 AS der\n",
    "                ON izq.animal = der.animal;\n",
    "            ''').toPandas()"
   ]
  },
  {
   "cell_type": "code",
   "execution_count": null,
   "metadata": {},
   "outputs": [],
   "source": [
    "spark.sql('''\n",
    "            SELECT \n",
    "                izq.animal, \n",
    "                izq.poblacion AS pob_izq, \n",
    "                der.poblacion AS pob_der\n",
    "            FROM zona_1 AS izq\n",
    "            JOIN zona_2 AS der\n",
    "                ON izq.animal = der.animal;\n",
    "             ''').toPandas()"
   ]
  },
  {
   "cell_type": "markdown",
   "metadata": {},
   "source": [
    "### ```INNER JOIN```"
   ]
  },
  {
   "cell_type": "code",
   "execution_count": null,
   "metadata": {
    "scrolled": true
   },
   "outputs": [],
   "source": [
    "spark.sql('''\n",
    "            SELECT \n",
    "                izq.animal, \n",
    "                izq.poblacion \n",
    "            FROM zona_1 AS izq\n",
    "            INNER JOIN zona_2 AS der\n",
    "                ON izq.animal = der.animal;\n",
    "            ''').toPandas()"
   ]
  },
  {
   "cell_type": "code",
   "execution_count": null,
   "metadata": {},
   "outputs": [],
   "source": [
    "spark.sql('''\n",
    "            SELECT \n",
    "                der.animal,\n",
    "                der.poblacion \n",
    "            FROM zona_1 AS izq\n",
    "            INNER JOIN zona_2 AS der\n",
    "                ON izq.animal = der.animal;\n",
    "            ''').toPandas()"
   ]
  },
  {
   "cell_type": "markdown",
   "metadata": {},
   "source": [
    "### ```LEFT JOIN```"
   ]
  },
  {
   "cell_type": "code",
   "execution_count": null,
   "metadata": {
    "scrolled": true
   },
   "outputs": [],
   "source": [
    "spark.sql('''\n",
    "            SELECT \n",
    "                izq.animal,\n",
    "                izq.poblacion \n",
    "            FROM zona_1 AS izq\n",
    "            LEFT JOIN zona_2 AS der\n",
    "                ON izq.animal = der.animal;\n",
    "            ''').toPandas()"
   ]
  },
  {
   "cell_type": "code",
   "execution_count": null,
   "metadata": {
    "scrolled": true
   },
   "outputs": [],
   "source": [
    "spark.sql('''\n",
    "            SELECT \n",
    "                der.animal,\n",
    "                der.poblacion \n",
    "            FROM zona_1 AS izq\n",
    "            LEFT JOIN zona_2 AS der\n",
    "                ON izq.animal = der.animal;\n",
    "            ''').toPandas()"
   ]
  },
  {
   "cell_type": "code",
   "execution_count": null,
   "metadata": {},
   "outputs": [],
   "source": [
    "spark.sql('''\n",
    "            SELECT\n",
    "                izq.animal,\n",
    "                izq.poblacion AS pob_izq,\n",
    "                der.poblacion AS pob_der \n",
    "            FROM zona_1 AS izq\n",
    "            LEFT JOIN zona_2 AS der\n",
    "                ON izq.animal = der.animal;\n",
    "            ''').toPandas()"
   ]
  },
  {
   "cell_type": "markdown",
   "metadata": {},
   "source": [
    "### ```RIGHT JOIN```"
   ]
  },
  {
   "cell_type": "code",
   "execution_count": null,
   "metadata": {},
   "outputs": [],
   "source": [
    "spark.sql('''\n",
    "            SELECT\n",
    "                izq.animal,\n",
    "                izq.poblacion \n",
    "            FROM zona_1 AS izq\n",
    "            RIGHT JOIN zona_2 AS der\n",
    "                ON izq.animal = der.animal;\n",
    "            ''').toPandas()"
   ]
  },
  {
   "cell_type": "code",
   "execution_count": null,
   "metadata": {
    "scrolled": false
   },
   "outputs": [],
   "source": [
    "spark.sql('''\n",
    "            SELECT\n",
    "                der.animal,\n",
    "                der.poblacion \n",
    "            FROM zona_1 AS izq\n",
    "            RIGHT JOIN zona_2 AS der\n",
    "                ON izq.animal = der.animal;\n",
    "            ''').toPandas()"
   ]
  },
  {
   "cell_type": "code",
   "execution_count": null,
   "metadata": {},
   "outputs": [],
   "source": [
    "spark.sql('''\n",
    "            SELECT\n",
    "                der.animal,\n",
    "                izq.poblacion AS pob_izq, \n",
    "                der.poblacion AS pob_der \n",
    "            FROM zona_1 AS izq\n",
    "            RIGHT JOIN zona_2 AS der\n",
    "                ON izq.animal = der.animal;\n",
    "            ''').toPandas()"
   ]
  },
  {
   "cell_type": "markdown",
   "metadata": {},
   "source": [
    "### ```FULL OUTER JOIN```"
   ]
  },
  {
   "cell_type": "code",
   "execution_count": null,
   "metadata": {
    "scrolled": false
   },
   "outputs": [],
   "source": [
    "spark.sql('''\n",
    "            SELECT\n",
    "                izq.animal,\n",
    "                izq.poblacion \n",
    "            FROM zona_1 AS izq\n",
    "            FULL OUTER JOIN zona_2 AS der\n",
    "                ON izq.animal = der.animal;\n",
    "            ''').toPandas()"
   ]
  },
  {
   "cell_type": "code",
   "execution_count": null,
   "metadata": {},
   "outputs": [],
   "source": [
    "spark.sql('''\n",
    "            SELECT \n",
    "                der.animal,\n",
    "                der.poblacion \n",
    "            FROM zona_1 AS izq\n",
    "            FULL OUTER JOIN zona_2 AS der\n",
    "                ON izq.animal = der.animal;\n",
    "            ''').toPandas()"
   ]
  },
  {
   "cell_type": "code",
   "execution_count": null,
   "metadata": {},
   "outputs": [],
   "source": [
    "spark.sql('''\n",
    "            SELECT\n",
    "                CASE \n",
    "                    WHEN izq.animal IS NULL THEN der.animal\n",
    "                    ELSE izq.animal\n",
    "                END AS animal, \n",
    "                der.poblacion AS pob_der,\n",
    "                izq.poblacion AS pob_izq\n",
    "            FROM zona_1 AS izq\n",
    "            FULL OUTER JOIN zona_2 AS der\n",
    "                ON izq.animal = der.animal;\n",
    "            ''').toPandas()"
   ]
  },
  {
   "cell_type": "markdown",
   "metadata": {},
   "source": [
    "### ```LEFT SEMI JOIN```"
   ]
  },
  {
   "cell_type": "code",
   "execution_count": null,
   "metadata": {
    "scrolled": true
   },
   "outputs": [],
   "source": [
    "spark.sql('''\n",
    "            SELECT\n",
    "                izq.animal,\n",
    "                izq.poblacion \n",
    "            FROM zona_1 AS izq\n",
    "            LEFT SEMI JOIN zona_2 AS der\n",
    "                ON izq.animal = der.animal;\n",
    "            ''').toPandas()"
   ]
  },
  {
   "cell_type": "code",
   "execution_count": null,
   "metadata": {},
   "outputs": [],
   "source": [
    "spark.sql('''\n",
    "            SELECT\n",
    "                der.animal,\n",
    "                der.poblacion \n",
    "            FROM zona_1 AS izq\n",
    "            LEFT SEMI JOIN zona_2 AS der\n",
    "                ON izq.animal = der.animal;\n",
    "            ''').toPandas()"
   ]
  },
  {
   "cell_type": "markdown",
   "metadata": {},
   "source": [
    "### ```LEFT ANTI JOIN```"
   ]
  },
  {
   "cell_type": "code",
   "execution_count": null,
   "metadata": {
    "scrolled": false
   },
   "outputs": [],
   "source": [
    "spark.sql('''\n",
    "            SELECT \n",
    "                izq.animal, \n",
    "                izq.poblacion \n",
    "            FROM zona_1 AS izq\n",
    "            LEFT ANTI JOIN zona_2 AS der\n",
    "                ON izq.animal = der.animal;\n",
    "            ''').toPandas()"
   ]
  },
  {
   "cell_type": "markdown",
   "metadata": {},
   "source": [
    "### CROSS JOIN"
   ]
  },
  {
   "cell_type": "code",
   "execution_count": null,
   "metadata": {},
   "outputs": [],
   "source": [
    "spark.sql('''\n",
    "             SELECT\n",
    "                 izq.animal AS animal_izq, \n",
    "                 der.animal AS animal_der,\n",
    "                 der.poblacion AS pob_der,\n",
    "                 izq.poblacion AS pob_izq\n",
    "            FROM zona_1 AS izq\n",
    "            CROSS JOIN zona_2 AS der''').toPandas()"
   ]
  },
  {
   "cell_type": "code",
   "execution_count": null,
   "metadata": {},
   "outputs": [],
   "source": [
    "spark.sql('''SELECT\n",
    "               izq.animal AS animal_izq, \n",
    "               der.animal AS animal_der,\n",
    "               der.poblacion AS pob_der,\n",
    "               izq.poblacion AS pob_izq\n",
    "               FROM zona_1 AS izq, zona_2 AS der''').toPandas()"
   ]
  },
  {
   "cell_type": "markdown",
   "metadata": {},
   "source": [
    "<p style=\"text-align: center\"><a rel=\"license\" href=\"http://creativecommons.org/licenses/by/4.0/\"><img alt=\"Licencia Creative Commons\" style=\"border-width:0\" src=\"https://i.creativecommons.org/l/by/4.0/80x15.png\" /></a><br />Esta obra está bajo una <a rel=\"license\" href=\"http://creativecommons.org/licenses/by/4.0/\">Licencia Creative Commons Atribución 4.0 Internacional</a>.</p>\n",
    "<p style=\"text-align: center\">&copy; José Luis Chiquete Valdivieso. 2023.</p>"
   ]
  }
 ],
 "metadata": {
  "kernelspec": {
   "display_name": "Python 3 (ipykernel)",
   "language": "python",
   "name": "python3"
  },
  "language_info": {
   "codemirror_mode": {
    "name": "ipython",
    "version": 3
   },
   "file_extension": ".py",
   "mimetype": "text/x-python",
   "name": "python",
   "nbconvert_exporter": "python",
   "pygments_lexer": "ipython3",
   "version": "3.10.6"
  }
 },
 "nbformat": 4,
 "nbformat_minor": 4
}
