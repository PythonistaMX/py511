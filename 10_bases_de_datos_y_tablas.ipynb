{
 "cells": [
  {
   "cell_type": "markdown",
   "metadata": {},
   "source": [
    "[![pythonista](img/pythonista.png)](https://www.pythonista.io)"
   ]
  },
  {
   "cell_type": "markdown",
   "metadata": {},
   "source": [
    "# Bases de datos, tablas y vistas."
   ]
  },
  {
   "cell_type": "markdown",
   "metadata": {},
   "source": [
    "https://spark.apache.org/docs/3.1.2/sql-ref-syntax-ddl.html"
   ]
  },
  {
   "cell_type": "code",
   "execution_count": null,
   "metadata": {},
   "outputs": [],
   "source": [
    "from pyspark.sql import SparkSession\n",
    "spark = SparkSession.builder.appName(\"DDL\").getOrCreate()\n",
    "ct = spark.sparkContext"
   ]
  },
  {
   "cell_type": "code",
   "execution_count": null,
   "metadata": {},
   "outputs": [],
   "source": [
    "(spark.read.parquet('data/data_covid.parquet')\n",
    "     .createOrReplaceTempView(\"COVID_NACIONAL\"))"
   ]
  },
  {
   "cell_type": "markdown",
   "metadata": {},
   "source": [
    "## Estructuras."
   ]
  },
  {
   "cell_type": "markdown",
   "metadata": {},
   "source": [
    "* **Bases de datos**. Son estructuras que contienen tablas.  En realidad no es otra cosa más que carpetas que contiene archivos partcionados que representan tablas. La base de datos por defecto de *Spark* es ```default```.\n",
    "* **Tablas**. Son estructuras basadas en *dataframes*. \n",
    "    * Temporales. Son dataframes que existen exclusivamente en memoria.\n",
    "    * Permanentes. Los dataframes son guardadas como una colección de archivos que son escritos de forma consecutiva en un formato específico (*CSV*, *parquet*, *JSON*, etc.)\n",
    "* **Vistas**. Son consultas *SQL* que no contienen tablas, pero sí el resultado de estas."
   ]
  },
  {
   "cell_type": "markdown",
   "metadata": {},
   "source": [
    "## *DDL*."
   ]
  },
  {
   "cell_type": "markdown",
   "metadata": {},
   "source": [
    "El \"Lenguaje de Definción de Datos\" es un conjuto de declaraciones y cláusulas que permiten crear, gestionar, modificar e incluso eliminar las bases de datos, tablas y vistas.\n",
    "\n",
    "* ```CREATE```\n",
    "* ```ALTER```\n",
    "* ```DROP```\n",
    "* ```DESCRIBE```\n",
    "* ```SHOW```\n",
    "* ```USE```"
   ]
  },
  {
   "cell_type": "markdown",
   "metadata": {},
   "source": [
    "## La declaración ```SHOW```.\n",
    "\n",
    "Esta declaración permite enlistar los elementos existentes tanto de bases de datos, com o de tablas y vistas.\n",
    "\n",
    "```\n",
    "SHOW <estructuras> FROM <est_cont>\n",
    "```\n",
    "\n",
    "Donde:\n",
    "\n",
    "* ```<estructuras>``` Se refiere al tipo de estrucrturas que va a enumerar y puede ser.\n",
    "   * ```DATABASES```\n",
    "   * ```TABLES```\n",
    "   * ```VIEWS```\n",
    "   * ```FUNCTIONS```\n",
    "* ```<est_cont>``` es la estructura que contiene a los elementos a enumerar."
   ]
  },
  {
   "cell_type": "code",
   "execution_count": null,
   "metadata": {
    "scrolled": false
   },
   "outputs": [],
   "source": [
    "spark.sql('''SHOW DATABASES;''').toPandas()"
   ]
  },
  {
   "cell_type": "code",
   "execution_count": null,
   "metadata": {},
   "outputs": [],
   "source": [
    "spark.sql('''SHOW TABLES;''').toPandas()"
   ]
  },
  {
   "cell_type": "markdown",
   "metadata": {},
   "source": [
    "## La declaración ```DESCRIBE```.\n",
    "\n",
    "Esta declaración permite mostrar los metadatos de una estructura en partiicular.\n",
    "\n",
    "```\n",
    "DESCRIBE <estructura> <nombre> FROM <est_cont>\n",
    "```\n",
    "\n",
    "Donde:\n",
    "\n",
    "* ```<estructura>``` es el tipo de estructura, la cual puede ser:\n",
    "   * ```DATABASES```\n",
    "   * ```TABLES```\n",
    "   * ```VIEWS```\n",
    "   * ```FUNCTIONS```\n",
    "   * ```QUERY```\n",
    "* ```<nombre>``` es el nombre de la estructura.\n",
    "* ```<est_cont>``` la estructura que contiene a los elementos a enumerar."
   ]
  },
  {
   "cell_type": "code",
   "execution_count": null,
   "metadata": {},
   "outputs": [],
   "source": [
    "spark.sql('''DESCRIBE DATABASE default;\n",
    "            ''').toPandas()"
   ]
  },
  {
   "cell_type": "code",
   "execution_count": null,
   "metadata": {},
   "outputs": [],
   "source": [
    "spark.sql('''DESCRIBE DATABASE default;\n",
    "            ''').toPandas().iloc[2]['info_value']"
   ]
  },
  {
   "cell_type": "code",
   "execution_count": null,
   "metadata": {
    "scrolled": true
   },
   "outputs": [],
   "source": [
    "spark.sql('''DESCRIBE TABLE COVID_NACIONAL;\n",
    "            ''').toPandas()"
   ]
  },
  {
   "cell_type": "markdown",
   "metadata": {},
   "source": [
    "## La declaración ```CREATE```."
   ]
  },
  {
   "cell_type": "markdown",
   "metadata": {},
   "source": [
    "Esta declaración permite mostrar los metadatos de una estructura en partiicular.\n",
    "\n",
    "```\n",
    "CREATE <estructura> <contenedor>.<nombre>\n",
    "```\n",
    "\n",
    "Donde:\n",
    "\n",
    "* ```<estructura>``` es el tipo de estructura, la cual puede ser:\n",
    "   * ```DATABASE```\n",
    "   * ```TABLE```\n",
    "   * ```VIEW```\n",
    "   * ```FUNCTION```\n",
    "* ```<nombre>``` es el nombre de la estructura.\n",
    "* ```<contenedor>``` es el nombre de la estructura que contendrá a la nueva estructura. En caso de no indicarse, se usará la estructura en uso."
   ]
  },
  {
   "cell_type": "markdown",
   "metadata": {},
   "source": [
    "### Creación de bases de datos con ```CREATE DATABASE```.\n",
    "\n",
    "\n",
    "```\n",
    "CREATE DATABASE <nombre>\n",
    "```\n",
    "\n",
    "https://spark.apache.org/docs/latest/sql-ref-syntax-ddl-create-database.html"
   ]
  },
  {
   "cell_type": "code",
   "execution_count": null,
   "metadata": {},
   "outputs": [],
   "source": [
    "spark.sql('''CREATE DATABASE nueva_db;''')"
   ]
  },
  {
   "cell_type": "markdown",
   "metadata": {},
   "source": [
    "### Creación de tablas permanentes con ```CREATE TABLE```."
   ]
  },
  {
   "cell_type": "markdown",
   "metadata": {},
   "source": [
    "https://spark.apache.org/docs/latest/sql-ref-syntax-ddl-create-table.html"
   ]
  },
  {
   "cell_type": "markdown",
   "metadata": {},
   "source": [
    "#### ```CREATE TABLE USING```."
   ]
  },
  {
   "cell_type": "code",
   "execution_count": null,
   "metadata": {},
   "outputs": [],
   "source": [
    "spark.sql('''CREATE TABLE nueva_db.persona (nombre STRING, edad INT) USING CSV;''');"
   ]
  },
  {
   "cell_type": "code",
   "execution_count": null,
   "metadata": {},
   "outputs": [],
   "source": [
    "spark.sql('''SHOW TABLES FROM nueva_db;''').toPandas()"
   ]
  },
  {
   "cell_type": "code",
   "execution_count": null,
   "metadata": {},
   "outputs": [],
   "source": [
    "spark.sql('''INSERT INTO nueva_db.persona VALUES\n",
    "    ('Zen Hui', 25),\n",
    "    ('Anil B', 18),\n",
    "    ('Shone S', 16),\n",
    "    ('Mike A', 25),\n",
    "    ('John A', 18),\n",
    "    ('Jack N', 16);''')"
   ]
  },
  {
   "cell_type": "code",
   "execution_count": null,
   "metadata": {},
   "outputs": [],
   "source": [
    "spark.sql('''CREATE TABLE nueva_db.covid USING parquet\n",
    "             AS SELECT * FROM COVID_NACIONAL;\n",
    "    ''')"
   ]
  },
  {
   "cell_type": "code",
   "execution_count": null,
   "metadata": {
    "scrolled": true
   },
   "outputs": [],
   "source": [
    "spark.sql('''SHOW TABLES FROM nueva_db;\n",
    "            ''').toPandas()"
   ]
  },
  {
   "cell_type": "markdown",
   "metadata": {},
   "source": [
    "#### ```CREATE TABLE LIKE```."
   ]
  },
  {
   "cell_type": "code",
   "execution_count": null,
   "metadata": {},
   "outputs": [],
   "source": [
    "spark.sql('''CREATE TABLE nueva_db.covid_vacio LIKE nueva_db.covid;''')"
   ]
  },
  {
   "cell_type": "code",
   "execution_count": null,
   "metadata": {},
   "outputs": [],
   "source": [
    "spark.sql('''SELECT * FROM nueva_db.covid_vacio;''').toPandas()"
   ]
  },
  {
   "cell_type": "code",
   "execution_count": null,
   "metadata": {
    "scrolled": true
   },
   "outputs": [],
   "source": [
    "spark.sql('''SHOW TABLES FROM nueva_db;''').toPandas()"
   ]
  },
  {
   "cell_type": "markdown",
   "metadata": {},
   "source": [
    "### Creación de vistas."
   ]
  },
  {
   "cell_type": "markdown",
   "metadata": {},
   "source": [
    "Una vista no es otra cosa más que una consulta *SQL* a la que se le asigna un nombre y que puede ser referenciada por ```FROM```."
   ]
  },
  {
   "cell_type": "markdown",
   "metadata": {},
   "source": [
    "https://spark.apache.org/docs/latest/sql-ref-syntax-ddl-create-view.html"
   ]
  },
  {
   "cell_type": "code",
   "execution_count": null,
   "metadata": {},
   "outputs": [],
   "source": [
    "spark.sql('''CREATE VIEW promedio AS\n",
    "             SELECT \n",
    "                Index, \n",
    "                Nacional /32 AS promedio\n",
    "            FROM nueva_db.covid;\n",
    "            ''')"
   ]
  },
  {
   "cell_type": "code",
   "execution_count": null,
   "metadata": {},
   "outputs": [],
   "source": [
    "spark.sql('''DESCRIBE promedio;''').toPandas()"
   ]
  },
  {
   "cell_type": "code",
   "execution_count": null,
   "metadata": {},
   "outputs": [],
   "source": [
    "spark.sql('''SELECT * FROM promedio;''').toPandas()"
   ]
  },
  {
   "cell_type": "markdown",
   "metadata": {},
   "source": [
    "## ```USE DATABASE```"
   ]
  },
  {
   "cell_type": "code",
   "execution_count": null,
   "metadata": {},
   "outputs": [],
   "source": [
    "spark.sql('''SHOW TABLES;''').toPandas()"
   ]
  },
  {
   "cell_type": "code",
   "execution_count": null,
   "metadata": {},
   "outputs": [],
   "source": [
    "spark.sql('''USE DATABASE nueva_db''')"
   ]
  },
  {
   "cell_type": "code",
   "execution_count": null,
   "metadata": {
    "scrolled": false
   },
   "outputs": [],
   "source": [
    "spark.sql('''SHOW TABLES;''').toPandas()"
   ]
  },
  {
   "cell_type": "markdown",
   "metadata": {},
   "source": [
    "## ```DROP```."
   ]
  },
  {
   "cell_type": "code",
   "execution_count": null,
   "metadata": {},
   "outputs": [],
   "source": [
    "spark.sql('''SHOW TABLES FROM nueva_db;''').toPandas()"
   ]
  },
  {
   "cell_type": "code",
   "execution_count": null,
   "metadata": {},
   "outputs": [],
   "source": [
    "spark.sql('''DROP TABLE nueva_db.persona;''')"
   ]
  },
  {
   "cell_type": "code",
   "execution_count": null,
   "metadata": {
    "scrolled": true
   },
   "outputs": [],
   "source": [
    "spark.sql('''SHOW TABLES FROM nueva_db;''').toPandas()"
   ]
  },
  {
   "cell_type": "code",
   "execution_count": null,
   "metadata": {},
   "outputs": [],
   "source": [
    "spark.sql('''DROP DATABASE nueva_db;''')"
   ]
  },
  {
   "cell_type": "code",
   "execution_count": null,
   "metadata": {},
   "outputs": [],
   "source": [
    "spark.sql('''DROP DATABASE nueva_db CASCADE;''')"
   ]
  },
  {
   "cell_type": "code",
   "execution_count": null,
   "metadata": {
    "scrolled": false
   },
   "outputs": [],
   "source": [
    "spark.sql('''SHOW DATABASES;''').toPandas()"
   ]
  },
  {
   "cell_type": "code",
   "execution_count": null,
   "metadata": {},
   "outputs": [],
   "source": [
    "!rm -rf spark-warehouse"
   ]
  },
  {
   "cell_type": "code",
   "execution_count": null,
   "metadata": {},
   "outputs": [],
   "source": [
    "spark.stop()"
   ]
  },
  {
   "cell_type": "markdown",
   "metadata": {},
   "source": [
    "<p style=\"text-align: center\"><a rel=\"license\" href=\"http://creativecommons.org/licenses/by/4.0/\"><img alt=\"Licencia Creative Commons\" style=\"border-width:0\" src=\"https://i.creativecommons.org/l/by/4.0/80x15.png\" /></a><br />Esta obra está bajo una <a rel=\"license\" href=\"http://creativecommons.org/licenses/by/4.0/\">Licencia Creative Commons Atribución 4.0 Internacional</a>.</p>\n",
    "<p style=\"text-align: center\">&copy; José Luis Chiquete Valdivieso. 2023.</p>"
   ]
  }
 ],
 "metadata": {
  "kernelspec": {
   "display_name": "Python 3 (ipykernel)",
   "language": "python",
   "name": "python3"
  },
  "language_info": {
   "codemirror_mode": {
    "name": "ipython",
    "version": 3
   },
   "file_extension": ".py",
   "mimetype": "text/x-python",
   "name": "python",
   "nbconvert_exporter": "python",
   "pygments_lexer": "ipython3",
   "version": "3.10.9"
  }
 },
 "nbformat": 4,
 "nbformat_minor": 4
}
