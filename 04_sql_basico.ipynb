{
 "cells": [
  {
   "cell_type": "markdown",
   "metadata": {},
   "source": [
    "[![pythonista](img/pythonista.png)](https://www.pythonista.io)"
   ]
  },
  {
   "cell_type": "markdown",
   "metadata": {},
   "source": [
    "# *SQL* Básico."
   ]
  },
  {
   "cell_type": "markdown",
   "metadata": {},
   "source": [
    "*SQL* es un lenguaje declarativo capaz de realizar operaciones de [álgebra relacional](https://es.wikipedia.org/wiki/%C3%81lgebra_relacional) mediante consultas (*queries*) a bases de datos estructuradas. La *ANSI* ha publicado una serie de documentos que definen el uso de *SQL* de forma estandarizada.\n",
    "\n",
    "https://docs.oracle.com/database/121/SQLRF/ap_standard_sql001.htm#SQLRF55514\n",
    "\n",
    "**Nota:** *SQL* no es considerado un lenguaje de programación [Turing Completo](https://es.wikipedia.org/wiki/Turing_completo)."
   ]
  },
  {
   "cell_type": "code",
   "execution_count": null,
   "metadata": {},
   "outputs": [],
   "source": []
  },
  {
   "cell_type": "markdown",
   "metadata": {
    "tags": []
   },
   "source": [
    "## Lenguajes de *SQL*."
   ]
  },
  {
   "cell_type": "markdown",
   "metadata": {},
   "source": [
    "### Expresiones.\n",
    "\n",
    "*SQL* ejecuta las consultar mediante expresiones que incluyen claúsulas, declaraciones, nombres, referencias y variables.\n",
    "\n"
   ]
  },
  {
   "cell_type": "markdown",
   "metadata": {},
   "source": [
    "### *Data Query Language* (*DQL*). \n",
    "\n",
    "E lenguaje de consulta de datos (*DQL*) permite crear expresiones capaces de realizar búsquedas en una o más tablas e incluso en el resultado de otras expresiones y regresar los registros resultantes de dichas bśuquedas.\n",
    "\n",
    "* [```SELECT```](https://cloud.google.com/bigquery/docs/reference/standard-sql/query-syntax#select_list)\n",
    "* [```FROM```](https://cloud.google.com/bigquery/docs/reference/standard-sql/query-syntax#from_clause)\n",
    "* [```ẀHERE```](https://cloud.google.com/bigquery/docs/reference/standard-sql/query-syntax#where_clause)\n",
    "* [```GROUP BY```](https://cloud.google.com/bigquery/docs/reference/standard-sql/query-syntax#group_by_clause)\n",
    "* [```HAVING```](https://cloud.google.com/bigquery/docs/reference/standard-sql/query-syntax#having_clause)\n",
    "* [```ORDER BY```](https://cloud.google.com/bigquery/docs/reference/standard-sql/query-syntax#order_by_clause)\n",
    "* [```LIMIT```](https://cloud.google.com/bigquery/docs/reference/standard-sql/query-syntax#limit_and_offset_clause)\n",
    "* [```WINDOW```](https://cloud.google.com/bigquery/docs/reference/standard-sql/query-syntax#window_clause)\n",
    "* [```QUALIFY```](https://cloud.google.com/bigquery/docs/reference/standard-sql/query-syntax#qualify_clause)\n",
    "* ```DISTINCT```\n",
    "* [```WITH```](https://cloud.google.com/bigquery/docs/reference/standard-sql/query-syntax#with_clause)\n",
    "\n",
    "https://cloud.google.com/bigquery/docs/reference/standard-sql/query-syntax"
   ]
  },
  {
   "cell_type": "markdown",
   "metadata": {},
   "source": [
    "### *Data Definition Language* (*DDL*).\n",
    "\n",
    "Las declaraciones del lenguaje de definición de datos (*DDL*) permiten crear y modificar recursos.\n",
    "\n",
    "* [```CREATE```](https://cloud.google.com/bigquery/docs/reference/standard-sql/data-definition-language#create_schema_statement)\n",
    "* [```ALTER```](https://cloud.google.com/bigquery/docs/reference/standard-sql/data-definition-language#alter_schema_set_options_statement)\n",
    "* [```DROP```](https://cloud.google.com/bigquery/docs/reference/standard-sql/data-definition-language#drop_schema_statement)\n",
    "\n",
    "https://cloud.google.com/bigquery/docs/reference/standard-sql/data-definition-language"
   ]
  },
  {
   "cell_type": "markdown",
   "metadata": {},
   "source": [
    "### *Data Manipulation Language* (*DML*).\n",
    "\n",
    "El lenguaje de manipulación de datos (*DML*) permite actualizar, insertar y borrar datos de las tablas.\n",
    "\n",
    " * [```INSERT```](https://cloud.google.com/bigquery/docs/reference/standard-sql/dml-syntax#insert_statement)\n",
    " * [```UPDATE```](https://cloud.google.com/bigquery/docs/reference/standard-sql/dml-syntax#update_statement)\n",
    " * [```DELETE```](https://cloud.google.com/bigquery/docs/reference/standard-sql/dml-syntax#delete_statement)\n",
    " * [```MERGE```](https://cloud.google.com/bigquery/docs/reference/standard-sql/dml-syntax#merge_statement)\n",
    "\n",
    "https://cloud.google.com/bigquery/docs/reference/standard-sql/dml-syntax\n",
    "\n",
    "https://cloud.google.com/bigquery/docs/reference/standard-sql/data-manipulation-language"
   ]
  },
  {
   "cell_type": "markdown",
   "metadata": {},
   "source": [
    "### *Data Control Language* (*DCL*).\n",
    "\n",
    "Las declaraciones de lenguaje de control de datos permiten configurar y controlar los recurso.\n",
    "\n",
    "* [```GRANT```](https://cloud.google.com/bigquery/docs/reference/standard-sql/data-control-language#grant_statement)\n",
    "* [```REVOKE```](https://cloud.google.com/bigquery/docs/reference/standard-sql/data-control-language#revoke_statement)\n",
    "\n",
    "https://cloud.google.com/bigquery/docs/reference/standard-sql/data-control-language\n"
   ]
  },
  {
   "cell_type": "markdown",
   "metadata": {},
   "source": [
    "https://cloud.google.com/bigquer|y/docs/reference/standard-sql/data-typ"
   ]
  },
  {
   "cell_type": "markdown",
   "metadata": {},
   "source": [
    "## Funciones y operadores.\n",
    "\n",
    "https://spark.apache.org/docs/latest/sql-ref-functions.html"
   ]
  },
  {
   "cell_type": "markdown",
   "metadata": {},
   "source": [
    "<p style=\"text-align: center\"><a rel=\"license\" href=\"http://creativecommons.org/licenses/by/4.0/\"><img alt=\"Licencia Creative Commons\" style=\"border-width:0\" src=\"https://i.creativecommons.org/l/by/4.0/80x15.png\" /></a><br />Esta obra está bajo una <a rel=\"license\" href=\"http://creativecommons.org/licenses/by/4.0/\">Licencia Creative Commons Atribución 4.0 Internacional</a>.</p>\n",
    "<p style=\"text-align: center\">&copy; José Luis Chiquete Valdivieso. 2023.</p>"
   ]
  }
 ],
 "metadata": {
  "kernelspec": {
   "display_name": "Python 3 (ipykernel)",
   "language": "python",
   "name": "python3"
  },
  "language_info": {
   "codemirror_mode": {
    "name": "ipython",
    "version": 3
   },
   "file_extension": ".py",
   "mimetype": "text/x-python",
   "name": "python",
   "nbconvert_exporter": "python",
   "pygments_lexer": "ipython3",
   "version": "3.10.6"
  }
 },
 "nbformat": 4,
 "nbformat_minor": 4
}
