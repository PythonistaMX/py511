{
 "cells": [
  {
   "cell_type": "markdown",
   "metadata": {},
   "source": [
    "[![pythonista](img/pythonista.png)](https://www.pythonista.io)"
   ]
  },
  {
   "cell_type": "markdown",
   "metadata": {},
   "source": [
    "# *SQL* Básico."
   ]
  },
  {
   "cell_type": "markdown",
   "metadata": {},
   "source": [
    "*SQL* es un lenguaje declarativo capaz de realizar operaciones de [álgebra relacional](https://es.wikipedia.org/wiki/%C3%81lgebra_relacional) mediante consultas (*queries*) a bases de datos estructuradas. La *ANSI* ha publicado una serie de documentos que definen el uso de *SQL* de forma estandarizada.\n",
    "\n",
    "https://docs.oracle.com/database/121/SQLRF/ap_standard_sql001.htm#SQLRF55514\n",
    "\n",
    "**Nota:** *SQL* no es considerado un lenguaje de programación [Turing Completo](https://es.wikipedia.org/wiki/Turing_completo)."
   ]
  },
  {
   "cell_type": "markdown",
   "metadata": {},
   "source": [
    "## Expresiones.\n",
    "\n",
    "*SQL* ejecuta las consultar mediante expresiones que incluyen claúsulas, declaraciones, nombres, referencias y variables.\n",
    "\n"
   ]
  },
  {
   "cell_type": "markdown",
   "metadata": {},
   "source": [
    "## *Data Query Language* (*DQL*). \n",
    "\n",
    "E lenguaje de consulta de datos (*DQL*) permite crear expresiones capaces de realizar búsquedas en una o más tablas e incluso en el resultado de otras expresiones y regresar los registros resultantes de dichas bśuquedas.\n",
    "\n",
    "* La declaración [```SELECT```](https://spark.apache.org/docs/latest/sql-ref-syntax-qry-select.html)\n",
    "* ```FROM```\n",
    "* ```AS```\n",
    "* [```WITH```](https://spark.apache.org/docs/latest/sql-ref-syntax-qry-select-cte.html)\n",
    "\n",
    "* La claúsula [```LIMIT```](https://spark.apache.org/docs/latest/sql-ref-syntax-qry-select-limit.html)\n",
    "\n",
    "* La claúsula [```ẀHERE```](https://spark.apache.org/docs/latest/sql-ref-syntax-qry-select-where.html)\n",
    "* La claúsula [```ORDER BY```](https://spark.apache.org/docs/latest/sql-ref-syntax-qry-select-orderby.html)\n",
    "* La claúsula [```GROUP BY```](https://spark.apache.org/docs/latest/sql-ref-syntax-qry-select-groupby.html)\n",
    "* La claúsula [```HAVING```](https://spark.apache.org/docs/latest/sql-ref-syntax-qry-select-having.html)\n",
    "* La claúsula [```SORT BY```](https://spark.apache.org/docs/latest/sql-ref-syntax-qry-select-sortby.html)\n",
    "* La claúsula [```CLUSTER BY```](https://spark.apache.org/docs/latest/sql-ref-syntax-qry-select-clusterby.html)\n",
    "* La claúsula [```DISTRIBUTE BY```](https://spark.apache.org/docs/latest/sql-ref-syntax-qry-select-distribute-by.html)\n",
    "* La claúsula [```CASE```](https://spark.apache.org/docs/latest/sql-ref-syntax-qry-select-case.html)\n",
    "    * ```WHEN```\n",
    "    * ```ELSE```\n",
    "    * ```END```\n",
    "* La claúsula [```PIVOT```](https://spark.apache.org/docs/latest/sql-ref-syntax-qry-select-pivot.html)\n",
    "* La cláusula [```LATERAL VIEW```](https://spark.apache.org/docs/latest/sql-ref-syntax-qry-select-lateral-view.html)\n",
    "\n",
    "\n",
    "https://spark.apache.org/docs/latest/sql-ref-syntax.html#data-retrieval-statements"
   ]
  },
  {
   "cell_type": "markdown",
   "metadata": {},
   "source": [
    "### Parámetros.\n",
    "\n",
    "* ```ASC```\n",
    "* ```DESC```\n",
    "* ```FIRST```\n",
    "* ```LAST```"
   ]
  },
  {
   "cell_type": "markdown",
   "metadata": {},
   "source": [
    "## Operadores."
   ]
  },
  {
   "cell_type": "markdown",
   "metadata": {},
   "source": [
    "### Operadores lógicos.\n",
    "\n",
    "* ```AND```\n",
    "\n",
    "\n",
    "* [```LIKE```](https://spark.apache.org/docs/latest/sql-ref-syntax-qry-select-like.html)"
   ]
  },
  {
   "cell_type": "markdown",
   "metadata": {},
   "source": [
    "### Operadores de conjuntos.\n",
    "\n",
    "* [```EXCEPT```](https://spark.apache.org/docs/latest/sql-ref-syntax-qry-select-setops.html#except)\n",
    "* [```INTERSECT```](https://spark.apache.org/docs/latest/sql-ref-syntax-qry-select-setops.html#intersect)\n",
    "* [```UNION```](https://spark.apache.org/docs/latest/sql-ref-syntax-qry-select-setops.html#union)"
   ]
  },
  {
   "cell_type": "markdown",
   "metadata": {},
   "source": [
    "### ```JOIN```\n",
    "\n",
    "* [```JOIN```](https://spark.apache.org/docs/latest/sql-ref-syntax-qry-select-join.html)"
   ]
  },
  {
   "cell_type": "markdown",
   "metadata": {},
   "source": [
    "## *Data Definition Language* (*DDL*).\n",
    "\n",
    "Las declaraciones del lenguaje de definición de datos (*DDL*) permiten crear y modificar recursos.\n",
    "\n",
    "* [```ALTER DATABASE```](https://spark.apache.org/docs/latest/sql-ref-syntax-ddl-alter-database.html)\n",
    "* [```ALTER TABLE```](https://spark.apache.org/docs/latest/sql-ref-syntax-ddl-alter-table.html)\n",
    "* [```ALTER VIEW```](https://spark.apache.org/docs/latest/sql-ref-syntax-ddl-alter-view.html)\n",
    "* [```CREATE DATABASE```](https://spark.apache.org/docs/latest/sql-ref-syntax-ddl-create-database.html)\n",
    "* [```CREATE TABLE```](https://spark.apache.org/docs/latest/sql-ref-syntax-ddl-create-table.html)\n",
    "* [```CREATE VIEW```](https://spark.apache.org/docs/latest/sql-ref-syntax-ddl-create-view.html)\n",
    "* [```CREATE FUNCTION```](https://spark.apache.org/docs/latest/sql-ref-syntax-ddl-create-function.html)\n",
    "* [```DROP DATABASE```](https://spark.apache.org/docs/latest/sql-ref-syntax-ddl-drop-database.html)\n",
    "* [```DROP TABLE```](https://spark.apache.org/docs/latest/sql-ref-syntax-ddl-drop-table.html)\n",
    "* [```DROP VIEW```](https://spark.apache.org/docs/latest/sql-ref-syntax-ddl-drop-view.html)\n",
    "* [```DROP FUNCTION```](https://spark.apache.org/docs/latest/sql-ref-syntax-ddl-drop-function.html)\n",
    "* [```REPAIR TABLE```](https://spark.apache.org/docs/latest/sql-ref-syntax-ddl-repair-table.html)\n",
    "* [```TRUNCATE TABLE```](https://spark.apache.org/docs/latest/sql-ref-syntax-ddl-truncate-table.html)\n",
    "* [```USE DATABASE```](https://spark.apache.org/docs/latest/sql-ref-syntax-ddl-repair-table.html)\n",
    "\n",
    "https://spark.apache.org/docs/latest/sql-ref-syntax.html#ddl-statements"
   ]
  },
  {
   "cell_type": "markdown",
   "metadata": {},
   "source": [
    "### *Data Manipulation Language* (*DML*).\n",
    "\n",
    "El lenguaje de manipulación de datos (*DML*) permite actualizar, insertar y borrar datos de las tablas.\n",
    "\n",
    " * [```INSERT```](https://spark.apache.org/docs/latest/sql-ref-syntax-dml-insert-table.html)\n",
    " * [```LOAD```](https://cloud.google.com/bigquery/docs/reference/standard-sql/dml-syntax#delete_statement)\n",
    " * [```MERGE```](https://cloud.google.com/bigquery/docs/reference/standard-sql/dml-syntax#merge_statement)\n",
    "\n",
    "https://spark.apache.org/docs/latest/sql-ref-syntax.html#dml-statements"
   ]
  },
  {
   "cell_type": "markdown",
   "metadata": {},
   "source": [
    "## Funciones y operadores.\n",
    "\n",
    "https://spark.apache.org/docs/latest/sql-ref-functions.html"
   ]
  },
  {
   "cell_type": "markdown",
   "metadata": {},
   "source": [
    "<p style=\"text-align: center\"><a rel=\"license\" href=\"http://creativecommons.org/licenses/by/4.0/\"><img alt=\"Licencia Creative Commons\" style=\"border-width:0\" src=\"https://i.creativecommons.org/l/by/4.0/80x15.png\" /></a><br />Esta obra está bajo una <a rel=\"license\" href=\"http://creativecommons.org/licenses/by/4.0/\">Licencia Creative Commons Atribución 4.0 Internacional</a>.</p>\n",
    "<p style=\"text-align: center\">&copy; José Luis Chiquete Valdivieso. 2023.</p>"
   ]
  }
 ],
 "metadata": {
  "kernelspec": {
   "display_name": "Python 3 (ipykernel)",
   "language": "python",
   "name": "python3"
  },
  "language_info": {
   "codemirror_mode": {
    "name": "ipython",
    "version": 3
   },
   "file_extension": ".py",
   "mimetype": "text/x-python",
   "name": "python",
   "nbconvert_exporter": "python",
   "pygments_lexer": "ipython3",
   "version": "3.10.12"
  }
 },
 "nbformat": 4,
 "nbformat_minor": 4
}
