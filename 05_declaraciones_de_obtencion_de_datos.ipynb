{
 "cells": [
  {
   "cell_type": "markdown",
   "metadata": {},
   "source": [
    "[![pythonista](img/pythonista.png)](https://www.pythonista.io)"
   ]
  },
  {
   "cell_type": "markdown",
   "metadata": {
    "tags": []
   },
   "source": [
    "# Declaraciones de obtención de datos."
   ]
  },
  {
   "cell_type": "markdown",
   "metadata": {},
   "source": [
    "https://spark.apache.org/docs/latest/sql-ref-syntax.html#data-retrieval-statements\n",
    "\n",
    "https://spark.apache.org/docs/latest/sql-ref-syntax-qry-select.html"
   ]
  },
  {
   "cell_type": "code",
   "execution_count": null,
   "metadata": {},
   "outputs": [],
   "source": [
    "from pyspark.sql import SparkSession\n",
    "spark = SparkSession.builder.appName(\"Intro a SELECT\").getOrCreate()\n",
    "ct = spark.sparkContext"
   ]
  },
  {
   "cell_type": "code",
   "execution_count": null,
   "metadata": {},
   "outputs": [],
   "source": [
    "df = spark.read.parquet('data/data_covid.parquet')\n",
    "df.createOrReplaceTempView(\"COVID_NACIONAL\")"
   ]
  },
  {
   "cell_type": "markdown",
   "metadata": {},
   "source": [
    "## La declaración ```SELECT```."
   ]
  },
  {
   "cell_type": "code",
   "execution_count": null,
   "metadata": {},
   "outputs": [],
   "source": [
    "spark.sql('''SELECT 1 + 2 AS suma''').toPandas()"
   ]
  },
  {
   "cell_type": "code",
   "execution_count": null,
   "metadata": {},
   "outputs": [],
   "source": [
    "spark.sql('''SELECT 1 + 2 AS suma''').createOrReplaceTempView(\"suma\")"
   ]
  },
  {
   "cell_type": "code",
   "execution_count": null,
   "metadata": {},
   "outputs": [],
   "source": [
    "spark.sql('''SELECT * FROM suma''').toPandas()"
   ]
  },
  {
   "cell_type": "markdown",
   "metadata": {},
   "source": [
    "### Uso de ```SELECT``` ... ```FROM```."
   ]
  },
  {
   "cell_type": "markdown",
   "metadata": {},
   "source": [
    "```\n",
    "SELECT <elementos>\n",
    "FROM <fuentes>\n",
    "```"
   ]
  },
  {
   "cell_type": "markdown",
   "metadata": {},
   "source": [
    "### ```SELECT *```"
   ]
  },
  {
   "cell_type": "code",
   "execution_count": null,
   "metadata": {
    "scrolled": true
   },
   "outputs": [],
   "source": [
    "spark.sql('''SELECT *\n",
    "             FROM COVID_NACIONAL''')"
   ]
  },
  {
   "cell_type": "code",
   "execution_count": null,
   "metadata": {},
   "outputs": [],
   "source": [
    "spark.sql('''SELECT *\n",
    "             FROM COVID_NACIONAL''').show()"
   ]
  },
  {
   "cell_type": "code",
   "execution_count": null,
   "metadata": {},
   "outputs": [],
   "source": [
    "spark.sql('''SELECT *\n",
    "             FROM COVID_NACIONAL''').toPandas()"
   ]
  },
  {
   "cell_type": "markdown",
   "metadata": {
    "tags": []
   },
   "source": [
    "### Selección de columnas específicas.\n",
    "\n",
    "```\n",
    "SELECT <col 1>, <col 2>, ... <col n>\n",
    "```"
   ]
  },
  {
   "cell_type": "code",
   "execution_count": null,
   "metadata": {},
   "outputs": [],
   "source": [
    "spark.sql('''SELECT Aguascalientes, Nacional\n",
    "             FROM COVID_NACIONAL''').toPandas()"
   ]
  },
  {
   "cell_type": "code",
   "execution_count": null,
   "metadata": {},
   "outputs": [],
   "source": [
    "spark.sql('''SELECT Index, Aguascalientes, Nacional\n",
    "             FROM COVID_NACIONAL''').toPandas()"
   ]
  },
  {
   "cell_type": "markdown",
   "metadata": {},
   "source": [
    "## Operaciones con columnas."
   ]
  },
  {
   "cell_type": "markdown",
   "metadata": {},
   "source": [
    "Es posible realizar diversas operaciones mediante expresiones que impliquen a columnas desde un ```SELECT``` mediante el uso de varias funciones y operadores.\n",
    "```\n",
    "SELECT <expresion 1>, <expresion 2> ... <expresion n>\n",
    "```"
   ]
  },
  {
   "cell_type": "code",
   "execution_count": null,
   "metadata": {},
   "outputs": [],
   "source": [
    "spark.sql('''SELECT (Nacional / 32)\n",
    "             FROM COVID_NACIONAL''').toPandas()"
   ]
  },
  {
   "cell_type": "markdown",
   "metadata": {},
   "source": [
    "## Funciones."
   ]
  },
  {
   "cell_type": "markdown",
   "metadata": {},
   "source": [
    "https://spark.apache.org/docs/latest/sql-ref-functions.html"
   ]
  },
  {
   "cell_type": "code",
   "execution_count": null,
   "metadata": {},
   "outputs": [],
   "source": [
    "spark.sql('''SELECT CONCAT( 'dia ', Index)\n",
    "             FROM COVID_NACIONAL''').toPandas()"
   ]
  },
  {
   "cell_type": "markdown",
   "metadata": {},
   "source": [
    "### Funciones de agregación.\n",
    "\n",
    "https://spark.apache.org/docs/latest/sql-ref-functions-builtin.html#aggregate-functions"
   ]
  },
  {
   "cell_type": "code",
   "execution_count": null,
   "metadata": {},
   "outputs": [],
   "source": [
    "spark.sql('''SELECT AVG(AGUASCALIENTES)\n",
    "             FROM COVID_NACIONAL''').toPandas()"
   ]
  },
  {
   "cell_type": "code",
   "execution_count": null,
   "metadata": {},
   "outputs": [],
   "source": [
    "spark.sql('''SELECT EXTRACT( 'YEAR', Index), Index\n",
    "             FROM COVID_NACIONAL''').toPandas()"
   ]
  },
  {
   "cell_type": "markdown",
   "metadata": {},
   "source": [
    "## Uso de ```AS```."
   ]
  },
  {
   "cell_type": "code",
   "execution_count": null,
   "metadata": {
    "tags": []
   },
   "outputs": [],
   "source": [
    "spark.sql('''SELECT AGUASCALIENTES AS Ags, \n",
    "                    (Nacional / 32) as Promedio\n",
    "             FROM COVID_NACIONAL''').toPandas()"
   ]
  },
  {
   "cell_type": "markdown",
   "metadata": {},
   "source": [
    "### Uso de referencias."
   ]
  },
  {
   "cell_type": "markdown",
   "metadata": {},
   "source": [
    "Uso del punto (```.```) para elementos en una tablas."
   ]
  },
  {
   "cell_type": "code",
   "execution_count": null,
   "metadata": {},
   "outputs": [],
   "source": [
    "spark.sql('''SELECT COV.AGUASCALIENTES as Ags \n",
    "             FROM COVID_NACIONAL as COV''').toPandas()"
   ]
  },
  {
   "cell_type": "code",
   "execution_count": null,
   "metadata": {},
   "outputs": [],
   "source": [
    "spark.sql('''SELECT AGUASCALIENTES \n",
    "             FROM COVID_NACIONAL''').toPandas()"
   ]
  },
  {
   "cell_type": "markdown",
   "metadata": {
    "tags": []
   },
   "source": [
    "### Selección de columnas de más de una tabla."
   ]
  },
  {
   "cell_type": "code",
   "execution_count": null,
   "metadata": {},
   "outputs": [],
   "source": [
    "spark.sql('''SELECT Index, (Nacional /32) as promedio\n",
    "             FROM COVID_NACIONAL''').createOrReplaceTempView('Promedio_Nacional')"
   ]
  },
  {
   "cell_type": "code",
   "execution_count": null,
   "metadata": {},
   "outputs": [],
   "source": [
    "spark.sql('''SELECT p.Index, c.Nacional, p.promedio \n",
    "                FROM COVID_NACIONAL as c, Promedio_Nacional as p''').toPandas()"
   ]
  },
  {
   "cell_type": "code",
   "execution_count": null,
   "metadata": {},
   "outputs": [],
   "source": [
    "spark.sql('''SELECT p.Index, c.Nacional, p.promedio\n",
    "             FROM COVID_NACIONAL as c\n",
    "             INNER JOIN Promedio_Nacional as p \n",
    "                 ON c.Index=p.Index''').toPandas()"
   ]
  },
  {
   "cell_type": "markdown",
   "metadata": {},
   "source": [
    "## Uso de ```LIMIT```."
   ]
  },
  {
   "cell_type": "markdown",
   "metadata": {},
   "source": [
    "* La siguiente delcaración regresará los ```20``` primeros registros resultantes de la búsqueda en la columna ```Nacional```."
   ]
  },
  {
   "cell_type": "code",
   "execution_count": null,
   "metadata": {
    "scrolled": true
   },
   "outputs": [],
   "source": [
    "spark.sql('''SELECT Nacional\n",
    "             FROM COVID_NACIONAL\n",
    "             LIMIT 20\n",
    "             ''').toPandas()"
   ]
  },
  {
   "cell_type": "markdown",
   "metadata": {},
   "source": [
    "## Uso de ```WHERE```."
   ]
  },
  {
   "cell_type": "markdown",
   "metadata": {},
   "source": [
    "https://spark.apache.org/docs/latest/sql-ref-syntax-qry-select-where.html"
   ]
  },
  {
   "cell_type": "code",
   "execution_count": null,
   "metadata": {},
   "outputs": [],
   "source": [
    "spark.sql('''SELECT Index, Aguascalientes, (Nacional/32) as promedio\n",
    "             FROM COVID_NACIONAL\n",
    "             WHERE Aguascalientes > (Nacional/32)\n",
    "             ''').toPandas()"
   ]
  },
  {
   "cell_type": "code",
   "execution_count": null,
   "metadata": {},
   "outputs": [],
   "source": [
    "spark.sql('''SELECT *\n",
    "             FROM COVID_NACIONAL\n",
    "             WHERE Index = '2020-03-25'\n",
    "             ''').toPandas()"
   ]
  },
  {
   "cell_type": "markdown",
   "metadata": {},
   "source": [
    "### Uso de ```AND```."
   ]
  },
  {
   "cell_type": "code",
   "execution_count": null,
   "metadata": {
    "scrolled": true
   },
   "outputs": [],
   "source": [
    "spark.sql('''SELECT Index, Aguascalientes\n",
    "             FROM COVID_NACIONAL\n",
    "                 WHERE AGUASCALIENTES > (Nacional/32) \n",
    "                     AND AGUASCALIENTES > 100\n",
    "             ''').toPandas()"
   ]
  },
  {
   "cell_type": "markdown",
   "metadata": {},
   "source": [
    "### Uso de ```OR```."
   ]
  },
  {
   "cell_type": "code",
   "execution_count": null,
   "metadata": {
    "scrolled": true
   },
   "outputs": [],
   "source": [
    "spark.sql('''SELECT Index, Aguascalientes\n",
    "             FROM COVID_NACIONAL\n",
    "                 WHERE AGUASCALIENTES > (Nacional/32) OR AGUASCALIENTES = 0\n",
    "             ''').toPandas()"
   ]
  },
  {
   "cell_type": "markdown",
   "metadata": {},
   "source": [
    "### Uso de ```BETWEEN```."
   ]
  },
  {
   "cell_type": "code",
   "execution_count": null,
   "metadata": {},
   "outputs": [],
   "source": [
    "spark.sql('''SELECT Index, Aguascalientes\n",
    "             FROM COVID_NACIONAL\n",
    "             WHERE Aguascalientes BETWEEN 100 AND 500\n",
    "             ''').toPandas()"
   ]
  },
  {
   "cell_type": "code",
   "execution_count": null,
   "metadata": {},
   "outputs": [],
   "source": [
    "spark.sql('''SELECT Index, Aguascalientes\n",
    "             FROM COVID_NACIONAL\n",
    "             WHERE Index BETWEEN '2021-01-01' AND '2021-01-15'\n",
    "             ''').toPandas()"
   ]
  },
  {
   "cell_type": "markdown",
   "metadata": {},
   "source": [
    "## Uso de ```ORDER BY```."
   ]
  },
  {
   "cell_type": "code",
   "execution_count": null,
   "metadata": {
    "scrolled": true
   },
   "outputs": [],
   "source": [
    "spark.sql('''SELECT Index, Aguascalientes, Nacional\n",
    "             FROM COVID_NACIONAL\n",
    "             WHERE Index BETWEEN '2021-01-01' AND '2021-01-15'\n",
    "             ORDER BY Nacional\n",
    "             ''').toPandas()"
   ]
  },
  {
   "cell_type": "code",
   "execution_count": null,
   "metadata": {
    "scrolled": true
   },
   "outputs": [],
   "source": [
    "spark.sql('''SELECT Index, Aguascalientes, Nacional\n",
    "             FROM COVID_NACIONAL\n",
    "             WHERE Index BETWEEN '2021-01-01' AND '2021-01-15'\n",
    "             ORDER BY Nacional DESC\n",
    "             ''').toPandas()"
   ]
  },
  {
   "cell_type": "markdown",
   "metadata": {},
   "source": [
    "## ```GROUP BY```"
   ]
  },
  {
   "cell_type": "code",
   "execution_count": null,
   "metadata": {},
   "outputs": [],
   "source": [
    "iris = spark.read.option('header','true').option('inferSchema', 'true').csv('data/IRIS.csv')\n",
    "iris.createOrReplaceTempView(\"Iris\")"
   ]
  },
  {
   "cell_type": "code",
   "execution_count": null,
   "metadata": {},
   "outputs": [],
   "source": [
    "iris.toPandas()"
   ]
  },
  {
   "cell_type": "code",
   "execution_count": null,
   "metadata": {},
   "outputs": [],
   "source": [
    "spark.sql('''SELECT * \n",
    "             FROM Iris\n",
    "             ''').toPandas()"
   ]
  },
  {
   "cell_type": "code",
   "execution_count": null,
   "metadata": {},
   "outputs": [],
   "source": [
    "spark.sql('''SELECT species, COUNT(species) \n",
    "             FROM Iris\n",
    "             GROUP BY species\n",
    "          ''').toPandas()"
   ]
  },
  {
   "cell_type": "code",
   "execution_count": null,
   "metadata": {},
   "outputs": [],
   "source": [
    "spark.sql('''SELECT species, MEAN(sepal_length) \n",
    "             FROM Iris\n",
    "             GROUP BY species\n",
    "          ''').toPandas()"
   ]
  },
  {
   "cell_type": "markdown",
   "metadata": {},
   "source": [
    "### ```HAVING```"
   ]
  },
  {
   "cell_type": "code",
   "execution_count": null,
   "metadata": {},
   "outputs": [],
   "source": [
    "spark.sql('''SELECT species, MEAN(sepal_length) as sepal_media\n",
    "             FROM Iris\n",
    "             GROUP BY species\n",
    "             HAVING sepal_media < 6\n",
    "          ''').toPandas()"
   ]
  },
  {
   "cell_type": "markdown",
   "metadata": {},
   "source": [
    "## ```CASE```\n",
    "\n",
    "https://spark.apache.org/docs/latest/sql-ref-syntax-qry-select-case.html"
   ]
  },
  {
   "cell_type": "code",
   "execution_count": null,
   "metadata": {},
   "outputs": [],
   "source": [
    "spark.sql('''SELECT Index, Nacional,\n",
    "             CASE WHEN Nacional = 0 THEN \"ninguno\"\n",
    "                 WHEN NACIONAL > 10000 THEN \"alto\"\n",
    "                 ELSE \"normal\"\n",
    "             END AS categoria\n",
    "             FROM COVID_NACIONAL\n",
    "             WHERE Index BETWEEN '2021-01-01' AND '2021-01-15'\n",
    "             ''').toPandas()"
   ]
  },
  {
   "cell_type": "code",
   "execution_count": null,
   "metadata": {},
   "outputs": [],
   "source": [
    "spark.stop()"
   ]
  },
  {
   "cell_type": "markdown",
   "metadata": {},
   "source": [
    "<p style=\"text-align: center\"><a rel=\"license\" href=\"http://creativecommons.org/licenses/by/4.0/\"><img alt=\"Licencia Creative Commons\" style=\"border-width:0\" src=\"https://i.creativecommons.org/l/by/4.0/80x15.png\" /></a><br />Esta obra está bajo una <a rel=\"license\" href=\"http://creativecommons.org/licenses/by/4.0/\">Licencia Creative Commons Atribución 4.0 Internacional</a>.</p>\n",
    "<p style=\"text-align: center\">&copy; José Luis Chiquete Valdivieso. 2023.</p>"
   ]
  }
 ],
 "metadata": {
  "kernelspec": {
   "display_name": "Python 3 (ipykernel)",
   "language": "python",
   "name": "python3"
  },
  "language_info": {
   "codemirror_mode": {
    "name": "ipython",
    "version": 3
   },
   "file_extension": ".py",
   "mimetype": "text/x-python",
   "name": "python",
   "nbconvert_exporter": "python",
   "pygments_lexer": "ipython3",
   "version": "3.10.6"
  }
 },
 "nbformat": 4,
 "nbformat_minor": 4
}
