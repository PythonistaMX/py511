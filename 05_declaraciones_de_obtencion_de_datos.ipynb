{
 "cells": [
  {
   "cell_type": "markdown",
   "metadata": {},
   "source": [
    "[![pythonista](img/pythonista.png)](https://www.pythonista.io)"
   ]
  },
  {
   "cell_type": "markdown",
   "metadata": {
    "tags": []
   },
   "source": [
    "# Declaraciones de obtención de datos."
   ]
  },
  {
   "cell_type": "markdown",
   "metadata": {},
   "source": [
    "https://spark.apache.org/docs/latest/sql-ref-syntax.html#data-retrieval-statements"
   ]
  },
  {
   "cell_type": "code",
   "execution_count": null,
   "metadata": {},
   "outputs": [],
   "source": [
    "from pyspark.sql import SparkSession\n",
    "spark = SparkSession.builder.appName(\"Intro a SELECT\").getOrCreate()\n",
    "ct = spark.sparkContext"
   ]
  },
  {
   "cell_type": "code",
   "execution_count": null,
   "metadata": {},
   "outputs": [],
   "source": [
    "%load_ext sparksql_magic"
   ]
  },
  {
   "cell_type": "code",
   "execution_count": null,
   "metadata": {},
   "outputs": [],
   "source": [
    "(spark.read.parquet('data/data_covid.parquet')\n",
    "     .createOrReplaceTempView(\"COVID_NACIONAL\"))"
   ]
  },
  {
   "cell_type": "code",
   "execution_count": null,
   "metadata": {},
   "outputs": [],
   "source": [
    "(spark.read\n",
    "     .option('header','true')\n",
    "     .option('inferSchema', 'true')\n",
    "     .csv('data/IRIS.csv')\n",
    "     .createOrReplaceTempView(\"Iris\"))"
   ]
  },
  {
   "cell_type": "markdown",
   "metadata": {},
   "source": [
    "## La declaración ```SELECT```."
   ]
  },
  {
   "cell_type": "markdown",
   "metadata": {},
   "source": [
    "https://spark.apache.org/docs/latest/sql-ref-syntax-qry-select.html"
   ]
  },
  {
   "cell_type": "code",
   "execution_count": null,
   "metadata": {
    "scrolled": true
   },
   "outputs": [],
   "source": [
    "%%sparksql  --cache\n",
    "SELECT 1 + 2 AS suma;"
   ]
  },
  {
   "cell_type": "markdown",
   "metadata": {},
   "source": []
  },
  {
   "cell_type": "code",
   "execution_count": null,
   "metadata": {
    "scrolled": true
   },
   "outputs": [],
   "source": [
    "%%sparksql --cache df\n",
    "SELECT col1 * 2 FROM VALUES 1, 2, 3, 4;"
   ]
  },
  {
   "cell_type": "code",
   "execution_count": null,
   "metadata": {},
   "outputs": [],
   "source": [
    "df"
   ]
  },
  {
   "cell_type": "code",
   "execution_count": null,
   "metadata": {
    "scrolled": true
   },
   "outputs": [],
   "source": [
    "%%sparksql --cache\n",
    "SELECT * FROM IRIS;"
   ]
  },
  {
   "cell_type": "markdown",
   "metadata": {},
   "source": [
    "### Uso de ```SELECT``` ... ```FROM```."
   ]
  },
  {
   "cell_type": "markdown",
   "metadata": {},
   "source": [
    "```\n",
    "SELECT <elementos>\n",
    "FROM <fuentes>\n",
    "```"
   ]
  },
  {
   "cell_type": "markdown",
   "metadata": {},
   "source": [
    "### ```SELECT *```"
   ]
  },
  {
   "cell_type": "code",
   "execution_count": null,
   "metadata": {
    "scrolled": true
   },
   "outputs": [],
   "source": [
    "spark.sql('''\n",
    "            SELECT *\n",
    "            FROM COVID_NACIONAL;\n",
    "            ''')"
   ]
  },
  {
   "cell_type": "code",
   "execution_count": null,
   "metadata": {},
   "outputs": [],
   "source": [
    "spark.sql('''SELECT *\n",
    "             FROM COVID_NACIONAL;\n",
    "             ''').show()"
   ]
  },
  {
   "cell_type": "code",
   "execution_count": null,
   "metadata": {},
   "outputs": [],
   "source": [
    "spark.sql('''SELECT *\n",
    "             FROM COVID_NACIONAL;\n",
    "             ''').toPandas()"
   ]
  },
  {
   "cell_type": "markdown",
   "metadata": {
    "tags": []
   },
   "source": [
    "### Selección de columnas específicas.\n",
    "\n",
    "```\n",
    "SELECT <col 1>, <col 2>, ... <col n>\n",
    "```"
   ]
  },
  {
   "cell_type": "code",
   "execution_count": null,
   "metadata": {},
   "outputs": [],
   "source": [
    "spark.sql('''\n",
    "            SELECT\n",
    "                Aguascalientes, \n",
    "                Nacional\n",
    "             FROM COVID_NACIONAL;\n",
    "             ''').toPandas()"
   ]
  },
  {
   "cell_type": "code",
   "execution_count": null,
   "metadata": {},
   "outputs": [],
   "source": [
    "spark.sql('''\n",
    "            SELECT \n",
    "                Index,\n",
    "                Aguascalientes,\n",
    "                Nacional\n",
    "            FROM COVID_NACIONAL;\n",
    "            ''').toPandas()"
   ]
  },
  {
   "cell_type": "markdown",
   "metadata": {},
   "source": [
    "## Operaciones con columnas."
   ]
  },
  {
   "cell_type": "markdown",
   "metadata": {},
   "source": [
    "Es posible realizar diversas operaciones mediante expresiones que impliquen a columnas desde un ```SELECT``` mediante el uso de varias funciones y operadores.\n",
    "```\n",
    "SELECT <expresion 1>, <expresion 2> ... <expresion n>\n",
    "```"
   ]
  },
  {
   "cell_type": "code",
   "execution_count": null,
   "metadata": {},
   "outputs": [],
   "source": [
    "spark.sql('''SELECT \n",
    "                 Nacional / 32\n",
    "             FROM COVID_NACIONAL;\n",
    "             ''').toPandas()"
   ]
  },
  {
   "cell_type": "markdown",
   "metadata": {},
   "source": [
    "## Funciones."
   ]
  },
  {
   "cell_type": "markdown",
   "metadata": {},
   "source": [
    "https://spark.apache.org/docs/latest/sql-ref-functions.html"
   ]
  },
  {
   "cell_type": "code",
   "execution_count": null,
   "metadata": {},
   "outputs": [],
   "source": [
    "spark.sql('''\n",
    "            SELECT\n",
    "                CONCAT( 'dia ', Index)\n",
    "            FROM COVID_NACIONAL;\n",
    "            ''').toPandas()"
   ]
  },
  {
   "cell_type": "markdown",
   "metadata": {},
   "source": [
    "### Funciones de agregación.\n",
    "\n",
    "https://spark.apache.org/docs/latest/sql-ref-functions-builtin.html#aggregate-functions"
   ]
  },
  {
   "cell_type": "code",
   "execution_count": null,
   "metadata": {},
   "outputs": [],
   "source": [
    "spark.sql('''\n",
    "            SELECT \n",
    "                AVG(AGUASCALIENTES)\n",
    "            FROM COVID_NACIONAL;\n",
    "            ''').toPandas()"
   ]
  },
  {
   "cell_type": "code",
   "execution_count": null,
   "metadata": {},
   "outputs": [],
   "source": [
    "spark.sql('''\n",
    "            SELECT \n",
    "                EXTRACT( 'YEAR', Index),\n",
    "                Index\n",
    "             FROM COVID_NACIONAL;\n",
    "             ''').toPandas()"
   ]
  },
  {
   "cell_type": "markdown",
   "metadata": {},
   "source": [
    "## Uso de ```AS```."
   ]
  },
  {
   "cell_type": "code",
   "execution_count": null,
   "metadata": {
    "tags": []
   },
   "outputs": [],
   "source": [
    "spark.sql('''\n",
    "            SELECT \n",
    "                AGUASCALIENTES AS Ags, \n",
    "                Nacional / 32 AS Promedio\n",
    "             FROM COVID_NACIONAL;\n",
    "             ''').toPandas()"
   ]
  },
  {
   "cell_type": "markdown",
   "metadata": {},
   "source": [
    "### Uso de referencias."
   ]
  },
  {
   "cell_type": "markdown",
   "metadata": {},
   "source": [
    "Uso del punto (```.```) para elementos en una tablas."
   ]
  },
  {
   "cell_type": "code",
   "execution_count": null,
   "metadata": {},
   "outputs": [],
   "source": [
    "spark.sql('''SELECT\n",
    "                 COV.AGUASCALIENTES AS Ags \n",
    "             FROM COVID_NACIONAL AS COV;\n",
    "             ''').toPandas()"
   ]
  },
  {
   "cell_type": "markdown",
   "metadata": {
    "tags": []
   },
   "source": [
    "### Selección de columnas de más de una tabla."
   ]
  },
  {
   "cell_type": "code",
   "execution_count": null,
   "metadata": {},
   "outputs": [],
   "source": [
    "spark.sql('''\n",
    "            SELECT \n",
    "                Index, \n",
    "                Nacional /32 AS promedio\n",
    "            FROM COVID_NACIONAL;\n",
    "            ''').createOrReplaceTempView('Promedio_Nacional')"
   ]
  },
  {
   "cell_type": "code",
   "execution_count": null,
   "metadata": {},
   "outputs": [],
   "source": [
    "spark.sql('''\n",
    "            SELECT\n",
    "                p.Index,\n",
    "                c.Nacional,\n",
    "                p.promedio \n",
    "            FROM \n",
    "                COVID_NACIONAL AS c, \n",
    "                Promedio_Nacional AS p;\n",
    "            ''').toPandas()"
   ]
  },
  {
   "cell_type": "markdown",
   "metadata": {},
   "source": [
    "## Uso de ```LIMIT```."
   ]
  },
  {
   "cell_type": "markdown",
   "metadata": {},
   "source": [
    "* La siguiente delcaración regresará los ```20``` primeros registros resultantes de la búsqueda en la columna ```Nacional```."
   ]
  },
  {
   "cell_type": "code",
   "execution_count": null,
   "metadata": {
    "scrolled": true
   },
   "outputs": [],
   "source": [
    "spark.sql('''\n",
    "            SELECT \n",
    "                Nacional\n",
    "            FROM COVID_NACIONAL\n",
    "            LIMIT 20;\n",
    "            ''').toPandas()"
   ]
  },
  {
   "cell_type": "markdown",
   "metadata": {},
   "source": [
    "## Uso de ```WHERE```."
   ]
  },
  {
   "cell_type": "markdown",
   "metadata": {},
   "source": [
    "https://spark.apache.org/docs/latest/sql-ref-syntax-qry-select-where.html"
   ]
  },
  {
   "cell_type": "code",
   "execution_count": null,
   "metadata": {},
   "outputs": [],
   "source": [
    "spark.sql('''\n",
    "            SELECT\n",
    "                Index,\n",
    "                Aguascalientes,\n",
    "                Nacional / 32 as promedio\n",
    "             FROM COVID_NACIONAL\n",
    "             WHERE Aguascalientes > Nacional / 32;\n",
    "             ''').toPandas()"
   ]
  },
  {
   "cell_type": "code",
   "execution_count": null,
   "metadata": {},
   "outputs": [],
   "source": [
    "spark.sql('''\n",
    "            SELECT *\n",
    "            FROM COVID_NACIONAL\n",
    "            WHERE Index = '2020-03-25';\n",
    "            ''').toPandas()"
   ]
  },
  {
   "cell_type": "markdown",
   "metadata": {},
   "source": [
    "### Uso de ```AND```."
   ]
  },
  {
   "cell_type": "code",
   "execution_count": null,
   "metadata": {
    "scrolled": true
   },
   "outputs": [],
   "source": [
    "spark.sql('''\n",
    "            SELECT\n",
    "                Index,\n",
    "                Aguascalientes\n",
    "            FROM COVID_NACIONAL\n",
    "            WHERE AGUASCALIENTES > Nacional / 32 AND AGUASCALIENTES > 100;\n",
    "            ''').toPandas()"
   ]
  },
  {
   "cell_type": "markdown",
   "metadata": {},
   "source": [
    "### Uso de ```OR```."
   ]
  },
  {
   "cell_type": "code",
   "execution_count": null,
   "metadata": {
    "scrolled": true
   },
   "outputs": [],
   "source": [
    "spark.sql('''\n",
    "            SELECT \n",
    "                Index, \n",
    "                Aguascalientes\n",
    "            FROM COVID_NACIONAL\n",
    "            WHERE AGUASCALIENTES > Nacional / 32 OR AGUASCALIENTES = 0;\n",
    "            ''').toPandas()"
   ]
  },
  {
   "cell_type": "markdown",
   "metadata": {},
   "source": [
    "### Uso de ```BETWEEN```."
   ]
  },
  {
   "cell_type": "code",
   "execution_count": null,
   "metadata": {},
   "outputs": [],
   "source": [
    "spark.sql('''\n",
    "            SELECT \n",
    "                Index,\n",
    "                Aguascalientes\n",
    "            FROM COVID_NACIONAL\n",
    "            WHERE Aguascalientes BETWEEN 100 AND 500;\n",
    "            ''').toPandas()"
   ]
  },
  {
   "cell_type": "code",
   "execution_count": null,
   "metadata": {},
   "outputs": [],
   "source": [
    "spark.sql('''\n",
    "            SELECT\n",
    "                Index,\n",
    "                Aguascalientes\n",
    "            FROM COVID_NACIONAL\n",
    "            WHERE Index BETWEEN '2021-01-01' AND '2021-01-15';\n",
    "            ''').toPandas()"
   ]
  },
  {
   "cell_type": "markdown",
   "metadata": {},
   "source": [
    "### Uso de ```IN```. "
   ]
  },
  {
   "cell_type": "code",
   "execution_count": null,
   "metadata": {
    "scrolled": true
   },
   "outputs": [],
   "source": [
    "spark.sql('''\n",
    "            SELECT\n",
    "                Index,\n",
    "                Nacional\n",
    "            FROM COVID_NACIONAL\n",
    "            WHERE Nacional IN (50, 100, 150, 200, 250, 300);\n",
    "            ''').toPandas()"
   ]
  },
  {
   "cell_type": "markdown",
   "metadata": {},
   "source": [
    "### Uso de ```NOT IN```. "
   ]
  },
  {
   "cell_type": "code",
   "execution_count": null,
   "metadata": {},
   "outputs": [],
   "source": [
    "spark.sql('''\n",
    "            SELECT\n",
    "                Index,\n",
    "                NAcional\n",
    "            FROM COVID_NACIONAL\n",
    "            WHERE Index BETWEEN '2022-04-20' AND '2022-04-25'\n",
    "                AND Nacional NOT IN (50, 100, 150, 200, 250, 300);\n",
    "            ''').toPandas()"
   ]
  },
  {
   "cell_type": "markdown",
   "metadata": {},
   "source": [
    "### Uso de ```IS NULL```. "
   ]
  },
  {
   "cell_type": "code",
   "execution_count": null,
   "metadata": {},
   "outputs": [],
   "source": [
    "spark.sql('''\n",
    "            SELECT\n",
    "                Index,\n",
    "                Aguascalientes\n",
    "            FROM COVID_NACIONAL\n",
    "            WHERE Aguascalientes IS NULL;\n",
    "            ''').toPandas()"
   ]
  },
  {
   "cell_type": "markdown",
   "metadata": {},
   "source": [
    "### Uso de ```IS NOT NULL```."
   ]
  },
  {
   "cell_type": "code",
   "execution_count": null,
   "metadata": {
    "scrolled": true
   },
   "outputs": [],
   "source": [
    "spark.sql('''\n",
    "            SELECT\n",
    "                Index,\n",
    "                Aguascalientes\n",
    "            FROM COVID_NACIONAL\n",
    "            WHERE Aguascalientes IS NOT NULL;\n",
    "            ''').toPandas()"
   ]
  },
  {
   "cell_type": "code",
   "execution_count": null,
   "metadata": {},
   "outputs": [],
   "source": [
    "spark.sql('''\n",
    "            SELECT explode((1,2,3)) AS arreglo;\n",
    "            ''').toPandas()"
   ]
  },
  {
   "cell_type": "markdown",
   "metadata": {},
   "source": [
    "## Uso de ```ORDER BY```."
   ]
  },
  {
   "cell_type": "code",
   "execution_count": null,
   "metadata": {
    "scrolled": true
   },
   "outputs": [],
   "source": [
    "spark.sql('''\n",
    "            SELECT\n",
    "                Index,\n",
    "                Aguascalientes,\n",
    "                Nacional\n",
    "             FROM COVID_NACIONAL\n",
    "             WHERE Index BETWEEN '2021-01-01' AND '2021-01-15'\n",
    "             ORDER BY Nacional;\n",
    "             ''').toPandas()"
   ]
  },
  {
   "cell_type": "code",
   "execution_count": null,
   "metadata": {
    "scrolled": true
   },
   "outputs": [],
   "source": [
    "spark.sql('''\n",
    "            SELECT\n",
    "                Index,\n",
    "                Aguascalientes,\n",
    "                Nacional\n",
    "            FROM COVID_NACIONAL\n",
    "            WHERE Index BETWEEN '2021-01-01' AND '2021-01-15'\n",
    "            ORDER BY Nacional DESC;\n",
    "            ''').toPandas()"
   ]
  },
  {
   "cell_type": "markdown",
   "metadata": {},
   "source": [
    "## ```GROUP BY```"
   ]
  },
  {
   "cell_type": "code",
   "execution_count": null,
   "metadata": {},
   "outputs": [],
   "source": [
    "spark.sql('''\n",
    "            SELECT\n",
    "                species,\n",
    "                COUNT(species) \n",
    "            FROM Iris\n",
    "            GROUP BY species;\n",
    "            ''').toPandas()"
   ]
  },
  {
   "cell_type": "code",
   "execution_count": null,
   "metadata": {},
   "outputs": [],
   "source": [
    "spark.sql('''\n",
    "            SELECT\n",
    "                species,\n",
    "                MEAN(sepal_length) \n",
    "            FROM Iris\n",
    "            GROUP BY species;\n",
    "            ''').toPandas()"
   ]
  },
  {
   "cell_type": "markdown",
   "metadata": {},
   "source": [
    "### ```HAVING```"
   ]
  },
  {
   "cell_type": "code",
   "execution_count": null,
   "metadata": {},
   "outputs": [],
   "source": [
    "spark.sql('''SELECT species, MEAN(sepal_length) as sepal_media\n",
    "             FROM Iris\n",
    "             GROUP BY species\n",
    "             HAVING sepal_media < 6;\n",
    "          ''').toPandas()"
   ]
  },
  {
   "cell_type": "markdown",
   "metadata": {},
   "source": [
    "## ```CASE```\n",
    "\n",
    "https://spark.apache.org/docs/latest/sql-ref-syntax-qry-select-case.html"
   ]
  },
  {
   "cell_type": "code",
   "execution_count": null,
   "metadata": {},
   "outputs": [],
   "source": [
    "spark.sql('''SELECT Index, Nacional,\n",
    "             CASE WHEN Nacional = 0 THEN \"ninguno\"\n",
    "                 WHEN NACIONAL > 10000 THEN \"alto\"\n",
    "                 ELSE \"normal\"\n",
    "             END AS categoria\n",
    "             FROM COVID_NACIONAL\n",
    "             WHERE Index BETWEEN '2021-01-01' AND '2021-01-15'\n",
    "             ''').toPandas()"
   ]
  },
  {
   "cell_type": "code",
   "execution_count": null,
   "metadata": {},
   "outputs": [],
   "source": [
    "spark.stop()"
   ]
  },
  {
   "cell_type": "markdown",
   "metadata": {},
   "source": [
    "<p style=\"text-align: center\"><a rel=\"license\" href=\"http://creativecommons.org/licenses/by/4.0/\"><img alt=\"Licencia Creative Commons\" style=\"border-width:0\" src=\"https://i.creativecommons.org/l/by/4.0/80x15.png\" /></a><br />Esta obra está bajo una <a rel=\"license\" href=\"http://creativecommons.org/licenses/by/4.0/\">Licencia Creative Commons Atribución 4.0 Internacional</a>.</p>\n",
    "<p style=\"text-align: center\">&copy; José Luis Chiquete Valdivieso. 2023.</p>"
   ]
  }
 ],
 "metadata": {
  "kernelspec": {
   "display_name": "Python 3 (ipykernel)",
   "language": "python",
   "name": "python3"
  },
  "language_info": {
   "codemirror_mode": {
    "name": "ipython",
    "version": 3
   },
   "file_extension": ".py",
   "mimetype": "text/x-python",
   "name": "python",
   "nbconvert_exporter": "python",
   "pygments_lexer": "ipython3",
   "version": "3.10.9"
  }
 },
 "nbformat": 4,
 "nbformat_minor": 4
}
