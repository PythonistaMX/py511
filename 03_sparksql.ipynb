{
 "cells": [
  {
   "cell_type": "markdown",
   "metadata": {},
   "source": [
    "[![img/pythonista.png](img/pythonista.png)](https://www.pythonista.io)"
   ]
  },
  {
   "cell_type": "markdown",
   "metadata": {},
   "source": [
    "# Introducción a *Spark SQL*."
   ]
  },
  {
   "cell_type": "code",
   "execution_count": 1,
   "metadata": {
    "scrolled": true
   },
   "outputs": [],
   "source": [
    "from pyspark.sql import SparkSession\n",
    "spark = SparkSession.builder.appName(\"Intro a Spark SQL\").getOrCreate()\n",
    "sc = spark.sparkContext"
   ]
  },
  {
   "cell_type": "markdown",
   "metadata": {},
   "source": [
    "Prácticamente todas las operaciones de *Apache Spark* para datos estructurados pueden ser realizadas mediante consultas de *SQL*. De forma similar a las *API*s de *Java*, *Python*, *R* y *Scala*, *Apache Spark* puede calcular la estrategia más conveniente para ejecutar una consulta de *SQL*.\n",
    "\n",
    "Las consultas de *Spark SQL* siempre regresan [*dataframes* y *datasets*](https://spark.apache.org/docs/latest/sql-programming-guide.html#datasets-and-dataframes).\n",
    "\n",
    "*Apache Spark* extiende las funcionalidades de [*Apache Hive*](https://spark.apache.org/docs/latest/sql-programming-guide.html) y es capaz de [leer tablas de *Hive*](https://spark.apache.org/docs/latest/sql-data-sources-hive-tables.html).\n",
    "\n",
    "La referencia de programación de *Spark SQL* puede ser consultada en la siguiente liga:\n",
    "\n",
    "* https://spark.apache.org/docs/latest/sql-ref.html"
   ]
  },
  {
   "cell_type": "markdown",
   "metadata": {
    "tags": []
   },
   "source": [
    "## Tablas temporales."
   ]
  },
  {
   "cell_type": "markdown",
   "metadata": {},
   "source": [
    "Una tabla temporal es una estructura tabular que se crea en memoria a partir de un *dataframe* y que se crea mediante el método ```df.createOrRepalceTempView()```.\n",
    "\n",
    "``` python\n",
    "df.createOrRepalceTempView(<nombre>)\n",
    "```\n",
    "\n",
    "Donde:\n",
    "\n",
    "* ```<nombre>``` es el nombre de la tabla temporal a la que se podrá hacer referencia en la consulta tal como se hace en una tabla de una base de datos."
   ]
  },
  {
   "cell_type": "markdown",
   "metadata": {},
   "source": [
    "**Ejemplo:**"
   ]
  },
  {
   "cell_type": "code",
   "execution_count": 2,
   "metadata": {},
   "outputs": [],
   "source": [
    "df = spark.read.parquet(\"data/data_covid.parquet\")"
   ]
  },
  {
   "cell_type": "code",
   "execution_count": 3,
   "metadata": {},
   "outputs": [
    {
     "name": "stderr",
     "output_type": "stream",
     "text": [
      "/usr/local/spark/python/pyspark/sql/pandas/conversion.py:248: FutureWarning: Passing unit-less datetime64 dtype to .astype is deprecated and will raise in a future version. Pass 'datetime64[ns]' instead\n",
      "  series = series.astype(t, copy=False)\n"
     ]
    },
    {
     "data": {
      "text/html": [
       "<div>\n",
       "<style scoped>\n",
       "    .dataframe tbody tr th:only-of-type {\n",
       "        vertical-align: middle;\n",
       "    }\n",
       "\n",
       "    .dataframe tbody tr th {\n",
       "        vertical-align: top;\n",
       "    }\n",
       "\n",
       "    .dataframe thead th {\n",
       "        text-align: right;\n",
       "    }\n",
       "</style>\n",
       "<table border=\"1\" class=\"dataframe\">\n",
       "  <thead>\n",
       "    <tr style=\"text-align: right;\">\n",
       "      <th></th>\n",
       "      <th>AGUASCALIENTES</th>\n",
       "      <th>BAJA CALIFORNIA</th>\n",
       "      <th>BAJA CALIFORNIA SUR</th>\n",
       "      <th>CAMPECHE</th>\n",
       "      <th>CHIAPAS</th>\n",
       "      <th>CHIHUAHUA</th>\n",
       "      <th>DISTRITO FEDERAL</th>\n",
       "      <th>COAHUILA</th>\n",
       "      <th>COLIMA</th>\n",
       "      <th>DURANGO</th>\n",
       "      <th>...</th>\n",
       "      <th>SINALOA</th>\n",
       "      <th>SONORA</th>\n",
       "      <th>TABASCO</th>\n",
       "      <th>TAMAULIPAS</th>\n",
       "      <th>TLAXCALA</th>\n",
       "      <th>VERACRUZ</th>\n",
       "      <th>YUCATAN</th>\n",
       "      <th>ZACATECAS</th>\n",
       "      <th>Nacional</th>\n",
       "      <th>index</th>\n",
       "    </tr>\n",
       "  </thead>\n",
       "  <tbody>\n",
       "    <tr>\n",
       "      <th>0</th>\n",
       "      <td>0</td>\n",
       "      <td>0</td>\n",
       "      <td>0</td>\n",
       "      <td>0</td>\n",
       "      <td>0</td>\n",
       "      <td>0</td>\n",
       "      <td>0</td>\n",
       "      <td>0</td>\n",
       "      <td>0</td>\n",
       "      <td>0</td>\n",
       "      <td>...</td>\n",
       "      <td>0</td>\n",
       "      <td>0</td>\n",
       "      <td>0</td>\n",
       "      <td>0</td>\n",
       "      <td>0</td>\n",
       "      <td>0</td>\n",
       "      <td>0</td>\n",
       "      <td>0</td>\n",
       "      <td>0</td>\n",
       "      <td>2020-02-26</td>\n",
       "    </tr>\n",
       "    <tr>\n",
       "      <th>1</th>\n",
       "      <td>0</td>\n",
       "      <td>0</td>\n",
       "      <td>0</td>\n",
       "      <td>0</td>\n",
       "      <td>0</td>\n",
       "      <td>0</td>\n",
       "      <td>2</td>\n",
       "      <td>0</td>\n",
       "      <td>0</td>\n",
       "      <td>0</td>\n",
       "      <td>...</td>\n",
       "      <td>0</td>\n",
       "      <td>0</td>\n",
       "      <td>0</td>\n",
       "      <td>0</td>\n",
       "      <td>0</td>\n",
       "      <td>0</td>\n",
       "      <td>0</td>\n",
       "      <td>0</td>\n",
       "      <td>4</td>\n",
       "      <td>2020-02-27</td>\n",
       "    </tr>\n",
       "    <tr>\n",
       "      <th>2</th>\n",
       "      <td>0</td>\n",
       "      <td>0</td>\n",
       "      <td>0</td>\n",
       "      <td>0</td>\n",
       "      <td>0</td>\n",
       "      <td>0</td>\n",
       "      <td>0</td>\n",
       "      <td>1</td>\n",
       "      <td>0</td>\n",
       "      <td>0</td>\n",
       "      <td>...</td>\n",
       "      <td>0</td>\n",
       "      <td>0</td>\n",
       "      <td>0</td>\n",
       "      <td>0</td>\n",
       "      <td>0</td>\n",
       "      <td>0</td>\n",
       "      <td>0</td>\n",
       "      <td>0</td>\n",
       "      <td>2</td>\n",
       "      <td>2020-02-28</td>\n",
       "    </tr>\n",
       "    <tr>\n",
       "      <th>3</th>\n",
       "      <td>0</td>\n",
       "      <td>0</td>\n",
       "      <td>0</td>\n",
       "      <td>0</td>\n",
       "      <td>1</td>\n",
       "      <td>0</td>\n",
       "      <td>0</td>\n",
       "      <td>0</td>\n",
       "      <td>0</td>\n",
       "      <td>0</td>\n",
       "      <td>...</td>\n",
       "      <td>0</td>\n",
       "      <td>0</td>\n",
       "      <td>0</td>\n",
       "      <td>0</td>\n",
       "      <td>0</td>\n",
       "      <td>0</td>\n",
       "      <td>0</td>\n",
       "      <td>0</td>\n",
       "      <td>2</td>\n",
       "      <td>2020-02-29</td>\n",
       "    </tr>\n",
       "    <tr>\n",
       "      <th>4</th>\n",
       "      <td>0</td>\n",
       "      <td>0</td>\n",
       "      <td>0</td>\n",
       "      <td>0</td>\n",
       "      <td>0</td>\n",
       "      <td>0</td>\n",
       "      <td>0</td>\n",
       "      <td>0</td>\n",
       "      <td>0</td>\n",
       "      <td>0</td>\n",
       "      <td>...</td>\n",
       "      <td>0</td>\n",
       "      <td>0</td>\n",
       "      <td>0</td>\n",
       "      <td>0</td>\n",
       "      <td>0</td>\n",
       "      <td>0</td>\n",
       "      <td>0</td>\n",
       "      <td>0</td>\n",
       "      <td>2</td>\n",
       "      <td>2020-03-01</td>\n",
       "    </tr>\n",
       "    <tr>\n",
       "      <th>...</th>\n",
       "      <td>...</td>\n",
       "      <td>...</td>\n",
       "      <td>...</td>\n",
       "      <td>...</td>\n",
       "      <td>...</td>\n",
       "      <td>...</td>\n",
       "      <td>...</td>\n",
       "      <td>...</td>\n",
       "      <td>...</td>\n",
       "      <td>...</td>\n",
       "      <td>...</td>\n",
       "      <td>...</td>\n",
       "      <td>...</td>\n",
       "      <td>...</td>\n",
       "      <td>...</td>\n",
       "      <td>...</td>\n",
       "      <td>...</td>\n",
       "      <td>...</td>\n",
       "      <td>...</td>\n",
       "      <td>...</td>\n",
       "      <td>...</td>\n",
       "    </tr>\n",
       "    <tr>\n",
       "      <th>790</th>\n",
       "      <td>25</td>\n",
       "      <td>23</td>\n",
       "      <td>24</td>\n",
       "      <td>1</td>\n",
       "      <td>1</td>\n",
       "      <td>8</td>\n",
       "      <td>163</td>\n",
       "      <td>4</td>\n",
       "      <td>9</td>\n",
       "      <td>8</td>\n",
       "      <td>...</td>\n",
       "      <td>6</td>\n",
       "      <td>12</td>\n",
       "      <td>4</td>\n",
       "      <td>5</td>\n",
       "      <td>4</td>\n",
       "      <td>79</td>\n",
       "      <td>38</td>\n",
       "      <td>3</td>\n",
       "      <td>583</td>\n",
       "      <td>2022-04-26</td>\n",
       "    </tr>\n",
       "    <tr>\n",
       "      <th>791</th>\n",
       "      <td>21</td>\n",
       "      <td>25</td>\n",
       "      <td>18</td>\n",
       "      <td>3</td>\n",
       "      <td>1</td>\n",
       "      <td>9</td>\n",
       "      <td>200</td>\n",
       "      <td>3</td>\n",
       "      <td>6</td>\n",
       "      <td>1</td>\n",
       "      <td>...</td>\n",
       "      <td>10</td>\n",
       "      <td>7</td>\n",
       "      <td>5</td>\n",
       "      <td>8</td>\n",
       "      <td>2</td>\n",
       "      <td>51</td>\n",
       "      <td>25</td>\n",
       "      <td>5</td>\n",
       "      <td>556</td>\n",
       "      <td>2022-04-27</td>\n",
       "    </tr>\n",
       "    <tr>\n",
       "      <th>792</th>\n",
       "      <td>33</td>\n",
       "      <td>17</td>\n",
       "      <td>12</td>\n",
       "      <td>4</td>\n",
       "      <td>3</td>\n",
       "      <td>9</td>\n",
       "      <td>134</td>\n",
       "      <td>2</td>\n",
       "      <td>2</td>\n",
       "      <td>2</td>\n",
       "      <td>...</td>\n",
       "      <td>11</td>\n",
       "      <td>4</td>\n",
       "      <td>10</td>\n",
       "      <td>8</td>\n",
       "      <td>0</td>\n",
       "      <td>34</td>\n",
       "      <td>24</td>\n",
       "      <td>1</td>\n",
       "      <td>456</td>\n",
       "      <td>2022-04-28</td>\n",
       "    </tr>\n",
       "    <tr>\n",
       "      <th>793</th>\n",
       "      <td>19</td>\n",
       "      <td>15</td>\n",
       "      <td>6</td>\n",
       "      <td>1</td>\n",
       "      <td>1</td>\n",
       "      <td>2</td>\n",
       "      <td>63</td>\n",
       "      <td>2</td>\n",
       "      <td>2</td>\n",
       "      <td>0</td>\n",
       "      <td>...</td>\n",
       "      <td>1</td>\n",
       "      <td>2</td>\n",
       "      <td>3</td>\n",
       "      <td>3</td>\n",
       "      <td>0</td>\n",
       "      <td>39</td>\n",
       "      <td>27</td>\n",
       "      <td>3</td>\n",
       "      <td>255</td>\n",
       "      <td>2022-04-29</td>\n",
       "    </tr>\n",
       "    <tr>\n",
       "      <th>794</th>\n",
       "      <td>0</td>\n",
       "      <td>0</td>\n",
       "      <td>0</td>\n",
       "      <td>0</td>\n",
       "      <td>0</td>\n",
       "      <td>0</td>\n",
       "      <td>1</td>\n",
       "      <td>0</td>\n",
       "      <td>0</td>\n",
       "      <td>0</td>\n",
       "      <td>...</td>\n",
       "      <td>0</td>\n",
       "      <td>0</td>\n",
       "      <td>0</td>\n",
       "      <td>0</td>\n",
       "      <td>0</td>\n",
       "      <td>0</td>\n",
       "      <td>0</td>\n",
       "      <td>0</td>\n",
       "      <td>1</td>\n",
       "      <td>2022-04-30</td>\n",
       "    </tr>\n",
       "  </tbody>\n",
       "</table>\n",
       "<p>795 rows × 34 columns</p>\n",
       "</div>"
      ],
      "text/plain": [
       "     AGUASCALIENTES  BAJA CALIFORNIA  BAJA CALIFORNIA SUR  CAMPECHE  CHIAPAS  \\\n",
       "0                 0                0                    0         0        0   \n",
       "1                 0                0                    0         0        0   \n",
       "2                 0                0                    0         0        0   \n",
       "3                 0                0                    0         0        1   \n",
       "4                 0                0                    0         0        0   \n",
       "..              ...              ...                  ...       ...      ...   \n",
       "790              25               23                   24         1        1   \n",
       "791              21               25                   18         3        1   \n",
       "792              33               17                   12         4        3   \n",
       "793              19               15                    6         1        1   \n",
       "794               0                0                    0         0        0   \n",
       "\n",
       "     CHIHUAHUA  DISTRITO FEDERAL  COAHUILA  COLIMA  DURANGO  ...  SINALOA  \\\n",
       "0            0                 0         0       0        0  ...        0   \n",
       "1            0                 2         0       0        0  ...        0   \n",
       "2            0                 0         1       0        0  ...        0   \n",
       "3            0                 0         0       0        0  ...        0   \n",
       "4            0                 0         0       0        0  ...        0   \n",
       "..         ...               ...       ...     ...      ...  ...      ...   \n",
       "790          8               163         4       9        8  ...        6   \n",
       "791          9               200         3       6        1  ...       10   \n",
       "792          9               134         2       2        2  ...       11   \n",
       "793          2                63         2       2        0  ...        1   \n",
       "794          0                 1         0       0        0  ...        0   \n",
       "\n",
       "     SONORA  TABASCO  TAMAULIPAS  TLAXCALA  VERACRUZ  YUCATAN  ZACATECAS  \\\n",
       "0         0        0           0         0         0        0          0   \n",
       "1         0        0           0         0         0        0          0   \n",
       "2         0        0           0         0         0        0          0   \n",
       "3         0        0           0         0         0        0          0   \n",
       "4         0        0           0         0         0        0          0   \n",
       "..      ...      ...         ...       ...       ...      ...        ...   \n",
       "790      12        4           5         4        79       38          3   \n",
       "791       7        5           8         2        51       25          5   \n",
       "792       4       10           8         0        34       24          1   \n",
       "793       2        3           3         0        39       27          3   \n",
       "794       0        0           0         0         0        0          0   \n",
       "\n",
       "     Nacional      index  \n",
       "0           0 2020-02-26  \n",
       "1           4 2020-02-27  \n",
       "2           2 2020-02-28  \n",
       "3           2 2020-02-29  \n",
       "4           2 2020-03-01  \n",
       "..        ...        ...  \n",
       "790       583 2022-04-26  \n",
       "791       556 2022-04-27  \n",
       "792       456 2022-04-28  \n",
       "793       255 2022-04-29  \n",
       "794         1 2022-04-30  \n",
       "\n",
       "[795 rows x 34 columns]"
      ]
     },
     "execution_count": 3,
     "metadata": {},
     "output_type": "execute_result"
    }
   ],
   "source": [
    "df.toPandas()"
   ]
  },
  {
   "cell_type": "code",
   "execution_count": null,
   "metadata": {},
   "outputs": [],
   "source": [
    "df.createOrReplaceTempView(\"COVID_NACIONAL\")"
   ]
  },
  {
   "cell_type": "markdown",
   "metadata": {
    "tags": []
   },
   "source": [
    "## Ejecución de consultas *SQL*."
   ]
  },
  {
   "cell_type": "markdown",
   "metadata": {},
   "source": [
    "El método ```spark.sql()``` pemite ejecutar una consulta sobre una o más tablas temporales.\n",
    "\n",
    "```\n",
    "spark.sql(<Consulta>)\n",
    "```"
   ]
  },
  {
   "cell_type": "code",
   "execution_count": null,
   "metadata": {},
   "outputs": [],
   "source": [
    "spark.sql('SELECT Nacional from COVID_NACIONAL')"
   ]
  },
  {
   "cell_type": "code",
   "execution_count": null,
   "metadata": {},
   "outputs": [],
   "source": [
    "spark.sql('SELECT Nacional, index from COVID_NACIONAL').show()"
   ]
  },
  {
   "cell_type": "markdown",
   "metadata": {
    "tags": []
   },
   "source": [
    "## Las funciones de *Spark SQL*."
   ]
  },
  {
   "cell_type": "markdown",
   "metadata": {},
   "source": [
    "*Spark SQL* [es compatible](https://spark.apache.org/docs/latest/sql-ref-ansi-compliance.html) con el estándar *ANSI SQL* y además lo extiende mendiante un conjunto de funciones las cuales pueden ser consultadas desde la siguiente liga:\n",
    "\n",
    "* https://spark.apache.org/docs/latest/api/sql/\n"
   ]
  },
  {
   "cell_type": "markdown",
   "metadata": {},
   "source": [
    "**Ejemplo:**"
   ]
  },
  {
   "cell_type": "markdown",
   "metadata": {},
   "source": [
    "* La siguiente celda regresará una tabla a partir de la tabla temporal ```COVID_NACIONAL``` con los casos de COVID-19 detectados en Aguascalientes entre durante  enero de 2021. "
   ]
  },
  {
   "cell_type": "code",
   "execution_count": null,
   "metadata": {},
   "outputs": [],
   "source": [
    "spark.sql(\"\"\"\n",
    "           SELECT AGUASCALIENTES, index\n",
    "           FROM COVID_NACIONAL \n",
    "           WHERE index \n",
    "              BETWEEN \"2021-01-01\"\n",
    "                  AND \"2021-01-31\" \n",
    "           \"\"\").show(31)"
   ]
  },
  {
   "cell_type": "markdown",
   "metadata": {},
   "source": [
    "* La siguiente celda creará la tabla temporal ```AGS_ENERO``` a partir de la tabla temporal ```COVID_NACIONAL``` con los casos de COVID-19 detectados en Aguascalientes entre durante  enero de 2021. "
   ]
  },
  {
   "cell_type": "code",
   "execution_count": null,
   "metadata": {},
   "outputs": [],
   "source": [
    "spark.sql(\"\"\"\n",
    "           (SELECT AGUASCALIENTES, index\n",
    "           FROM COVID_NACIONAL \n",
    "           WHERE index \n",
    "              BETWEEN timestamp\"2021-01-01\"\n",
    "                  AND timestamp\"2021-01-31\")\n",
    "           \"\"\").createOrReplaceTempView(\"AGS_ENERO\");"
   ]
  },
  {
   "cell_type": "markdown",
   "metadata": {},
   "source": [
    "* La siguiente celda calculará el promedio de casos diarios de COVID-19 detectados en Aguascalientes durante el mes de enero de 2021 a partir de la tabla temporal ```COVID_NACIONAl```."
   ]
  },
  {
   "cell_type": "code",
   "execution_count": null,
   "metadata": {},
   "outputs": [],
   "source": [
    "spark.sql(\"\"\"\n",
    "           SELECT avg(AGUASCALIENTES)\n",
    "           FROM\n",
    "           (SELECT AGUASCALIENTES, index\n",
    "           FROM COVID_NACIONAL \n",
    "           WHERE index \n",
    "              BETWEEN timestamp\"2021-01-01\"\n",
    "                  AND timestamp\"2021-01-31\") \n",
    "           \"\"\").show()"
   ]
  },
  {
   "cell_type": "markdown",
   "metadata": {},
   "source": [
    "* La siguiente celda calculará el promedio de casos diarios de COVID-19 detectados en Aguascalientes durante el mes de enero de 2021 a partir de la tabla temporal ```AGS_ENERO```."
   ]
  },
  {
   "cell_type": "code",
   "execution_count": null,
   "metadata": {},
   "outputs": [],
   "source": [
    "spark.sql(\"\"\"\n",
    "           SELECT avg(AGUASCALIENTES)\n",
    "           FROM AGS_ENERO \n",
    "           \"\"\").show()"
   ]
  },
  {
   "cell_type": "code",
   "execution_count": null,
   "metadata": {},
   "outputs": [],
   "source": [
    "spark.stop()"
   ]
  },
  {
   "cell_type": "markdown",
   "metadata": {},
   "source": [
    "<p style=\"text-align: center\"><a rel=\"license\" href=\"http://creativecommons.org/licenses/by/4.0/\"><img alt=\"Licencia Creative Commons\" style=\"border-width:0\" src=\"https://i.creativecommons.org/l/by/4.0/80x15.png\" /></a><br />Esta obra está bajo una <a rel=\"license\" href=\"http://creativecommons.org/licenses/by/4.0/\">Licencia Creative Commons Atribución 4.0 Internacional</a>.</p>\n",
    "<p style=\"text-align: center\">&copy; José Luis Chiquete Valdivieso. 2023.</p>"
   ]
  }
 ],
 "metadata": {
  "kernelspec": {
   "display_name": "Python 3 (ipykernel)",
   "language": "python",
   "name": "python3"
  },
  "language_info": {
   "codemirror_mode": {
    "name": "ipython",
    "version": 3
   },
   "file_extension": ".py",
   "mimetype": "text/x-python",
   "name": "python",
   "nbconvert_exporter": "python",
   "pygments_lexer": "ipython3",
   "version": "3.10.6"
  }
 },
 "nbformat": 4,
 "nbformat_minor": 4
}
