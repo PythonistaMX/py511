{
 "cells": [
  {
   "cell_type": "markdown",
   "metadata": {},
   "source": [
    "[![pythonista](img/pythonista.png)](https://www.pythonista.io)"
   ]
  },
  {
   "cell_type": "markdown",
   "metadata": {},
   "source": [
    "# Tablas en línea."
   ]
  },
  {
   "cell_type": "markdown",
   "metadata": {},
   "source": [
    "Una tabla en línea corresponde a una tabla que se crea medainte una expresión.\n",
    "* https://spark.apache.org/docs/latest/sql-ref-syntax-qry-select-inline-table.html"
   ]
  },
  {
   "cell_type": "code",
   "execution_count": null,
   "metadata": {},
   "outputs": [],
   "source": [
    "from pyspark.sql import SparkSession\n",
    "spark = SparkSession.builder.appName(\"with\").getOrCreate()\n",
    "ct = spark.sparkContext\n",
    "%load_ext sparksql_magic"
   ]
  },
  {
   "cell_type": "code",
   "execution_count": null,
   "metadata": {},
   "outputs": [],
   "source": [
    "(spark.read.parquet('data/data_covid.parquet')\n",
    "     .createOrReplaceTempView(\"COVID_NACIONAL\"))"
   ]
  },
  {
   "cell_type": "markdown",
   "metadata": {},
   "source": [
    "## Creación de tablas mediante ```VALUES```."
   ]
  },
  {
   "cell_type": "markdown",
   "metadata": {},
   "source": [
    "```VALUES``` permite definir una tabla mediane el uso de tuplas.Cada elemento de la tupla corresponde a un campo de un registro.\n",
    "\n",
    "Una expresión como la siguiente: \n",
    "```\n",
    "SELECT <cols>\n",
    "FROM VALUES\n",
    "    (<x_11>, <x_12>, ... <x_1n>),\n",
    "    (<x_21>, <x_22>, ... <x_2n>),\n",
    "    ...\n",
    "    ...\n",
    "    (<x_m1>, <x_m2>, ... <x_mn>);\n",
    "```\n",
    "Generaría una tabla como la siguiente.\n",
    "\n",
    "|col_1|col_2|...| col_n|\n",
    "|:---:|:---:|:---:|:---:|\n",
    "|x_11|x12|...|x1n|\n",
    "|x_21|x22|...|x2n|\n",
    "|...|...|...|...|\n",
    "|x_m1|x_m2|...|x_mn|"
   ]
  },
  {
   "cell_type": "code",
   "execution_count": null,
   "metadata": {
    "scrolled": true
   },
   "outputs": [],
   "source": [
    "%%sparksql\n",
    "SELECT * \n",
    "FROM VALUES \n",
    "    (\"uno\", 1), \n",
    "    (\"dos\", 2), \n",
    "    (\"tres\", null);"
   ]
  },
  {
   "cell_type": "markdown",
   "metadata": {},
   "source": [
    "* La siguiente celda no conitene tuplas del mismo tamaño, por lo que se producirá un error."
   ]
  },
  {
   "cell_type": "code",
   "execution_count": null,
   "metadata": {
    "scrolled": true
   },
   "outputs": [],
   "source": [
    "%%sparksql\n",
    "SELECT * \n",
    "FROM VALUES \n",
    "    (\"uno\", 1, \"one\"), \n",
    "    (\"dos\", 2)\n",
    "    (\"tres\", null, \"three\");"
   ]
  },
  {
   "cell_type": "markdown",
   "metadata": {},
   "source": [
    "### Nombrado de las columnas.\n",
    "\n",
    "\n",
    "Una definición de tabla como la siguiente:\n",
    "```\n",
    "SELECT <cols>\n",
    "FROM VALUES\n",
    "    (<x_11>, <x_12>, ..., <x_1n>),\n",
    "    (<x_21>, <x_22>, ..., <x_2n>),\n",
    "    ...\n",
    "    ...\n",
    "    (<x_m1>, <x_m2>, ..., <x_mn>)\n",
    "AS (<nombre_1>, <nombre_2>, ..., <nombre_n>); \n",
    "```\n",
    "\n",
    "Generaría una tabla como la siguiente.\n",
    "\n",
    "|nombre_1|nombre_2|...|nombre_n|\n",
    "|:---:|:---:|:---:|:---:|\n",
    "|x_11|x12|...|x1n|\n",
    "|x_21|x22|...|x2n|\n",
    "|...|...|...|...|\n",
    "|x_m1|x_m2|...|x_mn|"
   ]
  },
  {
   "cell_type": "code",
   "execution_count": null,
   "metadata": {},
   "outputs": [],
   "source": [
    "%%sparksql\n",
    "SELECT *\n",
    "FROM VALUES \n",
    "    (\"uno\", 1), \n",
    "    (\"dos\", 2), \n",
    "    (\"tres\", null)\n",
    "AS (primero, segundo);"
   ]
  },
  {
   "cell_type": "markdown",
   "metadata": {},
   "source": [
    "## Expresiones de tablas comunes."
   ]
  },
  {
   "cell_type": "markdown",
   "metadata": {},
   "source": [
    "Una de las ventajas de usar *Apache Spark* es que es posible guardar como una tabla temporal cualquier dataframe resultante de una consulta *SQL*. \n",
    "\n",
    "Sin embargo, *SQL* permite crear dentro de una sola consulta múltiples tablas efímeras, las cuales pueden ser referenciadas desde un ``` FROM```. \n",
    "\n",
    "* https://spark.apache.org/docs/latest/sql-ref-syntax-qry-select-cte.html"
   ]
  },
  {
   "cell_type": "markdown",
   "metadata": {},
   "source": [
    "### La declaración ```WITH```."
   ]
  },
  {
   "cell_type": "markdown",
   "metadata": {},
   "source": [
    "La declaración `WITH` me permite crear una tablas comunes que serán usadas como fuente de datos para otras expresiones."
   ]
  },
  {
   "cell_type": "markdown",
   "metadata": {},
   "source": [
    "```\n",
    "WITH <tabla>(<nombres_de_columnas>)\n",
    "AS (SELECT <expresión_1>)\n",
    "SELECT <expresión_2>\n",
    "FROM <tabla>;\n",
    "```"
   ]
  },
  {
   "cell_type": "code",
   "execution_count": null,
   "metadata": {},
   "outputs": [],
   "source": [
    "%%sparksql\n",
    "WITH tabla_nombres(nombres) \n",
    "AS (SELECT *\n",
    "    FROM VALUES\n",
    "        ('Juan'),\n",
    "        ('Luis'),\n",
    "        ('Maria'))\n",
    "SELECT * \n",
    "FROM tabla_nombres;"
   ]
  },
  {
   "cell_type": "code",
   "execution_count": null,
   "metadata": {},
   "outputs": [],
   "source": [
    "%%sparksql\n",
    "WITH datos_nacionales(fecha, contagios_nacionales)\n",
    "AS (SELECT \n",
    "        Index, \n",
    "        Nacional\n",
    "    FROM COVID_NACIONAL)\n",
    "SELECT contagios_nacionales\n",
    "FROM datos_nacionales;"
   ]
  },
  {
   "cell_type": "code",
   "execution_count": null,
   "metadata": {},
   "outputs": [],
   "source": [
    "%%sparksql\n",
    "SELECT contagios_nacionales\n",
    "FROM datos_nacionales;"
   ]
  },
  {
   "cell_type": "code",
   "execution_count": null,
   "metadata": {},
   "outputs": [],
   "source": [
    "%%sparksql\n",
    "WITH datos_nacionales(fecha, contagios_nacionales)\n",
    "AS (SELECT \n",
    "        Index, \n",
    "        Nacional\n",
    "    FROM COVID_NACIONAL)\n",
    "SELECT \n",
    "    avg(contagios_nacionales) AS promedio_nacional\n",
    "FROM datos_nacionales;"
   ]
  },
  {
   "cell_type": "code",
   "execution_count": null,
   "metadata": {},
   "outputs": [],
   "source": [
    "spark.stop()"
   ]
  },
  {
   "cell_type": "markdown",
   "metadata": {},
   "source": [
    "<p style=\"text-align: center\"><a rel=\"license\" href=\"http://creativecommons.org/licenses/by/4.0/\"><img alt=\"Licencia Creative Commons\" style=\"border-width:0\" src=\"https://i.creativecommons.org/l/by/4.0/80x15.png\" /></a><br />Esta obra está bajo una <a rel=\"license\" href=\"http://creativecommons.org/licenses/by/4.0/\">Licencia Creative Commons Atribución 4.0 Internacional</a>.</p>\n",
    "<p style=\"text-align: center\">&copy; José Luis Chiquete Valdivieso. 2023.</p>"
   ]
  }
 ],
 "metadata": {
  "kernelspec": {
   "display_name": "Python 3 (ipykernel)",
   "language": "python",
   "name": "python3"
  },
  "language_info": {
   "codemirror_mode": {
    "name": "ipython",
    "version": 3
   },
   "file_extension": ".py",
   "mimetype": "text/x-python",
   "name": "python",
   "nbconvert_exporter": "python",
   "pygments_lexer": "ipython3",
   "version": "3.10.9"
  }
 },
 "nbformat": 4,
 "nbformat_minor": 4
}
