{
 "cells": [
  {
   "cell_type": "markdown",
   "metadata": {},
   "source": [
    "[![pythonista](img/pythonista.png)](https://www.pythonista.io)"
   ]
  },
  {
   "cell_type": "markdown",
   "metadata": {
    "tags": []
   },
   "source": [
    "# Distribución y agrupamiento."
   ]
  },
  {
   "cell_type": "code",
   "execution_count": 1,
   "metadata": {
    "scrolled": true
   },
   "outputs": [],
   "source": [
    "from pyspark.sql import SparkSession\n",
    "spark = SparkSession.builder.appName(\"Intro a UNION\").getOrCreate()\n",
    "ct = spark.sparkContext\n",
    "%load_ext sparksql_magic"
   ]
  },
  {
   "cell_type": "code",
   "execution_count": 2,
   "metadata": {
    "scrolled": true
   },
   "outputs": [],
   "source": [
    "(spark.read.option(\"inferSchema\", \"true\").\n",
    " option(\"header\", \"true\").csv('data/IRIS.csv').\n",
    " createOrReplaceTempView(\"IRIS\"))"
   ]
  },
  {
   "cell_type": "code",
   "execution_count": 6,
   "metadata": {
    "scrolled": true
   },
   "outputs": [
    {
     "name": "stdout",
     "output_type": "stream",
     "text": [
      "only showing top 20 row(s)\n"
     ]
    },
    {
     "data": {
      "text/html": [
       "<table><tr style=\"border-bottom: 1px solid\"><td style=\"font-weight: bold\">sepal_length</td><td style=\"font-weight: bold\">sepal_width</td><td style=\"font-weight: bold\">petal_length</td><td style=\"font-weight: bold\">petal_width</td><td style=\"font-weight: bold\">species</td></tr><tr><td>5.1</td><td>3.5</td><td>1.4</td><td>0.2</td><td>Iris-setosa</td></tr><tr><td>4.9</td><td>3.0</td><td>1.4</td><td>0.2</td><td>Iris-setosa</td></tr><tr><td>4.7</td><td>3.2</td><td>1.3</td><td>0.2</td><td>Iris-setosa</td></tr><tr><td>4.6</td><td>3.1</td><td>1.5</td><td>0.2</td><td>Iris-setosa</td></tr><tr><td>5.0</td><td>3.6</td><td>1.4</td><td>0.2</td><td>Iris-setosa</td></tr><tr><td>5.4</td><td>3.9</td><td>1.7</td><td>0.4</td><td>Iris-setosa</td></tr><tr><td>4.6</td><td>3.4</td><td>1.4</td><td>0.3</td><td>Iris-setosa</td></tr><tr><td>5.0</td><td>3.4</td><td>1.5</td><td>0.2</td><td>Iris-setosa</td></tr><tr><td>4.4</td><td>2.9</td><td>1.4</td><td>0.2</td><td>Iris-setosa</td></tr><tr><td>4.9</td><td>3.1</td><td>1.5</td><td>0.1</td><td>Iris-setosa</td></tr><tr><td>5.4</td><td>3.7</td><td>1.5</td><td>0.2</td><td>Iris-setosa</td></tr><tr><td>4.8</td><td>3.4</td><td>1.6</td><td>0.2</td><td>Iris-setosa</td></tr><tr><td>4.8</td><td>3.0</td><td>1.4</td><td>0.1</td><td>Iris-setosa</td></tr><tr><td>4.3</td><td>3.0</td><td>1.1</td><td>0.1</td><td>Iris-setosa</td></tr><tr><td>5.8</td><td>4.0</td><td>1.2</td><td>0.2</td><td>Iris-setosa</td></tr><tr><td>5.7</td><td>4.4</td><td>1.5</td><td>0.4</td><td>Iris-setosa</td></tr><tr><td>5.4</td><td>3.9</td><td>1.3</td><td>0.4</td><td>Iris-setosa</td></tr><tr><td>5.1</td><td>3.5</td><td>1.4</td><td>0.3</td><td>Iris-setosa</td></tr><tr><td>5.7</td><td>3.8</td><td>1.7</td><td>0.3</td><td>Iris-setosa</td></tr><tr><td>5.1</td><td>3.8</td><td>1.5</td><td>0.3</td><td>Iris-setosa</td></tr></table>"
      ],
      "text/plain": [
       "<IPython.core.display.HTML object>"
      ]
     },
     "execution_count": 6,
     "metadata": {},
     "output_type": "execute_result"
    }
   ],
   "source": [
    "%%sparksql\n",
    "SELECT *\n",
    "FROM IRIS;"
   ]
  },
  {
   "cell_type": "markdown",
   "metadata": {},
   "source": [
    "## La claúsula `DISTRIBUTE BY`."
   ]
  },
  {
   "cell_type": "code",
   "execution_count": 8,
   "metadata": {
    "scrolled": true
   },
   "outputs": [
    {
     "data": {
      "text/html": [
       "<table><tr style=\"border-bottom: 1px solid\"><td style=\"font-weight: bold\">species</td><td style=\"font-weight: bold\">petal_length</td></tr><tr><td>Iris-virginica</td><td>5.8</td></tr><tr><td>Iris-virginica</td><td>5.5</td></tr><tr><td>Iris-virginica</td><td>5.3</td></tr><tr><td>Iris-virginica</td><td>5.4</td></tr><tr><td>Iris-virginica</td><td>5.1</td></tr><tr><td>Iris-setosa</td><td>1.5</td></tr><tr><td>Iris-versicolor</td><td>4.7</td></tr><tr><td>Iris-versicolor</td><td>3.3</td></tr><tr><td>Iris-versicolor</td><td>4.2</td></tr></table>"
      ],
      "text/plain": [
       "<IPython.core.display.HTML object>"
      ]
     },
     "execution_count": 8,
     "metadata": {},
     "output_type": "execute_result"
    }
   ],
   "source": [
    "%%sparksql\n",
    "SELECT \n",
    "    species,\n",
    "    petal_length\n",
    "FROM IRIS\n",
    "TABLESAMPLE (BUCKET 3 OUT OF 30)\n",
    "DISTRIBUTE BY species;"
   ]
  },
  {
   "cell_type": "markdown",
   "metadata": {},
   "source": [
    "## La claúsula `CLUSTER BY`."
   ]
  },
  {
   "cell_type": "code",
   "execution_count": 9,
   "metadata": {
    "scrolled": true
   },
   "outputs": [
    {
     "data": {
      "text/html": [
       "<table><tr style=\"border-bottom: 1px solid\"><td style=\"font-weight: bold\">species</td><td style=\"font-weight: bold\">petal_length</td></tr><tr><td>Iris-setosa</td><td>1.2</td></tr><tr><td>Iris-setosa</td><td>1.4</td></tr><tr><td>Iris-versicolor</td><td>4.9</td></tr><tr><td>Iris-versicolor</td><td>3.3</td></tr><tr><td>Iris-versicolor</td><td>4.7</td></tr><tr><td>Iris-versicolor</td><td>4.4</td></tr><tr><td>Iris-versicolor</td><td>3.9</td></tr><tr><td>Iris-versicolor</td><td>4.8</td></tr><tr><td>Iris-versicolor</td><td>4.7</td></tr><tr><td>Iris-versicolor</td><td>4.8</td></tr><tr><td>Iris-versicolor</td><td>4.6</td></tr><tr><td>Iris-versicolor</td><td>4.1</td></tr><tr><td>Iris-virginica</td><td>5.6</td></tr><tr><td>Iris-virginica</td><td>6.6</td></tr><tr><td>Iris-virginica</td><td>5.0</td></tr><tr><td>Iris-virginica</td><td>5.7</td></tr><tr><td>Iris-virginica</td><td>5.6</td></tr></table>"
      ],
      "text/plain": [
       "<IPython.core.display.HTML object>"
      ]
     },
     "execution_count": 9,
     "metadata": {},
     "output_type": "execute_result"
    }
   ],
   "source": [
    "%%sparksql\n",
    "SELECT \n",
    "    species, \n",
    "    petal_length\n",
    "FROM IRIS\n",
    "TABLESAMPLE (BUCKET 2 OUT OF 30)\n",
    "CLUSTER BY species;"
   ]
  },
  {
   "cell_type": "markdown",
   "metadata": {},
   "source": [
    "## `PARTITION BY`."
   ]
  },
  {
   "cell_type": "markdown",
   "metadata": {},
   "source": [
    "```\n",
    "<func>(<col>) OVER(PARTITION BY <col>)\n",
    "```"
   ]
  },
  {
   "cell_type": "code",
   "execution_count": 11,
   "metadata": {
    "scrolled": true
   },
   "outputs": [
    {
     "data": {
      "text/html": [
       "<table><tr style=\"border-bottom: 1px solid\"><td style=\"font-weight: bold\">species</td><td style=\"font-weight: bold\">petal_length</td><td style=\"font-weight: bold\">promedio</td></tr><tr><td>Iris-setosa</td><td>1.5</td><td>1.4</td></tr><tr><td>Iris-setosa</td><td>1.3</td><td>1.4</td></tr><tr><td>Iris-versicolor</td><td>3.5</td><td>3.5</td></tr><tr><td>Iris-versicolor</td><td>3.5</td><td>3.5</td></tr><tr><td>Iris-virginica</td><td>5.3</td><td>5.2</td></tr><tr><td>Iris-virginica</td><td>4.9</td><td>5.2</td></tr><tr><td>Iris-virginica</td><td>5.4</td><td>5.2</td></tr><tr><td>Iris-virginica</td><td>5.2</td><td>5.2</td></tr></table>"
      ],
      "text/plain": [
       "<IPython.core.display.HTML object>"
      ]
     },
     "execution_count": 11,
     "metadata": {},
     "output_type": "execute_result"
    }
   ],
   "source": [
    "%%sparksql\n",
    "SELECT \n",
    "    species,\n",
    "    petal_length,\n",
    "    avg(petal_length) OVER(PARTITION BY species) as promedio\n",
    "FROM IRIS\n",
    "TABLESAMPLE (BUCKET 2 OUT OF 30);"
   ]
  },
  {
   "cell_type": "code",
   "execution_count": 12,
   "metadata": {
    "scrolled": true
   },
   "outputs": [
    {
     "data": {
      "text/html": [
       "<table><tr style=\"border-bottom: 1px solid\"><td style=\"font-weight: bold\">species</td><td style=\"font-weight: bold\">avg(petal_length)</td></tr><tr><td>Iris-virginica</td><td>4.933333333333334</td></tr><tr><td>Iris-setosa</td><td>1.3999999999999997</td></tr><tr><td>Iris-versicolor</td><td>4.0</td></tr></table>"
      ],
      "text/plain": [
       "<IPython.core.display.HTML object>"
      ]
     },
     "execution_count": 12,
     "metadata": {},
     "output_type": "execute_result"
    }
   ],
   "source": [
    "%%sparksql\n",
    "SELECT \n",
    "    species,\n",
    "    avg(petal_length)\n",
    "FROM IRIS\n",
    "TABLESAMPLE (BUCKET 2 OUT OF 30)\n",
    "GROUP BY species;"
   ]
  },
  {
   "cell_type": "markdown",
   "metadata": {},
   "source": [
    "### Funciones de ventana (windows functions).\n",
    "\n",
    "https://spark.apache.org/docs/latest/sql-ref-syntax-qry-select-window.html"
   ]
  },
  {
   "cell_type": "code",
   "execution_count": 14,
   "metadata": {
    "scrolled": false
   },
   "outputs": [
    {
     "data": {
      "text/html": [
       "<table><tr style=\"border-bottom: 1px solid\"><td style=\"font-weight: bold\">species</td><td style=\"font-weight: bold\">petal_length</td><td style=\"font-weight: bold\">orden</td></tr><tr><td>Iris-setosa</td><td>1.6</td><td>1</td></tr><tr><td>Iris-setosa</td><td>1.6</td><td>1</td></tr><tr><td>Iris-setosa</td><td>1.5</td><td>3</td></tr><tr><td>Iris-setosa</td><td>1.4</td><td>4</td></tr><tr><td>Iris-versicolor</td><td>4.7</td><td>1</td></tr><tr><td>Iris-versicolor</td><td>4.5</td><td>2</td></tr><tr><td>Iris-versicolor</td><td>4.2</td><td>3</td></tr><tr><td>Iris-virginica</td><td>5.1</td><td>1</td></tr><tr><td>Iris-virginica</td><td>5.0</td><td>2</td></tr></table>"
      ],
      "text/plain": [
       "<IPython.core.display.HTML object>"
      ]
     },
     "execution_count": 14,
     "metadata": {},
     "output_type": "execute_result"
    }
   ],
   "source": [
    "%%sparksql\n",
    "SELECT \n",
    "    species,\n",
    "    petal_length,\n",
    "    RANK() OVER(PARTITION BY species ORDER BY petal_length DESC) as orden\n",
    "FROM IRIS\n",
    "TABLESAMPLE (BUCKET 2 OUT OF 30);"
   ]
  },
  {
   "cell_type": "markdown",
   "metadata": {},
   "source": [
    "<p style=\"text-align: center\"><a rel=\"license\" href=\"http://creativecommons.org/licenses/by/4.0/\"><img alt=\"Licencia Creative Commons\" style=\"border-width:0\" src=\"https://i.creativecommons.org/l/by/4.0/80x15.png\" /></a><br />Esta obra está bajo una <a rel=\"license\" href=\"http://creativecommons.org/licenses/by/4.0/\">Licencia Creative Commons Atribución 4.0 Internacional</a>.</p>\n",
    "<p style=\"text-align: center\">&copy; José Luis Chiquete Valdivieso. 2023.</p>"
   ]
  }
 ],
 "metadata": {
  "kernelspec": {
   "display_name": "Python 3 (ipykernel)",
   "language": "python",
   "name": "python3"
  },
  "language_info": {
   "codemirror_mode": {
    "name": "ipython",
    "version": 3
   },
   "file_extension": ".py",
   "mimetype": "text/x-python",
   "name": "python",
   "nbconvert_exporter": "python",
   "pygments_lexer": "ipython3",
   "version": "3.10.9"
  }
 },
 "nbformat": 4,
 "nbformat_minor": 4
}
