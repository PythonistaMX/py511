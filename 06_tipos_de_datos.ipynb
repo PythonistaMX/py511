{
 "cells": [
  {
   "cell_type": "markdown",
   "metadata": {},
   "source": [
    "[![pythonista](img/pythonista.png)](https://www.pythonista.io)"
   ]
  },
  {
   "cell_type": "markdown",
   "metadata": {
    "tags": []
   },
   "source": [
    "# Tipos de datos básicos."
   ]
  },
  {
   "cell_type": "code",
   "execution_count": null,
   "metadata": {},
   "outputs": [],
   "source": [
    "from pyspark.sql import SparkSession\n",
    "spark = SparkSession.builder.appName(\"Tipos de datos\").getOrCreate()\n",
    "ct = spark.sparkContext\n",
    "\n",
    "%load_ext sparksql_magic"
   ]
  },
  {
   "cell_type": "code",
   "execution_count": null,
   "metadata": {},
   "outputs": [],
   "source": [
    "df = spark.read.parquet('data/data_covid.parquet')\n",
    "df.createOrReplaceTempView(\"COVID_NACIONAL\")"
   ]
  },
  {
   "cell_type": "markdown",
   "metadata": {},
   "source": [
    "*Spark SQL* soporta diversos tipos de datos básicos.\n",
    "\n",
    "Los tipos de datos son fundamentales en *Spark SQL* por varias razones:\n",
    "\n",
    "1. **Optimización de Almacenamiento y Rendimiento:** Los tipos de datos adecuados pueden ayudar a reducir el espacio de almacenamiento y mejorar el rendimiento de las consultas, ya que Spark puede aplicar optimizaciones específicas según el tipo de dato.\n",
    "\n",
    "2. **Interoperabilidad:** Al utilizar tipos de datos compatibles con SQL estándar, Spark SQL facilita la integración con otras herramientas y sistemas que admiten SQL.\n",
    "\n",
    "3. **Facilidad de Uso:** Los tipos de datos bien definidos hacen que sea más fácil comprender y manipular los datos, lo que simplifica el desarrollo y el mantenimiento de las aplicaciones.\n",
    "\n",
    "4. **Precisión:** Al utilizar tipos de datos adecuados, se garantiza la precisión de los cálculos y se evitan problemas de redondeo o pérdida de información.\n",
    "\n",
    "* https://spark.apache.org/docs/latest/sql-ref-datatypes.html#tab_SQL_0"
   ]
  },
  {
   "cell_type": "markdown",
   "metadata": {},
   "source": [
    "## Tipos de Datos en Spark SQL.\n",
    "\n",
    "*Spark SQL* ofrece una amplia gama de tipos de datos que se pueden utilizar para modelar y analizar diferentes tipos de información. A continuación, se presentan algunos de los tipos de datos más comunes:\n",
    "\n",
    "1. **Tipos Numéricos:**\n",
    "   - `IntegerType`: Representa números enteros de 32 bits.\n",
    "   - `LongType`: Para números enteros de 64 bits.\n",
    "   - `FloatType` y `DoubleType`: Tipos de punto flotante de precisión simple y doble, respectivamente.\n",
    "\n",
    "2. **Tipos de Texto:**\n",
    "   - `StringType`: Utilizado para cadenas de texto.\n",
    "   - `TimestampType`: Almacena marcas de tiempo con fecha y hora.\n",
    "   - `DateType`: Para representar fechas sin información de hora.\n",
    "\n",
    "3. **Tipos Booleanos:**\n",
    "   - `BooleanType`: Almacena valores verdaderos o falsos.\n",
    "\n",
    "4. **Tipos Complejos:**\n",
    "   - `ArrayType`: Permite representar una colección ordenada de elementos del mismo tipo.\n",
    "   - `MapType`: Define una colección de pares clave-valor.\n",
    "   - `StructType`: Utilizado para modelar estructuras de datos anidadas.\n",
    "\n",
    "5. **Tipos Binarios:**\n",
    "   - `BinaryType`: Se utiliza para almacenar datos binarios, como imágenes o archivos.\n",
    "\n",
    "6. **Tipos Especiales:**\n",
    "   - `DecimalType`: Representa números decimales con precisión configurable.\n",
    "   - `NullType`: Denota un valor nulo.\n"
   ]
  },
  {
   "cell_type": "markdown",
   "metadata": {},
   "source": [
    "\n",
    "|Tipo de Spark |\tSQL|\n",
    "|:--------:|:--------|\n",
    "|BooleanType|```BOOLEAN```|\n",
    "|ByteType|```BYTE```, ```TINYINT```|\n",
    "|ShortType|```SHORT```, ```SMALLINT```|\n",
    "|IntegerType|```INT```, ```INTEGER```|\n",
    "|LongType|```LONG```, ```BIGINT```|\n",
    "|FloatType|```FLOAT```, ```REAL```|\n",
    "|DoubleType|```DOUBLE```|\n",
    "|DateType|```DATE```|\n",
    "|TimestampType| ```TIMESTAMP```|\n",
    "|StringType|```STRING```|\n",
    "|BinaryType|```BINARY```|\n",
    "|DecimalType|```DECIMAL```, ```DEC```, ```NUMERIC```|\n",
    "|YearMonthIntervalType|```INTERVAL YEAR```, ```INTERVAL YEAR TO MONTH```, ```INTERVAL MONTH```|\n",
    "|DayTimeIntervalType|```INTERVAL DAY```, ```INTERVAL DAY TO HOUR```, ```INTERVAL DAY TO MINUTE```, ```INTERVAL DAY TO SECOND```, ```INTERVAL HOUR```, ```INTERVAL HOUR TO MINUTE```, ```INTERVAL HOUR TO SECOND```, ```INTERVAL MINUTE```, ```INTERVAL MINUTE TO SECOND```, ```INTERVAL SECOND```|\n",
    "|ArrayType|```ARRAY<element_type>```|\n",
    "|StructType|```STRUCT<field1_name: field1_type, field2_name: field2_type, …>```|\n",
    "|MapType|```MAP<key_type, value_type>```|"
   ]
  },
  {
   "cell_type": "markdown",
   "metadata": {},
   "source": [
    "## Tipos de datos Especiales.\n",
    "\n",
    "* Infinito\n",
    "* ```NaN```"
   ]
  },
  {
   "cell_type": "markdown",
   "metadata": {},
   "source": [
    "* https://spark.apache.org/docs/latest/sql-ref-datatypes.html#floating-point-special-values"
   ]
  },
  {
   "cell_type": "markdown",
   "metadata": {},
   "source": [
    "## Funciones de conversión."
   ]
  },
  {
   "cell_type": "markdown",
   "metadata": {},
   "source": [
    "    Existen funciones que permiten transformar elementos a un tipo específico. \n",
    "\n",
    "* https://spark.apache.org/docs/latest/sql-ref-functions-builtin.html#conversion-functions"
   ]
  },
  {
   "cell_type": "markdown",
   "metadata": {},
   "source": [
    "### La función ```CAST()```.\n",
    "\n",
    "La función `CAST()` se utiliza para cambiar el tipo de datos de una columna en un *DataFrame* de *Spark SQL*. Esto puede ser necesario en situaciones en las que los tipos de datos de las columnas no coinciden con las necesidades de su análisis o cuando se requiere una conversión explícita para realizar operaciones específicas.\n",
    "\n",
    "La sintaxis básica de la función `CAST` es la siguiente:\n",
    "\n",
    "```\n",
    "CAST(<columna> AS <nuevo_tipo>)\n",
    "```\n",
    "\n",
    "Donde:\n",
    "* `<columna>` es la columna que desea convertir.\n",
    "* `<nuevo_tipo>` es el tipo de datos al que desea convertirla."
   ]
  },
  {
   "cell_type": "markdown",
   "metadata": {},
   "source": [
    "**Ejemplos:**"
   ]
  },
  {
   "cell_type": "code",
   "execution_count": null,
   "metadata": {},
   "outputs": [],
   "source": [
    "%%sparksql --cache\n",
    "SELECT CAST(Index AS STRING)\n",
    "FROM COVID_NACIONAL;"
   ]
  },
  {
   "cell_type": "code",
   "execution_count": null,
   "metadata": {},
   "outputs": [],
   "source": [
    "%%sparksql --cache\n",
    "SELECT CAST(Index AS INTEGER)\n",
    "FROM COVID_NACIONAL;"
   ]
  },
  {
   "cell_type": "code",
   "execution_count": null,
   "metadata": {},
   "outputs": [],
   "source": [
    "%%sparksql --cache\n",
    "SELECT CAST(Index AS DATE)\n",
    "FROM COVID_NACIONAL;"
   ]
  },
  {
   "cell_type": "code",
   "execution_count": null,
   "metadata": {},
   "outputs": [],
   "source": [
    "%%sparksql --cache\n",
    "SELECT CAST(Index AS BOOLEAN)\n",
    "FROM COVID_NACIONAL;"
   ]
  },
  {
   "cell_type": "code",
   "execution_count": null,
   "metadata": {},
   "outputs": [],
   "source": [
    "spark.stop()"
   ]
  },
  {
   "cell_type": "markdown",
   "metadata": {},
   "source": [
    "<p style=\"text-align: center\"><a rel=\"license\" href=\"http://creativecommons.org/licenses/by/4.0/\"><img alt=\"Licencia Creative Commons\" style=\"border-width:0\" src=\"https://i.creativecommons.org/l/by/4.0/80x15.png\" /></a><br />Esta obra está bajo una <a rel=\"license\" href=\"http://creativecommons.org/licenses/by/4.0/\">Licencia Creative Commons Atribución 4.0 Internacional</a>.</p>\n",
    "<p style=\"text-align: center\">&copy; José Luis Chiquete Valdivieso. 2023.</p>"
   ]
  }
 ],
 "metadata": {
  "kernelspec": {
   "display_name": "Python 3 (ipykernel)",
   "language": "python",
   "name": "python3"
  },
  "language_info": {
   "codemirror_mode": {
    "name": "ipython",
    "version": 3
   },
   "file_extension": ".py",
   "mimetype": "text/x-python",
   "name": "python",
   "nbconvert_exporter": "python",
   "pygments_lexer": "ipython3",
   "version": "3.10.9"
  }
 },
 "nbformat": 4,
 "nbformat_minor": 4
}
