{
 "cells": [
  {
   "cell_type": "markdown",
   "metadata": {},
   "source": [
    "[![pythonista](img/pythonista.png)](https://www.pythonista.io)"
   ]
  },
  {
   "cell_type": "markdown",
   "metadata": {
    "tags": []
   },
   "source": [
    "# Operaciones con conjuntos. "
   ]
  },
  {
   "cell_type": "markdown",
   "metadata": {},
   "source": [
    "https://spark.apache.org/docs/latest/sql-ref-syntax-qry-select-setops.html"
   ]
  },
  {
   "cell_type": "code",
   "execution_count": null,
   "metadata": {},
   "outputs": [],
   "source": [
    "from pyspark.sql import SparkSession\n",
    "spark = SparkSession.builder.appName(\"Intro a UNION\").getOrCreate()\n",
    "ct = spark.sparkContext\n",
    "%load_ext sparksql_magic"
   ]
  },
  {
   "cell_type": "markdown",
   "metadata": {},
   "source": [
    "## Tablas representativa."
   ]
  },
  {
   "cell_type": "markdown",
   "metadata": {},
   "source": [
    "La tabla `COVID_NACIONAL` tiene los datos de infectados de COVID-19 en México desde el 26 de febrero de 2020 hasta el 30 de abril de 2022. \n",
    "El archivo de origen fue tomado de la fuente el 20 de febrero de 2020. "
   ]
  },
  {
   "cell_type": "code",
   "execution_count": null,
   "metadata": {},
   "outputs": [],
   "source": [
    "spark.read.parquet('data/data_covid.parquet').createOrReplaceTempView(\"COVID_NACIONAL\")"
   ]
  },
  {
   "cell_type": "code",
   "execution_count": null,
   "metadata": {},
   "outputs": [],
   "source": [
    "%%sparksql\n",
    "SELECT first(index)\n",
    "FROM COVID_NACIONAL;"
   ]
  },
  {
   "cell_type": "code",
   "execution_count": null,
   "metadata": {},
   "outputs": [],
   "source": [
    "%%sparksql\n",
    "SELECT last(index)\n",
    "FROM COVID_NACIONAL;"
   ]
  },
  {
   "cell_type": "code",
   "execution_count": null,
   "metadata": {
    "scrolled": true
   },
   "outputs": [],
   "source": [
    "%%sparksql\n",
    "SELECT count(index)\n",
    "FROM COVID_NACIONAL;"
   ]
  },
  {
   "cell_type": "markdown",
   "metadata": {},
   "source": [
    "La tabla `COVID_NACIONAL_2022` tiene los datos de infectados de COVID-19 en México desde el 1 de enero de 2022 hasta el 31 de diciembre de 2022."
   ]
  },
  {
   "cell_type": "code",
   "execution_count": null,
   "metadata": {},
   "outputs": [],
   "source": [
    "spark.read.parquet('data/data_covid_2022.parquet').createOrReplaceTempView(\"COVID_NACIONAL_2022\")"
   ]
  },
  {
   "cell_type": "code",
   "execution_count": null,
   "metadata": {},
   "outputs": [],
   "source": [
    "%%sparksql\n",
    "SELECT first(index)\n",
    "FROM COVID_NACIONAL_2022;"
   ]
  },
  {
   "cell_type": "code",
   "execution_count": null,
   "metadata": {},
   "outputs": [],
   "source": [
    "%%sparksql\n",
    "SELECT last(index)\n",
    "FROM COVID_NACIONAL_2022;"
   ]
  },
  {
   "cell_type": "code",
   "execution_count": null,
   "metadata": {},
   "outputs": [],
   "source": [
    "%%sparksql\n",
    "SELECT count(index)\n",
    "FROM COVID_NACIONAL_2022;"
   ]
  },
  {
   "cell_type": "markdown",
   "metadata": {},
   "source": [
    "## La claúsula `UNION`.\n",
    "\n",
    "```\n",
    "SELECT ...\n",
    "....\n",
    "UNION\n",
    "SELECT ...\n",
    "```"
   ]
  },
  {
   "cell_type": "markdown",
   "metadata": {},
   "source": [
    "Esta claúsula permite crear operaciones de conjuntos de un unión."
   ]
  },
  {
   "cell_type": "code",
   "execution_count": null,
   "metadata": {},
   "outputs": [],
   "source": [
    "%%sparksql\n",
    "SELECT \n",
    "    Index,\n",
    "    Nacional\n",
    "FROM COVID_NACIONAL\n",
    "UNION\n",
    "SELECT \n",
    "    Index, \n",
    "    Nacional \n",
    "FROM COVID_NACIONAL_2022\n",
    "ORDER BY Index;"
   ]
  },
  {
   "cell_type": "code",
   "execution_count": null,
   "metadata": {
    "scrolled": true
   },
   "outputs": [],
   "source": [
    "%%sparksql\n",
    "WITH COVID_TOTAL AS\n",
    "    (SELECT \n",
    "        Index,\n",
    "        Nacional\n",
    "    FROM COVID_NACIONAL\n",
    "    UNION\n",
    "    SELECT \n",
    "        Index, \n",
    "        Nacional \n",
    "    FROM COVID_NACIONAL_2022)\n",
    "SELECT count(index)\n",
    "FROM COVID_TOTAL"
   ]
  },
  {
   "cell_type": "markdown",
   "metadata": {},
   "source": [
    "## La claúsula `INTERSECT`."
   ]
  },
  {
   "cell_type": "code",
   "execution_count": null,
   "metadata": {},
   "outputs": [],
   "source": [
    "%%sparksql\n",
    "SELECT \n",
    "    Index,\n",
    "    Nacional\n",
    "FROM COVID_NACIONAL\n",
    "INTERSECT\n",
    "SELECT \n",
    "    Index, \n",
    "    Nacional \n",
    "FROM COVID_NACIONAL_2022"
   ]
  },
  {
   "cell_type": "code",
   "execution_count": null,
   "metadata": {},
   "outputs": [],
   "source": [
    "%%sparksql\n",
    "WITH COVID_TOTAL AS\n",
    "    (SELECT \n",
    "        Index,\n",
    "        Nacional\n",
    "    FROM COVID_NACIONAL\n",
    "    INTERSECT\n",
    "    SELECT \n",
    "        Index, \n",
    "        Nacional \n",
    "    FROM COVID_NACIONAL_2022)\n",
    "    SELECT count(index)\n",
    "    FROM COVID_TOTAL"
   ]
  },
  {
   "cell_type": "code",
   "execution_count": null,
   "metadata": {},
   "outputs": [],
   "source": [
    "%%sparksql\n",
    "SELECT\n",
    "    a.Index,\n",
    "    a.Nacional AS Nacional_original,\n",
    "    b.Nacional AS Nacional_2022\n",
    "FROM COVID_NACIONAL AS a\n",
    "INNER JOIN COVID_NACIONAL_2022 AS b\n",
    "    ON a.index = b.index;"
   ]
  },
  {
   "cell_type": "markdown",
   "metadata": {},
   "source": [
    "## La claúsula EXCEPT."
   ]
  },
  {
   "cell_type": "code",
   "execution_count": null,
   "metadata": {},
   "outputs": [],
   "source": [
    "%%sparksql\n",
    "SELECT \n",
    "    Index,\n",
    "    Nacional\n",
    "FROM COVID_NACIONAL\n",
    "EXCEPT (SELECT\n",
    "        a.index,\n",
    "        a.Nacional\n",
    "    FROM COVID_NACIONAL AS a\n",
    "    INNER JOIN COVID_NACIONAL_2022 AS b\n",
    "        ON a.index = b.index);"
   ]
  },
  {
   "cell_type": "code",
   "execution_count": null,
   "metadata": {},
   "outputs": [],
   "source": [
    "%%sparksql\n",
    "WITH PREVIO_A_2022\n",
    "AS \n",
    "    (SELECT \n",
    "         Index,\n",
    "         Nacional\n",
    "     FROM COVID_NACIONAL\n",
    "     EXCEPT \n",
    "     (SELECT\n",
    "          a.index,\n",
    "          a.Nacional\n",
    "      FROM COVID_NACIONAL AS a\n",
    "      INNER JOIN COVID_NACIONAL_2022 AS b\n",
    "          ON a.index = b.index))\n",
    "SELECT count(index)\n",
    "FROM PREVIO_A_2022;"
   ]
  },
  {
   "cell_type": "code",
   "execution_count": null,
   "metadata": {},
   "outputs": [],
   "source": [
    "%%sparksql\n",
    "SELECT count(index)\n",
    "FROM\n",
    "    (SELECT \n",
    "     Index,\n",
    "     Nacional \n",
    "     FROM COVID_NACIONAL\n",
    "     EXCEPT (SELECT\n",
    "             a.index,\n",
    "             a.Nacional\n",
    "         FROM COVID_NACIONAL AS a\n",
    "         INNER JOIN COVID_NACIONAL_2022 AS b\n",
    "             ON a.index = b.index)\n",
    "     UNION\n",
    "     SELECT \n",
    "         Index,\n",
    "         Nacional\n",
    "     FROM COVID_NACIONAL_2022);"
   ]
  },
  {
   "cell_type": "code",
   "execution_count": null,
   "metadata": {},
   "outputs": [],
   "source": [
    "%%sparksql\n",
    "SELECT \n",
    "    Index,\n",
    "    Nacional\n",
    "FROM COVID_NACIONAL\n",
    "WHERE Index BETWEEN \"2020-01-01\" AND \"2021-12-31\";"
   ]
  },
  {
   "cell_type": "markdown",
   "metadata": {},
   "source": [
    "<p style=\"text-align: center\"><a rel=\"license\" href=\"http://creativecommons.org/licenses/by/4.0/\"><img alt=\"Licencia Creative Commons\" style=\"border-width:0\" src=\"https://i.creativecommons.org/l/by/4.0/80x15.png\" /></a><br />Esta obra está bajo una <a rel=\"license\" href=\"http://creativecommons.org/licenses/by/4.0/\">Licencia Creative Commons Atribución 4.0 Internacional</a>.</p>\n",
    "<p style=\"text-align: center\">&copy; José Luis Chiquete Valdivieso. 2023.</p>"
   ]
  }
 ],
 "metadata": {
  "kernelspec": {
   "display_name": "Python 3 (ipykernel)",
   "language": "python",
   "name": "python3"
  },
  "language_info": {
   "codemirror_mode": {
    "name": "ipython",
    "version": 3
   },
   "file_extension": ".py",
   "mimetype": "text/x-python",
   "name": "python",
   "nbconvert_exporter": "python",
   "pygments_lexer": "ipython3",
   "version": "3.10.9"
  }
 },
 "nbformat": 4,
 "nbformat_minor": 4
}
