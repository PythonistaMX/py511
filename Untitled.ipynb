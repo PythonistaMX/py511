{
 "cells": [
  {
   "cell_type": "code",
   "execution_count": null,
   "id": "9e3ac94e",
   "metadata": {},
   "outputs": [],
   "source": [
    "import pandas as pd\n",
    "from datetime import datetime"
   ]
  },
  {
   "cell_type": "code",
   "execution_count": null,
   "id": "77fa9bc0",
   "metadata": {
    "scrolled": true
   },
   "outputs": [],
   "source": [
    "df = pd.read_csv(\"data/Casos_Diarios_Estado_Nacional_Confirmados_20230308.csv\").set_index('nombre').transpose()[2:]\n",
    "df.index = pd.to_datetime(df.index, dayfirst=True)\n",
    "df.index.name = 'index'"
   ]
  },
  {
   "cell_type": "code",
   "execution_count": null,
   "id": "b12c9713",
   "metadata": {},
   "outputs": [],
   "source": [
    "df = df[df.index < datetime(2023,1,1)]\n",
    "df = df[df.index > datetime(2021,12,31)]\n",
    "df.to_parquet('data/data_covid_2022.parquet')"
   ]
  },
  {
   "cell_type": "code",
   "execution_count": null,
   "id": "2fb08a55",
   "metadata": {},
   "outputs": [],
   "source": [
    "pd.read_parquet('data/data_covid.parquet')"
   ]
  },
  {
   "cell_type": "code",
   "execution_count": null,
   "id": "ab15db9d",
   "metadata": {},
   "outputs": [],
   "source": [
    "pd.read_parquet('data/data_covid_2022.parquet')"
   ]
  }
 ],
 "metadata": {
  "kernelspec": {
   "display_name": "Python 3 (ipykernel)",
   "language": "python",
   "name": "python3"
  },
  "language_info": {
   "codemirror_mode": {
    "name": "ipython",
    "version": 3
   },
   "file_extension": ".py",
   "mimetype": "text/x-python",
   "name": "python",
   "nbconvert_exporter": "python",
   "pygments_lexer": "ipython3",
   "version": "3.10.9"
  }
 },
 "nbformat": 4,
 "nbformat_minor": 5
}
