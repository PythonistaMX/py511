{
 "cells": [
  {
   "cell_type": "markdown",
   "metadata": {},
   "source": [
    "[![pythonista](img/pythonista.png)](https://www.pythonista.io)"
   ]
  },
  {
   "cell_type": "markdown",
   "metadata": {
    "tags": []
   },
   "source": [
    "# ```JOINS```."
   ]
  },
  {
   "cell_type": "markdown",
   "metadata": {},
   "source": [
    "https://spark.apache.org/docs/latest/sql-ref-syntax-qry-select-join.html"
   ]
  },
  {
   "cell_type": "code",
   "execution_count": null,
   "metadata": {},
   "outputs": [],
   "source": [
    "import pandas as pd\n",
    "from pyspark.sql import SparkSession\n",
    "spark = SparkSession.builder.appName(\"JOINS\").getOrCreate()\n",
    "ct = spark.sparkContext"
   ]
  },
  {
   "cell_type": "code",
   "execution_count": null,
   "metadata": {},
   "outputs": [],
   "source": [
    "spark.createDataFrame(pd.DataFrame({'animal':['zorro', \n",
    "                     'conejo', \n",
    "                     'liebre', \n",
    "                     'halcón'],\n",
    "          'poblacion':[12,\n",
    "                      436,\n",
    "                      315,\n",
    "                      7]})).createOrReplaceTempView('zona_1')"
   ]
  },
  {
   "cell_type": "code",
   "execution_count": null,
   "metadata": {},
   "outputs": [],
   "source": [
    "spark.sql('''SELECT * \n",
    "             FROM zona_1''').toPandas()"
   ]
  },
  {
   "cell_type": "code",
   "execution_count": null,
   "metadata": {},
   "outputs": [],
   "source": [
    "spark.createDataFrame(pd.DataFrame({'animal':['conejo',\n",
    "                                  'jabalí',\n",
    "                                  'venado',\n",
    "                                  'jaguar',\n",
    "                                  'águila',\n",
    "                                  'halcón'],\n",
    "                        'poblacion':[2015,\n",
    "                                     450,\n",
    "                                     56,\n",
    "                                     2,\n",
    "                                     30,\n",
    "                                     25]})).createOrReplaceTempView('zona_2')"
   ]
  },
  {
   "cell_type": "code",
   "execution_count": null,
   "metadata": {},
   "outputs": [],
   "source": [
    "spark.sql('''SELECT * \n",
    "             FROM zona_2''').toPandas()"
   ]
  },
  {
   "cell_type": "markdown",
   "metadata": {},
   "source": [
    "### ```JOIN```"
   ]
  },
  {
   "cell_type": "code",
   "execution_count": null,
   "metadata": {},
   "outputs": [],
   "source": [
    "spark.sql('''SELECT a.animal, a.poblacion \n",
    "               FROM zona_1 AS a\n",
    "               JOIN zona_2 AS b\n",
    "                 ON a.animal = b.animal''').toPandas()"
   ]
  },
  {
   "cell_type": "markdown",
   "metadata": {},
   "source": [
    "### ```INNER JOIN```"
   ]
  },
  {
   "cell_type": "code",
   "execution_count": null,
   "metadata": {
    "scrolled": true
   },
   "outputs": [],
   "source": [
    "spark.sql('''SELECT a.animal, a.poblacion \n",
    "               FROM zona_1 AS a\n",
    "               INNER JOIN zona_2 AS b\n",
    "                 ON a.animal = b.animal''').toPandas()"
   ]
  },
  {
   "cell_type": "code",
   "execution_count": null,
   "metadata": {},
   "outputs": [],
   "source": [
    "spark.sql('''SELECT b.animal, b.poblacion \n",
    "               FROM zona_1 AS a\n",
    "               INNER JOIN zona_2 AS b\n",
    "                 ON a.animal = b.animal''').toPandas()"
   ]
  },
  {
   "cell_type": "markdown",
   "metadata": {},
   "source": [
    "### ```LEFT JOIN```"
   ]
  },
  {
   "cell_type": "code",
   "execution_count": null,
   "metadata": {
    "scrolled": true
   },
   "outputs": [],
   "source": [
    "spark.sql('''SELECT a.animal, a.poblacion \n",
    "               FROM zona_1 AS a\n",
    "               LEFT JOIN zona_2 AS b\n",
    "                 ON a.animal = b.animal''').toPandas()"
   ]
  },
  {
   "cell_type": "code",
   "execution_count": null,
   "metadata": {},
   "outputs": [],
   "source": [
    "spark.sql('''SELECT b.animal, b.poblacion \n",
    "               FROM zona_1 AS a\n",
    "               LEFT JOIN zona_2 AS b\n",
    "                 ON a.animal = b.animal''').toPandas()"
   ]
  },
  {
   "cell_type": "markdown",
   "metadata": {},
   "source": [
    "### ```RIGHT JOIN```"
   ]
  },
  {
   "cell_type": "code",
   "execution_count": null,
   "metadata": {},
   "outputs": [],
   "source": [
    "spark.sql('''SELECT a.animal, a.poblacion \n",
    "               FROM zona_1 AS a\n",
    "               RIGHT JOIN zona_2 AS b\n",
    "                 ON a.animal = b.animal''').toPandas()"
   ]
  },
  {
   "cell_type": "code",
   "execution_count": null,
   "metadata": {
    "scrolled": true
   },
   "outputs": [],
   "source": [
    "spark.sql('''SELECT b.animal, b.poblacion \n",
    "               FROM zona_1 AS a\n",
    "               RIGHT JOIN zona_2 AS b\n",
    "                 ON a.animal = b.animal''').toPandas()"
   ]
  },
  {
   "cell_type": "markdown",
   "metadata": {},
   "source": [
    "### ```FULL OUTER JOIN```"
   ]
  },
  {
   "cell_type": "code",
   "execution_count": null,
   "metadata": {
    "scrolled": false
   },
   "outputs": [],
   "source": [
    "spark.sql('''SELECT a.animal, a.poblacion \n",
    "               FROM zona_1 AS a\n",
    "               FULL OUTER JOIN zona_2 AS b\n",
    "                 ON a.animal = b.animal''').toPandas()"
   ]
  },
  {
   "cell_type": "code",
   "execution_count": null,
   "metadata": {},
   "outputs": [],
   "source": [
    "spark.sql('''SELECT b.animal, b.poblacion \n",
    "               FROM zona_1 AS a\n",
    "               FULL OUTER JOIN zona_2 AS b\n",
    "                 ON a.animal = b.animal''').toPandas()"
   ]
  },
  {
   "cell_type": "markdown",
   "metadata": {},
   "source": [
    "### ```LEFT SEMI JOIN```"
   ]
  },
  {
   "cell_type": "code",
   "execution_count": null,
   "metadata": {
    "scrolled": true
   },
   "outputs": [],
   "source": [
    "spark.sql('''SELECT a.animal, a.poblacion \n",
    "               FROM zona_1 AS a\n",
    "               LEFT SEMI JOIN zona_2 AS b\n",
    "                 ON a.animal = b.animal''').toPandas()"
   ]
  },
  {
   "cell_type": "code",
   "execution_count": null,
   "metadata": {},
   "outputs": [],
   "source": [
    "spark.sql('''SELECT b.animal, b.poblacion \n",
    "               FROM zona_1 AS a\n",
    "               LEFT SEMI JOIN zona_2 AS b\n",
    "                 ON a.animal = b.animal''').toPandas()"
   ]
  },
  {
   "cell_type": "markdown",
   "metadata": {},
   "source": [
    "### ```LEFT ANTI JOIN```"
   ]
  },
  {
   "cell_type": "code",
   "execution_count": null,
   "metadata": {
    "scrolled": true
   },
   "outputs": [],
   "source": [
    "spark.sql('''SELECT a.animal, a.poblacion \n",
    "               FROM zona_1 AS a\n",
    "               LEFT ANTI JOIN zona_2 AS b\n",
    "                 ON a.animal = b.animal''').toPandas()"
   ]
  },
  {
   "cell_type": "markdown",
   "metadata": {},
   "source": [
    "<p style=\"text-align: center\"><a rel=\"license\" href=\"http://creativecommons.org/licenses/by/4.0/\"><img alt=\"Licencia Creative Commons\" style=\"border-width:0\" src=\"https://i.creativecommons.org/l/by/4.0/80x15.png\" /></a><br />Esta obra está bajo una <a rel=\"license\" href=\"http://creativecommons.org/licenses/by/4.0/\">Licencia Creative Commons Atribución 4.0 Internacional</a>.</p>\n",
    "<p style=\"text-align: center\">&copy; José Luis Chiquete Valdivieso. 2023.</p>"
   ]
  }
 ],
 "metadata": {
  "kernelspec": {
   "display_name": "Python 3 (ipykernel)",
   "language": "python",
   "name": "python3"
  },
  "language_info": {
   "codemirror_mode": {
    "name": "ipython",
    "version": 3
   },
   "file_extension": ".py",
   "mimetype": "text/x-python",
   "name": "python",
   "nbconvert_exporter": "python",
   "pygments_lexer": "ipython3",
   "version": "3.10.6"
  }
 },
 "nbformat": 4,
 "nbformat_minor": 4
}
