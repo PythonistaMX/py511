{
 "cells": [
  {
   "cell_type": "markdown",
   "metadata": {},
   "source": [
    "[![pythonista](img/pythonista.png)](https://www.pythonista.io)"
   ]
  },
  {
   "cell_type": "markdown",
   "metadata": {
    "tags": []
   },
   "source": [
    "# Tipos de datos básicos."
   ]
  },
  {
   "cell_type": "markdown",
   "metadata": {},
   "source": [
    "https://spark.apache.org/docs/latest/sql-ref-datatypes.html#tab_SQL_0"
   ]
  },
  {
   "cell_type": "code",
   "execution_count": null,
   "metadata": {},
   "outputs": [],
   "source": [
    "from pyspark.sql import SparkSession\n",
    "spark = SparkSession.builder.appName(\"Tipos de datos\").getOrCreate()\n",
    "ct = spark.sparkContext"
   ]
  },
  {
   "cell_type": "markdown",
   "metadata": {},
   "source": [
    "\n",
    "|Tipo |\tSQL|\n",
    "|:--------:|:--------|\n",
    "|BooleanType|```BOOLEAN```|\n",
    "|ByteType|```BYTE```, ```TINYINT```|\n",
    "|ShortType|```SHORT```, ```SMALLINT```|\n",
    "|IntegerType|```INT```, ```INTEGER```|\n",
    "|LongType|```LONG```, ```BIGINT```|\n",
    "|FloatType|```FLOAT```, ```REAL```|\n",
    "|DoubleType|```DOUBLE```|\n",
    "|DateType|```DATE```|\n",
    "|TimestampType| ```TIMESTAMP```|\n",
    "|StringType|```STRING```|\n",
    "|BinaryType|```BINARY```|\n",
    "|DecimalType|```DECIMAL```, ```DEC```, ```NUMERIC```|\n",
    "|YearMonthIntervalType|```INTERVAL YEAR```, ```INTERVAL YEAR TO MONTH```, ```INTERVAL MONTH```|\n",
    "|DayTimeIntervalType|```INTERVAL DAY```, ```INTERVAL DAY TO HOUR```, ```INTERVAL DAY TO MINUTE```, ```INTERVAL DAY TO SECOND```, ```INTERVAL HOUR```, ```INTERVAL HOUR TO MINUTE```, ```INTERVAL HOUR TO SECOND```, ```INTERVAL MINUTE```, ```INTERVAL MINUTE TO SECOND```, ```INTERVAL SECOND```|\n",
    "|ArrayType|```ARRAY<element_type>```|\n",
    "|StructType|```STRUCT<field1_name: field1_type, field2_name: field2_type, …>```|\n",
    "|MapType|```MAP<key_type, value_type>```|"
   ]
  },
  {
   "cell_type": "markdown",
   "metadata": {},
   "source": [
    "## Tipos de datos Especiales.\n",
    "\n",
    "* Infinito\n",
    "* ```NaN```"
   ]
  },
  {
   "cell_type": "markdown",
   "metadata": {},
   "source": [
    "https://spark.apache.org/docs/latest/sql-ref-datatypes.html#floating-point-special-values"
   ]
  },
  {
   "cell_type": "code",
   "execution_count": null,
   "metadata": {},
   "outputs": [],
   "source": [
    "df = spark.read.parquet('data/data_covid.parquet')\n",
    "df.createOrReplaceTempView(\"COVID_NACIONAL\")"
   ]
  },
  {
   "cell_type": "code",
   "execution_count": null,
   "metadata": {
    "scrolled": false
   },
   "outputs": [],
   "source": [
    "spark.sql('''DESCRIBE TABLE COVID_NACIONAL''').toPandas()"
   ]
  },
  {
   "cell_type": "markdown",
   "metadata": {},
   "source": [
    "## Funciones de conversión."
   ]
  },
  {
   "cell_type": "markdown",
   "metadata": {},
   "source": [
    "https://spark.apache.org/docs/latest/sql-ref-functions-builtin.html#conversion-functions"
   ]
  },
  {
   "cell_type": "markdown",
   "metadata": {},
   "source": [
    "### La función ```CAST()```."
   ]
  },
  {
   "cell_type": "code",
   "execution_count": null,
   "metadata": {},
   "outputs": [],
   "source": [
    "spark.sql('''SELECT CAST(Index AS STRING)\n",
    "            FROM COVID_NACIONAL''').toPandas()"
   ]
  },
  {
   "cell_type": "code",
   "execution_count": null,
   "metadata": {},
   "outputs": [],
   "source": [
    "spark.sql('''SELECT CAST(Index AS STRING)\n",
    "            FROM COVID_NACIONAL''').toPandas()"
   ]
  },
  {
   "cell_type": "code",
   "execution_count": null,
   "metadata": {},
   "outputs": [],
   "source": [
    "spark.sql('''SELECT CAST(Index AS DATE)\n",
    "            FROM COVID_NACIONAL''').toPandas()"
   ]
  },
  {
   "cell_type": "code",
   "execution_count": null,
   "metadata": {},
   "outputs": [],
   "source": [
    "spark.sql('''SELECT CAST(Index AS BOOLEAN)\n",
    "            FROM COVID_NACIONAL''').toPandas()"
   ]
  },
  {
   "cell_type": "markdown",
   "metadata": {},
   "source": [
    "<p style=\"text-align: center\"><a rel=\"license\" href=\"http://creativecommons.org/licenses/by/4.0/\"><img alt=\"Licencia Creative Commons\" style=\"border-width:0\" src=\"https://i.creativecommons.org/l/by/4.0/80x15.png\" /></a><br />Esta obra está bajo una <a rel=\"license\" href=\"http://creativecommons.org/licenses/by/4.0/\">Licencia Creative Commons Atribución 4.0 Internacional</a>.</p>\n",
    "<p style=\"text-align: center\">&copy; José Luis Chiquete Valdivieso. 2023.</p>"
   ]
  }
 ],
 "metadata": {
  "kernelspec": {
   "display_name": "Python 3 (ipykernel)",
   "language": "python",
   "name": "python3"
  },
  "language_info": {
   "codemirror_mode": {
    "name": "ipython",
    "version": 3
   },
   "file_extension": ".py",
   "mimetype": "text/x-python",
   "name": "python",
   "nbconvert_exporter": "python",
   "pygments_lexer": "ipython3",
   "version": "3.10.6"
  }
 },
 "nbformat": 4,
 "nbformat_minor": 4
}
