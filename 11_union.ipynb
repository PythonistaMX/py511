{
 "cells": [
  {
   "cell_type": "markdown",
   "metadata": {},
   "source": [
    "[![pythonista](img/pythonista.png)](https://www.pythonista.io)"
   ]
  },
  {
   "cell_type": "markdown",
   "metadata": {
    "tags": []
   },
   "source": [
    "# Uso de ```UNION```."
   ]
  },
  {
   "cell_type": "markdown",
   "metadata": {},
   "source": [
    "https://spark.apache.org/docs/latest/sql-ref-syntax-qry-select-setops.html"
   ]
  },
  {
   "cell_type": "code",
   "execution_count": null,
   "metadata": {},
   "outputs": [],
   "source": [
    "from pyspark.sql import SparkSession\n",
    "spark = SparkSession.builder.appName(\"Intro a UNION\").getOrCreate()\n",
    "ct = spark.sparkContext"
   ]
  },
  {
   "cell_type": "code",
   "execution_count": null,
   "metadata": {},
   "outputs": [],
   "source": [
    "spark.read.parquet('data/data_covid.parquet').createOrReplaceTempView(\"COVID_NACIONAL\")\n",
    "spark.read.parquet('data/data_covid_2022.parquet').createOrReplaceTempView(\"COVID_NACIONAL_2022\")"
   ]
  },
  {
   "cell_type": "code",
   "execution_count": null,
   "metadata": {},
   "outputs": [],
   "source": [
    "spark.sql('''SELECT Index, Nacional FROM COVID_NACIONAL;''').toPandas()"
   ]
  },
  {
   "cell_type": "code",
   "execution_count": null,
   "metadata": {},
   "outputs": [],
   "source": [
    "spark.sql('''SELECT Index, Nacional FROM COVID_NACIONAL_2022;''').toPandas()"
   ]
  },
  {
   "cell_type": "code",
   "execution_count": null,
   "metadata": {},
   "outputs": [],
   "source": [
    "spark.sql('''SELECT Index, Nacional FROM COVID_NACIONAL\n",
    "             UNION\n",
    "             SELECT Index, Nacional FROM COVID_NACIONAL_2022;''').toPandas()"
   ]
  },
  {
   "cell_type": "code",
   "execution_count": null,
   "metadata": {},
   "outputs": [],
   "source": [
    "795 + 365"
   ]
  },
  {
   "cell_type": "code",
   "execution_count": null,
   "metadata": {},
   "outputs": [],
   "source": [
    "spark.sql('''WITH NACIONAL AS (SELECT Index, Nacional FROM COVID_NACIONAL\n",
    "             UNION\n",
    "             SELECT Index, Nacional FROM COVID_NACIONAL_2022)\n",
    "             SELECT *\n",
    "             FROM NACIONAL\n",
    "             WHERE Index BETWEEN \"2022-01-01\" AND \"2022-12-31\";\n",
    "             ''').toPandas()"
   ]
  },
  {
   "cell_type": "code",
   "execution_count": null,
   "metadata": {},
   "outputs": [],
   "source": [
    "spark.sql('''WITH NACIONAL AS (SELECT Index, Nacional FROM COVID_NACIONAL\n",
    "             UNION \n",
    "             SELECT Index, Nacional FROM COVID_NACIONAL_2022)\n",
    "             SELECT *\n",
    "             FROM NACIONAL\n",
    "             WHERE Index = \"2022-03-15\";\n",
    "             ''').toPandas()"
   ]
  },
  {
   "cell_type": "code",
   "execution_count": null,
   "metadata": {},
   "outputs": [],
   "source": [
    "spark.sql('''WITH NACIONAL AS (SELECT Index, Nacional FROM COVID_NACIONAL\n",
    "             UNION DISTINCT\n",
    "             SELECT Index, Nacional FROM COVID_NACIONAL_2022)\n",
    "             SELECT *\n",
    "             FROM NACIONAL\n",
    "             WHERE Index BETWEEN \"2022-01-01\" AND \"2022-12-31\"\n",
    "             ORDER BY Index;\n",
    "             ''').toPandas()"
   ]
  },
  {
   "cell_type": "code",
   "execution_count": null,
   "metadata": {},
   "outputs": [],
   "source": [
    "spark.sql('''WITH NACIONAL AS (\n",
    "                 SELECT Index, Nacional \n",
    "                 FROM COVID_NACIONAL\n",
    "                 WHERE Index < \"2022-01-01\"\n",
    "             UNION \n",
    "                 SELECT Index, Nacional \n",
    "                 FROM COVID_NACIONAL_2022)\n",
    "             SELECT *\n",
    "             FROM NACIONAL\n",
    "             WHERE Index BETWEEN \"2022-01-01\" AND \"2022-12-31\";\n",
    "             ''').toPandas()"
   ]
  },
  {
   "cell_type": "markdown",
   "metadata": {},
   "source": [
    "<p style=\"text-align: center\"><a rel=\"license\" href=\"http://creativecommons.org/licenses/by/4.0/\"><img alt=\"Licencia Creative Commons\" style=\"border-width:0\" src=\"https://i.creativecommons.org/l/by/4.0/80x15.png\" /></a><br />Esta obra está bajo una <a rel=\"license\" href=\"http://creativecommons.org/licenses/by/4.0/\">Licencia Creative Commons Atribución 4.0 Internacional</a>.</p>\n",
    "<p style=\"text-align: center\">&copy; José Luis Chiquete Valdivieso. 2023.</p>"
   ]
  }
 ],
 "metadata": {
  "kernelspec": {
   "display_name": "Python 3 (ipykernel)",
   "language": "python",
   "name": "python3"
  },
  "language_info": {
   "codemirror_mode": {
    "name": "ipython",
    "version": 3
   },
   "file_extension": ".py",
   "mimetype": "text/x-python",
   "name": "python",
   "nbconvert_exporter": "python",
   "pygments_lexer": "ipython3",
   "version": "3.10.9"
  }
 },
 "nbformat": 4,
 "nbformat_minor": 4
}
