{
 "cells": [
  {
   "cell_type": "markdown",
   "metadata": {},
   "source": [
    "[![pythonista](img/pythonista.png)](https://www.pythonista.io)"
   ]
  },
  {
   "cell_type": "markdown",
   "metadata": {
    "tags": []
   },
   "source": [
    "# Las claúsulas `PIVOT` y `UNPIVOT`."
   ]
  },
  {
   "cell_type": "code",
   "execution_count": 2,
   "metadata": {},
   "outputs": [],
   "source": [
    "from pyspark.sql import SparkSession\n",
    "import pandas as pd\n",
    "import numpy as np\n",
    "spark = SparkSession.builder.appName(\"pivot y unpivot\").getOrCreate()\n",
    "ct = spark.sparkContext\n",
    "%load_ext sparksql_magic"
   ]
  },
  {
   "cell_type": "markdown",
   "metadata": {},
   "source": [
    "## La claúsula `PIVOT`."
   ]
  },
  {
   "cell_type": "markdown",
   "metadata": {},
   "source": [
    "La claúsula `PIVOT` permite generar nuevas estructuras tabulares, mediante la creación de nuevas columnas mediante agrupación y funciones de agregación.\n",
    "\n",
    "```\n",
    "SELECT \n",
    "    <col_pref_suf_1>,\n",
    "    <col_pref_suf_2>,\n",
    "    ...\n",
    "    ... \n",
    "    <col_pref_suf_n>\n",
    "FROM <fuente>\n",
    "PIVOT(\n",
    "    <func_1>(<col_agr_1>) AS <sufijo_1>,\n",
    "    <func_2>(<col_agr_2>) AS <sufijo_2>,\n",
    "    ...\n",
    "    ...\n",
    "    <func_n>(<col_agr_n>) AS <sufijo_n>\n",
    "    FOR <col_grp>\n",
    "    IN (\n",
    "         <dato_pivote_1> AS prefijo_1>,\n",
    "         <dato_pivote_2> AS prefijo_2>,\n",
    "         ...\n",
    "         ...\n",
    "         <dato_pivote_3> AS prefijo_3>\n",
    "         )\n",
    "    )\n",
    "```\n",
    "\n",
    "Donde:\n",
    "\n",
    "* `<fuente>` Es la fuente datos.\n",
    "* `<func_x>` Es una función de agregación.\n",
    "* `<col_agr_x>` Es una columna a la que se le aplicará una función de agregación.\n",
    "* `<sufijo_x>` Es una cadena de caracteres que se utilizará como sufijo del nombre de las nuevas columnas.\n",
    "* `<col_grp>` Es la columna a partir del cual se realizará un agrupamiento similar a `GROUP BY`.\n",
    "* `<dato_pivote_x>` Es un dato dentro de `<col_grp>` que será agrupado.\n",
    "* `<prefijo_x>` Es una cadena de caracteres que se utilizará como prefijo del nombre de las nuevas columnas.\n",
    "\n",
    "    Para poder realizar la agrupación, es necesario que el  contenido de los campos distintos a las columnas utilizadas por `PIVOT` sean iguales.\n",
    "\n",
    "La documentación esta disponible en:\n",
    "\n",
    "* https://spark.apache.org/docs/latest/sql-ref-syntax-qry-select-pivot.html"
   ]
  },
  {
   "cell_type": "markdown",
   "metadata": {},
   "source": [
    "## Ejemplos ilustrativos de `PIVOT`."
   ]
  },
  {
   "cell_type": "markdown",
   "metadata": {},
   "source": [
    "### Caso de un censo simple."
   ]
  },
  {
   "cell_type": "markdown",
   "metadata": {},
   "source": [
    "* Se creará la tabla `censo simple` en la que existen las columnas:\n",
    "    * `region`, la cual contiene los valores agrupables:\n",
    "        * `Norte`\n",
    "        * `Sur`\n",
    "        * `Este`\n",
    "        * `Oeste`\n",
    "    * `conejos`, la cual contiene números enteros."
   ]
  },
  {
   "cell_type": "code",
   "execution_count": 3,
   "metadata": {
    "scrolled": true
   },
   "outputs": [
    {
     "name": "stderr",
     "output_type": "stream",
     "text": [
      "/opt/conda/lib/python3.11/site-packages/pyspark/sql/pandas/conversion.py:479: FutureWarning: is_datetime64tz_dtype is deprecated and will be removed in a future version. Check `isinstance(dtype, pd.DatetimeTZDtype)` instead.\n",
      "  if should_localize and is_datetime64tz_dtype(s.dtype) and s.dt.tz is not None:\n"
     ]
    }
   ],
   "source": [
    "(spark.createDataFrame(pd.DataFrame({\n",
    "    'region':(\n",
    "        'Norte',\n",
    "        'Sur',\n",
    "        'Este',\n",
    "        'Oeste',\n",
    "        'Norte',\n",
    "        'Este',\n",
    "        'Norte',\n",
    "        'Sur'),\n",
    "    'conejos':(\n",
    "        153, \n",
    "        289,\n",
    "        35,\n",
    "        215,\n",
    "        91,\n",
    "        52,\n",
    "        128,\n",
    "        94\n",
    "    )\n",
    "}))\n",
    " .createOrReplaceTempView('censo_simple'))"
   ]
  },
  {
   "cell_type": "code",
   "execution_count": 4,
   "metadata": {
    "scrolled": true
   },
   "outputs": [
    {
     "data": {
      "text/html": [
       "<table><tr style=\"border-bottom: 1px solid\"><td style=\"font-weight: bold\">region</td><td style=\"font-weight: bold\">conejos</td></tr><tr><td>Norte</td><td>153</td></tr><tr><td>Sur</td><td>289</td></tr><tr><td>Este</td><td>35</td></tr><tr><td>Oeste</td><td>215</td></tr><tr><td>Norte</td><td>91</td></tr><tr><td>Este</td><td>52</td></tr><tr><td>Norte</td><td>128</td></tr><tr><td>Sur</td><td>94</td></tr></table>"
      ],
      "text/plain": [
       "<IPython.core.display.HTML object>"
      ]
     },
     "execution_count": 4,
     "metadata": {},
     "output_type": "execute_result"
    }
   ],
   "source": [
    "%%sparksql\n",
    "SELECT * \n",
    "FROM censo_simple;"
   ]
  },
  {
   "cell_type": "markdown",
   "metadata": {},
   "source": [
    "* La siguiente consulta creará una tabla con las columnas:\n",
    "    * Norte\n",
    "    * Sur\n",
    "    * Este\n",
    "    * Oeste\n",
    "* Cada columna contendrá la suma (al apicarse la función `sum()`) de los valores de la columna `conejos` agrupados."
   ]
  },
  {
   "cell_type": "code",
   "execution_count": 5,
   "metadata": {
    "scrolled": true
   },
   "outputs": [
    {
     "name": "stdout",
     "output_type": "stream",
     "text": [
      "create temporary view `poblacion_simple`\n"
     ]
    },
    {
     "data": {
      "text/html": [
       "<table><tr style=\"border-bottom: 1px solid\"><td style=\"font-weight: bold\">Norte</td><td style=\"font-weight: bold\">Sur</td><td style=\"font-weight: bold\">Este</td><td style=\"font-weight: bold\">Oeste</td></tr><tr><td>372</td><td>383</td><td>87</td><td>215</td></tr></table>"
      ],
      "text/plain": [
       "<IPython.core.display.HTML object>"
      ]
     },
     "execution_count": 5,
     "metadata": {},
     "output_type": "execute_result"
    }
   ],
   "source": [
    "%%sparksql --view poblacion_simple\n",
    "SELECT Norte, Sur, Este, Oeste\n",
    "FROM censo_simple\n",
    "PIVOT(\n",
    "    SUM(conejos) \n",
    "    FOR region \n",
    "    IN (\n",
    "        'Norte', \n",
    "        'Sur', \n",
    "        'Este', \n",
    "        'Oeste'\n",
    "    )\n",
    ");"
   ]
  },
  {
   "cell_type": "markdown",
   "metadata": {},
   "source": [
    "### Caso de un censo de múltiples especies."
   ]
  },
  {
   "cell_type": "markdown",
   "metadata": {},
   "source": [
    "* Se creará la tabla `censo` en la que existen las columnas:\n",
    "    * `region`, la cual contiene los valores agrupables:\n",
    "        * `Norte`\n",
    "        * `Sur`\n",
    "        * `Este`\n",
    "        * `Oeste`\n",
    "    * `conejos`, la cual contiene números enteros.\n",
    "    * `liebres`, la cual contiene números enteros."
   ]
  },
  {
   "cell_type": "code",
   "execution_count": 6,
   "metadata": {},
   "outputs": [],
   "source": [
    "(spark.createDataFrame(pd.DataFrame({\n",
    "    'region':(\n",
    "        'Norte',\n",
    "        'Sur',\n",
    "        'Este',\n",
    "        'Oeste',\n",
    "        'Norte',\n",
    "        'Este',\n",
    "        'Norte',\n",
    "        'Sur'),\n",
    "    'conejos':(\n",
    "        153, \n",
    "        289,\n",
    "        35,\n",
    "        215,\n",
    "        91,\n",
    "        52,\n",
    "        128,\n",
    "        94),\n",
    "    'liebres':(\n",
    "        25,\n",
    "        56,\n",
    "        63,\n",
    "        12,\n",
    "        25,\n",
    "        29,\n",
    "        23,\n",
    "        32)\n",
    "})).createOrReplaceTempView('censo'))"
   ]
  },
  {
   "cell_type": "code",
   "execution_count": 7,
   "metadata": {
    "scrolled": true
   },
   "outputs": [
    {
     "data": {
      "text/html": [
       "<table><tr style=\"border-bottom: 1px solid\"><td style=\"font-weight: bold\">region</td><td style=\"font-weight: bold\">conejos</td><td style=\"font-weight: bold\">liebres</td></tr><tr><td>Norte</td><td>153</td><td>25</td></tr><tr><td>Sur</td><td>289</td><td>56</td></tr><tr><td>Este</td><td>35</td><td>63</td></tr><tr><td>Oeste</td><td>215</td><td>12</td></tr><tr><td>Norte</td><td>91</td><td>25</td></tr><tr><td>Este</td><td>52</td><td>29</td></tr><tr><td>Norte</td><td>128</td><td>23</td></tr><tr><td>Sur</td><td>94</td><td>32</td></tr></table>"
      ],
      "text/plain": [
       "<IPython.core.display.HTML object>"
      ]
     },
     "execution_count": 7,
     "metadata": {},
     "output_type": "execute_result"
    }
   ],
   "source": [
    "%%sparksql\n",
    "SELECT * \n",
    "FROM censo;"
   ]
  },
  {
   "cell_type": "markdown",
   "metadata": {},
   "source": [
    "* La siguiente celda ejecutará una consulta con `PIVOT` aplicando la función de agregación `SUM()` sobre `conejos` únicamente.\n",
    "* `PIVOT` sólo puede agrupar registros idénticos, pero ninguno de los datos en la columna `liebres` es igual."
   ]
  },
  {
   "cell_type": "code",
   "execution_count": 8,
   "metadata": {},
   "outputs": [
    {
     "data": {
      "text/html": [
       "<table><tr style=\"border-bottom: 1px solid\"><td style=\"font-weight: bold\">Norte</td><td style=\"font-weight: bold\">Sur</td><td style=\"font-weight: bold\">Este</td><td style=\"font-weight: bold\">Oeste</td></tr><tr><td>null</td><td>null</td><td>52</td><td>null</td></tr><tr><td>null</td><td>94</td><td>null</td><td>null</td></tr><tr><td>244</td><td>null</td><td>null</td><td>null</td></tr><tr><td>null</td><td>null</td><td>35</td><td>null</td></tr><tr><td>null</td><td>289</td><td>null</td><td>null</td></tr><tr><td>null</td><td>null</td><td>null</td><td>215</td></tr><tr><td>128</td><td>null</td><td>null</td><td>null</td></tr></table>"
      ],
      "text/plain": [
       "<IPython.core.display.HTML object>"
      ]
     },
     "execution_count": 8,
     "metadata": {},
     "output_type": "execute_result"
    }
   ],
   "source": [
    "%%sparksql\n",
    "SELECT Norte, Sur, Este, Oeste\n",
    "FROM censo\n",
    "PIVOT(\n",
    "    SUM(conejos) \n",
    "    FOR region \n",
    "    IN (\n",
    "        'Norte', \n",
    "        'Sur', \n",
    "        'Este', \n",
    "        'Oeste'\n",
    "    )\n",
    ");"
   ]
  },
  {
   "cell_type": "markdown",
   "metadata": {},
   "source": [
    "* La siguiente celda ejecutará una consulta con `PIVOT` aplicando la función de agregación `SUM()` sobre `conejos` y la función de agregación `SUM()` sobre `liebres`.\n",
    "* Se utilizan alias para renombrar las tablas."
   ]
  },
  {
   "cell_type": "code",
   "execution_count": 9,
   "metadata": {},
   "outputs": [
    {
     "name": "stdout",
     "output_type": "stream",
     "text": [
      "create temporary view `poblacion`\n"
     ]
    },
    {
     "data": {
      "text/html": [
       "<table><tr style=\"border-bottom: 1px solid\"><td style=\"font-weight: bold\">N_c</td><td style=\"font-weight: bold\">S_c</td><td style=\"font-weight: bold\">E_c</td><td style=\"font-weight: bold\">W_c</td><td style=\"font-weight: bold\">N_l</td><td style=\"font-weight: bold\">S_l</td><td style=\"font-weight: bold\">E_l</td><td style=\"font-weight: bold\">W_l</td></tr><tr><td>372</td><td>383</td><td>87</td><td>215</td><td>73</td><td>88</td><td>92</td><td>12</td></tr></table>"
      ],
      "text/plain": [
       "<IPython.core.display.HTML object>"
      ]
     },
     "execution_count": 9,
     "metadata": {},
     "output_type": "execute_result"
    }
   ],
   "source": [
    "%%sparksql --view poblacion\n",
    "SELECT \n",
    "    N_c,\n",
    "    S_c, \n",
    "    E_c,\n",
    "    W_c,\n",
    "    N_l,\n",
    "    S_l,\n",
    "    E_l,\n",
    "    W_l\n",
    "FROM censo\n",
    "PIVOT (\n",
    "    SUM(conejos) as c,\n",
    "    SUM(liebres) as l\n",
    "    FOR region \n",
    "    IN (\n",
    "        'Norte' AS N, \n",
    "        'Sur' AS S, \n",
    "        'Este' AS E, \n",
    "        'Oeste' AS W\n",
    "    )\n",
    ");"
   ]
  },
  {
   "cell_type": "markdown",
   "metadata": {},
   "source": [
    "## La claúsula `UNPIVOT`."
   ]
  },
  {
   "cell_type": "markdown",
   "metadata": {},
   "source": [
    "```\n",
    "SELECT <columnas>\n",
    "FROM <fuente>\n",
    "UNPIVOT (\n",
    "    <columna_data>\n",
    "    FOR <columna_condensada>\n",
    "    IN (\n",
    "        <columna_parcial_1> AS <valor_1>,\n",
    "        <columna_parcial_2> AS <valor_2>,\n",
    "        ...\n",
    "        ...\n",
    "        <columna_parcial_n> AS <valor_n>\n",
    "    )\n",
    ");\n",
    "```\n",
    "\n",
    "Donde:\n",
    "* `<fuente>` es la tabla de rogien de los datos. \n",
    "* `<columna_parcial_i>` es una de varias columna que contiene los datos a consolidar.\n",
    "* `<columna_data>` es el nombre de una nueva columna en la que se consolidarán los datos.\n",
    "* `<columna_condensada>` es el nombre de una nueva columna en la que se distribuirán los nombres de las columnas parciales.\n"
   ]
  },
  {
   "cell_type": "markdown",
   "metadata": {},
   "source": [
    "https://spark.apache.org/docs/latest/sql-ref-syntax-qry-select-unpivot.html"
   ]
  },
  {
   "cell_type": "markdown",
   "metadata": {},
   "source": [
    "## Ejemplos ilustrativos de `UNPIVOT`."
   ]
  },
  {
   "cell_type": "markdown",
   "metadata": {},
   "source": [
    "### Uso de la tabla `poblacion_simple`."
   ]
  },
  {
   "cell_type": "code",
   "execution_count": 10,
   "metadata": {},
   "outputs": [
    {
     "data": {
      "text/html": [
       "<table><tr style=\"border-bottom: 1px solid\"><td style=\"font-weight: bold\">Norte</td><td style=\"font-weight: bold\">Sur</td><td style=\"font-weight: bold\">Este</td><td style=\"font-weight: bold\">Oeste</td></tr><tr><td>372</td><td>383</td><td>87</td><td>215</td></tr></table>"
      ],
      "text/plain": [
       "<IPython.core.display.HTML object>"
      ]
     },
     "execution_count": 10,
     "metadata": {},
     "output_type": "execute_result"
    }
   ],
   "source": [
    "%%sparksql\n",
    "SELECT *\n",
    "FROM poblacion_simple;"
   ]
  },
  {
   "cell_type": "markdown",
   "metadata": {},
   "source": [
    "* La siguiente celda regresará una tabla con las columnas:\n",
    "    * `zona`, con cada zona correspondiente.\n",
    "    * `conejos`, con el consolidado de datos."
   ]
  },
  {
   "cell_type": "code",
   "execution_count": 11,
   "metadata": {
    "scrolled": true
   },
   "outputs": [
    {
     "data": {
      "text/html": [
       "<table><tr style=\"border-bottom: 1px solid\"><td style=\"font-weight: bold\">zona</td><td style=\"font-weight: bold\">conejos</td></tr><tr><td>Norte</td><td>372</td></tr><tr><td>Sur</td><td>383</td></tr><tr><td>Este</td><td>87</td></tr><tr><td>Oeste</td><td>215</td></tr></table>"
      ],
      "text/plain": [
       "<IPython.core.display.HTML object>"
      ]
     },
     "execution_count": 11,
     "metadata": {},
     "output_type": "execute_result"
    }
   ],
   "source": [
    "%%sparksql\n",
    "SELECT *\n",
    "FROM poblacion_simple\n",
    "UNPIVOT (\n",
    "    conejos \n",
    "    FOR zona \n",
    "    IN (\n",
    "        Norte,\n",
    "        Sur,\n",
    "        Este,\n",
    "        Oeste\n",
    "    )\n",
    ");"
   ]
  },
  {
   "cell_type": "markdown",
   "metadata": {},
   "source": [
    "### Uso de la tabla `poblacion`."
   ]
  },
  {
   "cell_type": "code",
   "execution_count": 13,
   "metadata": {},
   "outputs": [
    {
     "data": {
      "text/html": [
       "<table><tr style=\"border-bottom: 1px solid\"><td style=\"font-weight: bold\">N_c</td><td style=\"font-weight: bold\">S_c</td><td style=\"font-weight: bold\">E_c</td><td style=\"font-weight: bold\">W_c</td><td style=\"font-weight: bold\">N_l</td><td style=\"font-weight: bold\">S_l</td><td style=\"font-weight: bold\">E_l</td><td style=\"font-weight: bold\">W_l</td></tr><tr><td>372</td><td>383</td><td>87</td><td>215</td><td>73</td><td>88</td><td>92</td><td>12</td></tr></table>"
      ],
      "text/plain": [
       "<IPython.core.display.HTML object>"
      ]
     },
     "execution_count": 13,
     "metadata": {},
     "output_type": "execute_result"
    }
   ],
   "source": [
    "%%sparksql\n",
    "SELECT *\n",
    "FROM poblacion;"
   ]
  },
  {
   "cell_type": "code",
   "execution_count": null,
   "metadata": {},
   "outputs": [],
   "source": [
    "%%sparksql\n",
    "SELECT *\n",
    "FROM poblacion\n",
    "UNPIVOT (\n",
    "    conejos\n",
    "    FOR zona \n",
    "    IN (\n",
    "        N_c, \n",
    "        S_c,\n",
    "        E_c,\n",
    "        W_c\n",
    "    )\n",
    ");"
   ]
  },
  {
   "cell_type": "code",
   "execution_count": null,
   "metadata": {},
   "outputs": [],
   "source": [
    "%%sparksql\n",
    "SELECT zona, conejos\n",
    "FROM poblacion\n",
    "UNPIVOT (\n",
    "    conejos\n",
    "    FOR zona \n",
    "    IN (\n",
    "        N_c as Norte, \n",
    "        S_c as Sur,\n",
    "        E_c as Este,\n",
    "        W_c as Oeste\n",
    "    )\n",
    ");"
   ]
  },
  {
   "cell_type": "code",
   "execution_count": null,
   "metadata": {},
   "outputs": [],
   "source": [
    "spark.stop()"
   ]
  },
  {
   "cell_type": "markdown",
   "metadata": {},
   "source": [
    "<p style=\"text-align: center\"><a rel=\"license\" href=\"http://creativecommons.org/licenses/by/4.0/\"><img alt=\"Licencia Creative Commons\" style=\"border-width:0\" src=\"https://i.creativecommons.org/l/by/4.0/80x15.png\" /></a><br />Esta obra está bajo una <a rel=\"license\" href=\"http://creativecommons.org/licenses/by/4.0/\">Licencia Creative Commons Atribución 4.0 Internacional</a>.</p>\n",
    "<p style=\"text-align: center\">&copy; José Luis Chiquete Valdivieso. 2023.</p>"
   ]
  }
 ],
 "metadata": {
  "kernelspec": {
   "display_name": "Python 3 (ipykernel)",
   "language": "python",
   "name": "python3"
  },
  "language_info": {
   "codemirror_mode": {
    "name": "ipython",
    "version": 3
   },
   "file_extension": ".py",
   "mimetype": "text/x-python",
   "name": "python",
   "nbconvert_exporter": "python",
   "pygments_lexer": "ipython3",
   "version": "3.11.5"
  }
 },
 "nbformat": 4,
 "nbformat_minor": 4
}
